{
 "cells": [
  {
   "cell_type": "code",
   "execution_count": null,
   "id": "aa3b2bb8",
   "metadata": {
    "papermill": {
     "duration": 0.005516,
     "end_time": "2024-06-22T04:47:14.031136",
     "exception": false,
     "start_time": "2024-06-22T04:47:14.025620",
     "status": "completed"
    },
    "tags": []
   },
   "outputs": [],
   "source": []
  },
  {
   "cell_type": "code",
   "execution_count": 1,
   "id": "548e62b8",
   "metadata": {
    "execution": {
     "iopub.execute_input": "2024-06-22T04:47:14.043085Z",
     "iopub.status.busy": "2024-06-22T04:47:14.042752Z",
     "iopub.status.idle": "2024-06-22T04:47:39.651670Z",
     "shell.execute_reply": "2024-06-22T04:47:39.650355Z"
    },
    "papermill": {
     "duration": 25.617727,
     "end_time": "2024-06-22T04:47:39.653937",
     "exception": false,
     "start_time": "2024-06-22T04:47:14.036210",
     "status": "completed"
    },
    "tags": []
   },
   "outputs": [],
   "source": [
    "!pip install -U -q google-generativeai # Install the Python SDK\n",
    "#!pip -q install groq"
   ]
  },
  {
   "cell_type": "code",
   "execution_count": 2,
   "id": "beb675b1",
   "metadata": {
    "execution": {
     "iopub.execute_input": "2024-06-22T04:47:39.666125Z",
     "iopub.status.busy": "2024-06-22T04:47:39.665777Z",
     "iopub.status.idle": "2024-06-22T04:47:50.385059Z",
     "shell.execute_reply": "2024-06-22T04:47:50.383846Z"
    },
    "papermill": {
     "duration": 10.727793,
     "end_time": "2024-06-22T04:47:50.387359",
     "exception": false,
     "start_time": "2024-06-22T04:47:39.659566",
     "status": "completed"
    },
    "tags": []
   },
   "outputs": [
    {
     "name": "stdout",
     "output_type": "stream",
     "text": [
      "Collecting black\r\n",
      "  Downloading black-24.4.2-cp310-cp310-manylinux_2_17_x86_64.manylinux2014_x86_64.whl.metadata (77 kB)\r\n",
      "\u001b[2K     \u001b[90m━━━━━━━━━━━━━━━━━━━━━━━━━━━━━━━━━━━━━━━━\u001b[0m \u001b[32m77.1/77.1 kB\u001b[0m \u001b[31m3.3 MB/s\u001b[0m eta \u001b[36m0:00:00\u001b[0m\r\n",
      "\u001b[?25hRequirement already satisfied: click>=8.0.0 in /opt/conda/lib/python3.10/site-packages (from black) (8.1.7)\r\n",
      "Requirement already satisfied: mypy-extensions>=0.4.3 in /opt/conda/lib/python3.10/site-packages (from black) (1.0.0)\r\n",
      "Collecting packaging>=22.0 (from black)\r\n",
      "  Downloading packaging-24.1-py3-none-any.whl.metadata (3.2 kB)\r\n",
      "Collecting pathspec>=0.9.0 (from black)\r\n",
      "  Downloading pathspec-0.12.1-py3-none-any.whl.metadata (21 kB)\r\n",
      "Requirement already satisfied: platformdirs>=2 in /opt/conda/lib/python3.10/site-packages (from black) (3.11.0)\r\n",
      "Requirement already satisfied: tomli>=1.1.0 in /opt/conda/lib/python3.10/site-packages (from black) (2.0.1)\r\n",
      "Requirement already satisfied: typing-extensions>=4.0.1 in /opt/conda/lib/python3.10/site-packages (from black) (4.9.0)\r\n",
      "Downloading black-24.4.2-cp310-cp310-manylinux_2_17_x86_64.manylinux2014_x86_64.whl (1.8 MB)\r\n",
      "\u001b[2K   \u001b[90m━━━━━━━━━━━━━━━━━━━━━━━━━━━━━━━━━━━━━━━━\u001b[0m \u001b[32m1.8/1.8 MB\u001b[0m \u001b[31m50.9 MB/s\u001b[0m eta \u001b[36m0:00:00\u001b[0m\r\n",
      "\u001b[?25hDownloading packaging-24.1-py3-none-any.whl (53 kB)\r\n",
      "\u001b[2K   \u001b[90m━━━━━━━━━━━━━━━━━━━━━━━━━━━━━━━━━━━━━━━━\u001b[0m \u001b[32m54.0/54.0 kB\u001b[0m \u001b[31m3.0 MB/s\u001b[0m eta \u001b[36m0:00:00\u001b[0m\r\n",
      "\u001b[?25hDownloading pathspec-0.12.1-py3-none-any.whl (31 kB)\r\n",
      "Installing collected packages: pathspec, packaging, black\r\n",
      "  Attempting uninstall: packaging\r\n",
      "    Found existing installation: packaging 21.3\r\n",
      "    Uninstalling packaging-21.3:\r\n",
      "      Successfully uninstalled packaging-21.3\r\n",
      "\u001b[31mERROR: pip's dependency resolver does not currently take into account all the packages that are installed. This behaviour is the source of the following dependency conflicts.\r\n",
      "keras-cv 0.9.0 requires keras-core, which is not installed.\r\n",
      "keras-nlp 0.12.1 requires keras-core, which is not installed.\r\n",
      "tensorflow-decision-forests 1.8.1 requires wurlitzer, which is not installed.\r\n",
      "google-cloud-bigquery 2.34.4 requires packaging<22.0dev,>=14.3, but you have packaging 24.1 which is incompatible.\r\n",
      "jupyterlab 4.2.1 requires jupyter-lsp>=2.0.0, but you have jupyter-lsp 1.5.1 which is incompatible.\r\n",
      "jupyterlab-lsp 5.1.0 requires jupyter-lsp>=2.0.0, but you have jupyter-lsp 1.5.1 which is incompatible.\r\n",
      "libpysal 4.9.2 requires shapely>=2.0.1, but you have shapely 1.8.5.post1 which is incompatible.\r\n",
      "momepy 0.7.0 requires shapely>=2, but you have shapely 1.8.5.post1 which is incompatible.\r\n",
      "osmnx 1.9.3 requires shapely>=2.0, but you have shapely 1.8.5.post1 which is incompatible.\r\n",
      "spopt 0.6.0 requires shapely>=2.0.1, but you have shapely 1.8.5.post1 which is incompatible.\r\n",
      "tensorflow 2.15.0 requires keras<2.16,>=2.15.0, but you have keras 3.3.3 which is incompatible.\r\n",
      "ydata-profiling 4.6.4 requires numpy<1.26,>=1.16.0, but you have numpy 1.26.4 which is incompatible.\u001b[0m\u001b[31m\r\n",
      "\u001b[0mSuccessfully installed black-24.4.2 packaging-24.1 pathspec-0.12.1\r\n"
     ]
    }
   ],
   "source": [
    "!pip install black"
   ]
  },
  {
   "cell_type": "code",
   "execution_count": 3,
   "id": "70b53f8b",
   "metadata": {
    "execution": {
     "iopub.execute_input": "2024-06-22T04:47:50.400519Z",
     "iopub.status.busy": "2024-06-22T04:47:50.400185Z",
     "iopub.status.idle": "2024-06-22T04:47:51.986570Z",
     "shell.execute_reply": "2024-06-22T04:47:51.985635Z"
    },
    "papermill": {
     "duration": 1.595443,
     "end_time": "2024-06-22T04:47:51.988676",
     "exception": false,
     "start_time": "2024-06-22T04:47:50.393233",
     "status": "completed"
    },
    "tags": []
   },
   "outputs": [],
   "source": [
    "import pandas as pd\n",
    "import numpy as np\n",
    "import json\n",
    "import os\n",
    "import re\n",
    "import google.generativeai as genai"
   ]
  },
  {
   "cell_type": "code",
   "execution_count": null,
   "id": "d4e39212",
   "metadata": {
    "papermill": {
     "duration": 0.005526,
     "end_time": "2024-06-22T04:47:52.000233",
     "exception": false,
     "start_time": "2024-06-22T04:47:51.994707",
     "status": "completed"
    },
    "tags": []
   },
   "outputs": [],
   "source": []
  },
  {
   "cell_type": "markdown",
   "id": "807a2fa2",
   "metadata": {
    "papermill": {
     "duration": 0.005372,
     "end_time": "2024-06-22T04:47:52.011276",
     "exception": false,
     "start_time": "2024-06-22T04:47:52.005904",
     "status": "completed"
    },
    "tags": []
   },
   "source": [
    "## Define API clients"
   ]
  },
  {
   "cell_type": "code",
   "execution_count": 4,
   "id": "765a68a9",
   "metadata": {
    "execution": {
     "iopub.execute_input": "2024-06-22T04:47:52.024385Z",
     "iopub.status.busy": "2024-06-22T04:47:52.023916Z",
     "iopub.status.idle": "2024-06-22T04:47:52.034363Z",
     "shell.execute_reply": "2024-06-22T04:47:52.033338Z"
    },
    "papermill": {
     "duration": 0.019762,
     "end_time": "2024-06-22T04:47:52.036646",
     "exception": false,
     "start_time": "2024-06-22T04:47:52.016884",
     "status": "completed"
    },
    "tags": []
   },
   "outputs": [],
   "source": [
    "from kaggle_secrets import UserSecretsClient\n",
    "user_secrets = UserSecretsClient()"
   ]
  },
  {
   "cell_type": "code",
   "execution_count": 5,
   "id": "6e8c2b10",
   "metadata": {
    "execution": {
     "iopub.execute_input": "2024-06-22T04:47:52.050223Z",
     "iopub.status.busy": "2024-06-22T04:47:52.049843Z",
     "iopub.status.idle": "2024-06-22T04:47:52.279169Z",
     "shell.execute_reply": "2024-06-22T04:47:52.278197Z"
    },
    "papermill": {
     "duration": 0.238775,
     "end_time": "2024-06-22T04:47:52.281496",
     "exception": false,
     "start_time": "2024-06-22T04:47:52.042721",
     "status": "completed"
    },
    "tags": []
   },
   "outputs": [],
   "source": [
    "import google.generativeai as genai\n",
    "\n",
    "genai.configure(api_key = user_secrets.get_secret(\"GOOGLE_API_KEY\"))"
   ]
  },
  {
   "cell_type": "markdown",
   "id": "114704b5",
   "metadata": {
    "papermill": {
     "duration": 0.005319,
     "end_time": "2024-06-22T04:47:52.292942",
     "exception": false,
     "start_time": "2024-06-22T04:47:52.287623",
     "status": "completed"
    },
    "tags": []
   },
   "source": [
    "## What is the objective?\n",
    "\n",
    "- Create an agent system that generates code to solve math problems\n",
    "- Includes error corection (reflection)"
   ]
  },
  {
   "cell_type": "markdown",
   "id": "25acc76b",
   "metadata": {
    "papermill": {
     "duration": 0.005388,
     "end_time": "2024-06-22T04:47:52.303891",
     "exception": false,
     "start_time": "2024-06-22T04:47:52.298503",
     "status": "completed"
    },
    "tags": []
   },
   "source": [
    "## Create a list of agents\n",
    "\n",
    "AGENTS\n",
    "1. code_writer_agent\n",
    "2. code_runner_agent\n",
    "3. router_agent\n",
    "4. final_answer_agent"
   ]
  },
  {
   "cell_type": "markdown",
   "id": "afcbff0f",
   "metadata": {
    "papermill": {
     "duration": 0.005414,
     "end_time": "2024-06-22T04:47:52.314807",
     "exception": false,
     "start_time": "2024-06-22T04:47:52.309393",
     "status": "completed"
    },
    "tags": []
   },
   "source": [
    "## Helper functions"
   ]
  },
  {
   "cell_type": "code",
   "execution_count": 6,
   "id": "7b02cea9",
   "metadata": {
    "execution": {
     "iopub.execute_input": "2024-06-22T04:47:52.327548Z",
     "iopub.status.busy": "2024-06-22T04:47:52.327188Z",
     "iopub.status.idle": "2024-06-22T04:47:52.337865Z",
     "shell.execute_reply": "2024-06-22T04:47:52.336879Z"
    },
    "papermill": {
     "duration": 0.019604,
     "end_time": "2024-06-22T04:47:52.339943",
     "exception": false,
     "start_time": "2024-06-22T04:47:52.320339",
     "status": "completed"
    },
    "tags": []
   },
   "outputs": [],
   "source": [
    "def extract_and_run_llm_code(raw_output):\n",
    "    \n",
    "    \"\"\"\n",
    "    Putting it all together:\n",
    "    batcmd = 'timeout 7 ' + sys.executable + ' code.py' \n",
    "    constructs a command that runs code.py with the \n",
    "    currently executing Python interpreter, \n",
    "    but ensures that the execution is terminated if \n",
    "    it takes longer than 7 seconds. This command is a \n",
    "    safeguard against potentially long-running or frozen scripts, \n",
    "    ensuring that the overall application can recover and \n",
    "    continue executing subsequent instructions.\n",
    "    \"\"\"\n",
    "    \n",
    "    import sys\n",
    "    import subprocess\n",
    "    import autopep8\n",
    "\n",
    "    # Extract the code block and remove the word python\n",
    "    code = raw_output.split('```')[1][7:]\n",
    "\n",
    "    # Split the multi-line string into individual lines\n",
    "    code_lines_list = code.strip().split('\\n')\n",
    "\n",
    "    # Add the imports for numpy and scipy.\n",
    "    # The model often misses imports\n",
    "    #code_lines_list = ['import fitz', ''] + code_lines_list\n",
    "\n",
    "    # Fixing more formatting issues\n",
    "    cleaned_line_list = []\n",
    "\n",
    "    for i, item in enumerate(code_lines_list):\n",
    "\n",
    "        \"\"\"\n",
    "        if 'def ' in item:\n",
    "            item = item.lstrip()\n",
    "            item = item.strip()\n",
    "\n",
    "        if 'print' in item:\n",
    "            item = item.lstrip()\n",
    "            item = item.strip()\n",
    "\n",
    "        if 'result =' in item:\n",
    "            item = item.lstrip()\n",
    "            item = item.strip()\n",
    "        \"\"\"  \n",
    "\n",
    "        cleaned_line_list.append(item)\n",
    "\n",
    "    # Write the code to the file line by line.\n",
    "    # This approach preserves the indentation of each line.\n",
    "    # Without this approach will get indentation errors\n",
    "    # when code.py is run.\n",
    "    with open('code.py', 'w') as file:\n",
    "        for line in cleaned_line_list:\n",
    "            file.write(line + '\\n')\n",
    "    \n",
    "    # Use autopep8 to automatically fix the code style, including indentation\n",
    "    with open('code.py', 'r') as file:\n",
    "        code_content = file.read()\n",
    "\n",
    "    fixed_code = autopep8.fix_code(code_content)\n",
    "\n",
    "    with open('code.py', 'w') as file:\n",
    "        file.write(fixed_code)\n",
    "    \n",
    "\n",
    "    # Construct a command to execute 'code.py' with a timeout of 7 seconds\n",
    "    batcmd = f'timeout 7 {sys.executable} code.py'\n",
    "\n",
    "    # Execute the command and capture both stdout and stderr\n",
    "    result = subprocess.run(batcmd, shell=True, stdout=subprocess.PIPE, stderr=subprocess.PIPE)\n",
    "\n",
    "    # Decode the output from bytes to a string\n",
    "    shell_output = result.stdout.decode('utf8')\n",
    "    error_output = result.stderr.decode('utf8')\n",
    "\n",
    "    # Print or process the outputs\n",
    "    if shell_output:\n",
    "        print(\"Output:\\n\", shell_output)\n",
    "        return {\"status\": \"success\", \"output\": shell_output}\n",
    "    elif error_output:\n",
    "        print(\"Error:\\n\", error_output)\n",
    "        return {\"status\": \"failed\", \"output\": error_output}\n",
    "    else:\n",
    "        # Sometimes there's no output\n",
    "        # If output is None\n",
    "        print(\"Error: No output\")\n",
    "        return {\"status\": \"failed\", \"output\": \"No output\"}\n"
   ]
  },
  {
   "cell_type": "code",
   "execution_count": 7,
   "id": "f3a19bd7",
   "metadata": {
    "execution": {
     "iopub.execute_input": "2024-06-22T04:47:52.353564Z",
     "iopub.status.busy": "2024-06-22T04:47:52.353207Z",
     "iopub.status.idle": "2024-06-22T04:47:52.363847Z",
     "shell.execute_reply": "2024-06-22T04:47:52.362696Z"
    },
    "papermill": {
     "duration": 0.019391,
     "end_time": "2024-06-22T04:47:52.365578",
     "exception": false,
     "start_time": "2024-06-22T04:47:52.346187",
     "status": "completed"
    },
    "tags": []
   },
   "outputs": [],
   "source": [
    "def extract_and_run_llm_code(raw_output):\n",
    "    \"\"\"\n",
    "    Putting it all together:\n",
    "    batcmd = 'timeout 7 ' + sys.executable + ' code.py' \n",
    "    constructs a command that runs code.py with the \n",
    "    currently executing Python interpreter, \n",
    "    but ensures that the execution is terminated if \n",
    "    it takes longer than 7 seconds. This command is a \n",
    "    safeguard against potentially long-running or frozen scripts, \n",
    "    ensuring that the overall application can recover and \n",
    "    continue executing subsequent instructions.\n",
    "    \"\"\"\n",
    "\n",
    "    import sys\n",
    "    import subprocess\n",
    "    import autopep8\n",
    "    import black\n",
    "\n",
    "    # Extract the code block and remove the word python\n",
    "    code = raw_output.split('```')[1][7:]\n",
    "\n",
    "    # Split the multi-line string into individual lines\n",
    "    code_lines_list = code.strip().split('\\n')\n",
    "\n",
    "    # Fixing more formatting issues\n",
    "    cleaned_line_list = []\n",
    "\n",
    "    for i, item in enumerate(code_lines_list):\n",
    "\n",
    "        if 'def ' in item:\n",
    "            item = item.lstrip()\n",
    "            item = item.strip()\n",
    "\n",
    "        if 'print' in item:\n",
    "            item = item.lstrip()\n",
    "            item = item.strip()\n",
    "\n",
    "        if 'result =' in item:\n",
    "            item = item.lstrip()\n",
    "            item = item.strip()\n",
    "\n",
    "        cleaned_line_list.append(item)\n",
    "\n",
    "    # Write the code to the file line by line.\n",
    "    # This approach preserves the indentation of each line.\n",
    "    # Without this approach will get indentation errors\n",
    "    # when code.py is run.\n",
    "    with open('code.py', 'w') as file:\n",
    "        for line in cleaned_line_list:\n",
    "            file.write(line + '\\n')\n",
    "\n",
    "    # Use autopep8 to automatically fix the code style, including indentation\n",
    "    with open('code.py', 'r') as file:\n",
    "        code_content = file.read()\n",
    "\n",
    "    fixed_code = autopep8.fix_code(code_content)\n",
    "\n",
    "    # Further format code with black\n",
    "    try:\n",
    "        fixed_code = black.format_str(fixed_code, mode=black.FileMode())\n",
    "    except black.InvalidInput:\n",
    "        pass  # Handle invalid input for black formatting\n",
    "\n",
    "    with open('code.py', 'w') as file:\n",
    "        file.write(fixed_code)\n",
    "\n",
    "    # Construct a command to execute 'code.py' with a timeout of 7 seconds\n",
    "    batcmd = f'timeout 7 {sys.executable} code.py'\n",
    "\n",
    "    # Execute the command and capture both stdout and stderr\n",
    "    result = subprocess.run(batcmd, shell=True, stdout=subprocess.PIPE, stderr=subprocess.PIPE)\n",
    "\n",
    "    # Decode the output from bytes to a string\n",
    "    shell_output = result.stdout.decode('utf8')\n",
    "    error_output = result.stderr.decode('utf8')\n",
    "\n",
    "    # Print or process the outputs\n",
    "    if shell_output:\n",
    "        print(\"Code ran successfully.\")\n",
    "        print(\"Output:\\n\", shell_output)\n",
    "        return {\"status\": \"success\", \"output\": shell_output}\n",
    "    if error_output:\n",
    "        print(\"Code failed to run.\")\n",
    "        print(\"Error:\\n\", error_output)\n",
    "        return {\"status\": \"failed\", \"output\": error_output}\n"
   ]
  },
  {
   "cell_type": "markdown",
   "id": "3d03c3d5",
   "metadata": {
    "papermill": {
     "duration": 0.005838,
     "end_time": "2024-06-22T04:47:52.377244",
     "exception": false,
     "start_time": "2024-06-22T04:47:52.371406",
     "status": "completed"
    },
    "tags": []
   },
   "source": [
    "## System messages"
   ]
  },
  {
   "cell_type": "code",
   "execution_count": 8,
   "id": "151e17db",
   "metadata": {
    "execution": {
     "iopub.execute_input": "2024-06-22T04:47:52.389774Z",
     "iopub.status.busy": "2024-06-22T04:47:52.389427Z",
     "iopub.status.idle": "2024-06-22T04:47:52.394243Z",
     "shell.execute_reply": "2024-06-22T04:47:52.393359Z"
    },
    "papermill": {
     "duration": 0.013144,
     "end_time": "2024-06-22T04:47:52.395862",
     "exception": false,
     "start_time": "2024-06-22T04:47:52.382718",
     "status": "completed"
    },
    "tags": []
   },
   "outputs": [],
   "source": [
    "code_writer_agent_system_message = \"\"\"\n",
    "You are an expert at writing python code to solve mathematical problems.\n",
    "The user will give you a mathematical problem that you need to solve by writing python code.\n",
    "You always write a plan. You always think step by step.\n",
    "\n",
    "Output your response in markdown format, example: ```python code-block ```\n",
    "You only output one code block.\n",
    "When you send a response your code will be executed on the user's machine.\n",
    "If there was an error in your code then the user will call you again with this:\n",
    "\n",
    "Error: The error message\n",
    "\n",
    "\n",
    "Example session:\n",
    "\n",
    "User Message: Find the sum of the first 50 natural numbers.\n",
    "\n",
    "Your Output:\n",
    "\n",
    "```python\n",
    "# Define the first term (a) and the number of terms (n)\n",
    "a = 1\n",
    "n = 50\n",
    "\n",
    "# Calculate the sum of the arithmetic series using the formula: S = n/2 * (2a + (n-1)d)\n",
    "# For natural numbers, a = 1, d = 1\n",
    "S = n * (n + 1) // 2\n",
    "\n",
    "# Print the result\n",
    "print(f\"The sum of the first {n} natural numbers is: {S}\")\n",
    "\n",
    "# For easier output parsing\n",
    "print(\"###\")\n",
    "print(S)\n",
    "print(\"###\")\n",
    "```\n",
    "\"\"\".strip()"
   ]
  },
  {
   "cell_type": "markdown",
   "id": "03e3b814",
   "metadata": {
    "papermill": {
     "duration": 0.005359,
     "end_time": "2024-06-22T04:47:52.406871",
     "exception": false,
     "start_time": "2024-06-22T04:47:52.401512",
     "status": "completed"
    },
    "tags": []
   },
   "source": [
    "## Set up the llm"
   ]
  },
  {
   "cell_type": "code",
   "execution_count": 9,
   "id": "e56914be",
   "metadata": {
    "execution": {
     "iopub.execute_input": "2024-06-22T04:47:52.419363Z",
     "iopub.status.busy": "2024-06-22T04:47:52.418987Z",
     "iopub.status.idle": "2024-06-22T04:47:53.558842Z",
     "shell.execute_reply": "2024-06-22T04:47:53.557635Z"
    },
    "papermill": {
     "duration": 1.148497,
     "end_time": "2024-06-22T04:47:53.560812",
     "exception": false,
     "start_time": "2024-06-22T04:47:52.412315",
     "status": "completed"
    },
    "tags": []
   },
   "outputs": [
    {
     "name": "stdout",
     "output_type": "stream",
     "text": [
      "Hi there! My name is Molly. 😊  How can I help you today? \n",
      "\n"
     ]
    }
   ],
   "source": [
    "def make_llm_api_call(message):\n",
    "\n",
    "    \"\"\"\n",
    "    Makes a call to the Llama3 model on Groq.\n",
    "    Args:\n",
    "        message_history (List of dicts): The message history\n",
    "    Returns:\n",
    "        response_text: (str): The text response from the LLM\n",
    "    \"\"\"\n",
    "\n",
    "    response = chat.send_message(message)\n",
    "    \n",
    "    text_response = response.text\n",
    "\n",
    "    return text_response\n",
    "\n",
    "\n",
    "# Example\n",
    "\n",
    "model = genai.GenerativeModel(\n",
    "    \"models/gemini-1.5-flash\",\n",
    "    system_instruction=\"Your name is Molly. You are a helpful assistant.\",\n",
    ")\n",
    "\n",
    "chat = model.start_chat()\n",
    "\n",
    "user_message = \"What's your name?\"\n",
    "\n",
    "response = make_llm_api_call(user_message)\n",
    "\n",
    "print(response)"
   ]
  },
  {
   "cell_type": "markdown",
   "id": "59dbf321",
   "metadata": {
    "papermill": {
     "duration": 0.005711,
     "end_time": "2024-06-22T04:47:53.572547",
     "exception": false,
     "start_time": "2024-06-22T04:47:53.566836",
     "status": "completed"
    },
    "tags": []
   },
   "source": [
    "## Set up the agents"
   ]
  },
  {
   "cell_type": "code",
   "execution_count": 10,
   "id": "a35d760a",
   "metadata": {
    "execution": {
     "iopub.execute_input": "2024-06-22T04:47:53.585675Z",
     "iopub.status.busy": "2024-06-22T04:47:53.585330Z",
     "iopub.status.idle": "2024-06-22T04:47:57.191425Z",
     "shell.execute_reply": "2024-06-22T04:47:57.190267Z"
    },
    "papermill": {
     "duration": 3.614968,
     "end_time": "2024-06-22T04:47:57.193234",
     "exception": false,
     "start_time": "2024-06-22T04:47:53.578266",
     "status": "completed"
    },
    "tags": []
   },
   "outputs": [
    {
     "name": "stdout",
     "output_type": "stream",
     "text": [
      "---CODE WRITER AGENT---\n",
      "```python\n",
      "# Define a function to check if a number is a 2-digit positive integer\n",
      "def is_2_digit_positive_integer(n):\n",
      "  return 10 <= n <= 99\n",
      "\n",
      "# Iterate through all possible starting values for the geometric sequence\n",
      "for a in range(10, 100):\n",
      "  # Iterate through all possible common ratios\n",
      "  for r in range(2, 10):\n",
      "    # Generate the five terms of the geometric sequence\n",
      "    sequence = [a * r**i for i in range(5)]\n",
      "    # Check if all terms are 2-digit positive integers and are in increasing order\n",
      "    if all(is_2_digit_positive_integer(term) for term in sequence) and all(sequence[i] < sequence[i+1] for i in range(4)):\n",
      "      # Print the sequence and its sum\n",
      "      print(f\"The sequence is: {sequence}\")\n",
      "      print(f\"The sum of the sequence is: {sum(sequence)}\")\n",
      "      # Break out of the loops since we've found the unique sequence\n",
      "      break\n",
      "  else:\n",
      "    # Continue to the next starting value if no valid sequence is found for the current starting value\n",
      "    continue\n",
      "  break\n",
      "\n",
      "# For easier output parsing\n",
      "print(\"###\")\n",
      "print(sum(sequence))\n",
      "print(\"###\")\n",
      "```\n"
     ]
    }
   ],
   "source": [
    "def run_code_writer_agent(message):\n",
    "\n",
    "    print(\"---CODE WRITER AGENT---\")\n",
    "\n",
    "    # Prompt the llm\n",
    "    response = make_llm_api_call(message)\n",
    "\n",
    "    print(response)\n",
    "\n",
    "    return response\n",
    "\n",
    "\n",
    "\n",
    "# Example\n",
    "\n",
    "model = genai.GenerativeModel(\n",
    "    \"models/gemini-1.5-flash\",\n",
    "    system_instruction = code_writer_agent_system_message,\n",
    ")\n",
    "\n",
    "chat = model.start_chat()\n",
    "\n",
    "message = \"What is the square root of 25?\"\n",
    "message = \"Let $k, l > 0$ be parameters. The parabola $y = kx^2 - 2kx + l$ intersects the line $y = 4$ at two points $A$ and $B$. These points are distance 6 apart. What is the sum of the squares of the distances from $A$ and $B$ to the origin?\"\n",
    "message = \"There exists a unique increasing geometric sequence of five 2-digit positive integers. What is their sum?\"\n",
    "\n",
    "# Prompt the chat_agent\n",
    "raw_output = run_code_writer_agent(message)\n"
   ]
  },
  {
   "cell_type": "code",
   "execution_count": 11,
   "id": "f6375343",
   "metadata": {
    "execution": {
     "iopub.execute_input": "2024-06-22T04:47:57.207251Z",
     "iopub.status.busy": "2024-06-22T04:47:57.206924Z",
     "iopub.status.idle": "2024-06-22T04:47:59.829010Z",
     "shell.execute_reply": "2024-06-22T04:47:59.827837Z"
    },
    "papermill": {
     "duration": 2.631349,
     "end_time": "2024-06-22T04:47:59.830852",
     "exception": false,
     "start_time": "2024-06-22T04:47:57.199503",
     "status": "completed"
    },
    "tags": []
   },
   "outputs": [
    {
     "name": "stdout",
     "output_type": "stream",
     "text": [
      "---CODE WRITER AGENT---\n",
      "```python\n",
      "import math\n",
      "\n",
      "# Calculate the square root of 25 using the math.sqrt() function\n",
      "square_root = math.sqrt(25)\n",
      "\n",
      "# Print the result\n",
      "print(f\"The square root of 25 is: {square_root}\")\n",
      "\n",
      "# For easier output parsing\n",
      "print(\"###\")\n",
      "print(square_root)\n",
      "print(\"###\")\n",
      "```\n",
      "---CODE INTERPRETER AGENT---\n",
      "Code ran successfully.\n",
      "Output:\n",
      " The square root of 25 is: 5.0\n",
      "###\n",
      "5.0\n",
      "###\n",
      "\n",
      "{'status': 'success', 'output': 'The square root of 25 is: 5.0\\n###\\n5.0\\n###\\n'}\n"
     ]
    }
   ],
   "source": [
    "def run_code_interpreter_agent(raw_output):\n",
    "    \n",
    "    print(\"---CODE INTERPRETER AGENT---\")\n",
    "    \n",
    "    output_dict = extract_and_run_llm_code(raw_output)\n",
    "    \n",
    "    print(output_dict)\n",
    "    \n",
    "    return  output_dict\n",
    "\n",
    "\n",
    "# Example\n",
    "\n",
    "model = genai.GenerativeModel(\n",
    "    \"models/gemini-1.5-flash\",\n",
    "    system_instruction = code_writer_agent_system_message,\n",
    ")\n",
    "\n",
    "chat = model.start_chat()\n",
    "\n",
    "message = \"What is the square root of 25?\"\n",
    "\n",
    "\n",
    "raw_output = run_code_writer_agent(message)\n",
    "\n",
    "output_dict = run_code_interpreter_agent(raw_output)"
   ]
  },
  {
   "cell_type": "code",
   "execution_count": 12,
   "id": "7389274b",
   "metadata": {
    "execution": {
     "iopub.execute_input": "2024-06-22T04:47:59.845433Z",
     "iopub.status.busy": "2024-06-22T04:47:59.845073Z",
     "iopub.status.idle": "2024-06-22T04:48:01.629441Z",
     "shell.execute_reply": "2024-06-22T04:48:01.627981Z"
    },
    "papermill": {
     "duration": 1.794172,
     "end_time": "2024-06-22T04:48:01.631646",
     "exception": false,
     "start_time": "2024-06-22T04:47:59.837474",
     "status": "completed"
    },
    "tags": []
   },
   "outputs": [
    {
     "name": "stdout",
     "output_type": "stream",
     "text": [
      "---CODE WRITER AGENT---\n",
      "```python\n",
      "import math\n",
      "\n",
      "# Calculate the square root of 25 using the math.sqrt() function\n",
      "square_root = math.sqrt(25)\n",
      "\n",
      "# Print the result\n",
      "print(f\"The square root of 25 is: {square_root}\")\n",
      "\n",
      "# For easier output parsing\n",
      "print(\"###\")\n",
      "print(square_root)\n",
      "print(\"###\")\n",
      "```\n",
      "---CODE INTERPRETER AGENT---\n",
      "Code ran successfully.\n",
      "Output:\n",
      " The square root of 25 is: 5.0\n",
      "###\n",
      "5.0\n",
      "###\n",
      "\n",
      "{'status': 'success', 'output': 'The square root of 25 is: 5.0\\n###\\n5.0\\n###\\n'}\n",
      "---ROUTER AGENT---\n",
      "Status: success\n",
      "Route: to_final_answer\n"
     ]
    }
   ],
   "source": [
    "def run_router_agent(output_dict):\n",
    "\n",
    "    print(\"---ROUTER AGENT---\")\n",
    "        \n",
    "    # Extract the status\n",
    "    status = output_dict['status']\n",
    "    print(\"Status:\", status)\n",
    "\n",
    "    if status == 'failed':\n",
    "        print(\"Route: to_code_writer_agent\")\n",
    "        return status\n",
    "\n",
    "    elif status == 'success':\n",
    "        print(\"Route: to_final_answer\")\n",
    "        return status\n",
    "    \n",
    "    \n",
    "    \n",
    "# Example\n",
    "\n",
    "model = genai.GenerativeModel(\n",
    "    \"models/gemini-1.5-flash\",\n",
    "    system_instruction = code_writer_agent_system_message,\n",
    ")\n",
    "\n",
    "chat = model.start_chat()\n",
    "\n",
    "message = \"What is the square root of 25?\"\n",
    "\n",
    "\n",
    "raw_output = run_code_writer_agent(message)\n",
    "\n",
    "output_dict = run_code_interpreter_agent(raw_output)\n",
    "\n",
    "status = run_router_agent(output_dict)"
   ]
  },
  {
   "cell_type": "code",
   "execution_count": 13,
   "id": "3521bace",
   "metadata": {
    "execution": {
     "iopub.execute_input": "2024-06-22T04:48:01.646343Z",
     "iopub.status.busy": "2024-06-22T04:48:01.646003Z",
     "iopub.status.idle": "2024-06-22T04:48:03.063177Z",
     "shell.execute_reply": "2024-06-22T04:48:03.061822Z"
    },
    "papermill": {
     "duration": 1.426629,
     "end_time": "2024-06-22T04:48:03.065138",
     "exception": false,
     "start_time": "2024-06-22T04:48:01.638509",
     "status": "completed"
    },
    "tags": []
   },
   "outputs": [
    {
     "name": "stdout",
     "output_type": "stream",
     "text": [
      "---CODE WRITER AGENT---\n",
      "```python\n",
      "import math\n",
      "\n",
      "# Calculate the square root using the math.sqrt() function\n",
      "square_root = math.sqrt(25)\n",
      "\n",
      "# Print the result\n",
      "print(f\"The square root of 25 is: {square_root}\")\n",
      "\n",
      "# For easier output parsing\n",
      "print(\"###\")\n",
      "print(square_root)\n",
      "print(\"###\")\n",
      "```\n",
      "---CODE INTERPRETER AGENT---\n",
      "Code ran successfully.\n",
      "Output:\n",
      " The square root of 25 is: 5.0\n",
      "###\n",
      "5.0\n",
      "###\n",
      "\n",
      "{'status': 'success', 'output': 'The square root of 25 is: 5.0\\n###\\n5.0\\n###\\n'}\n",
      "---ROUTER AGENT---\n",
      "Status: success\n",
      "Route: to_final_answer\n",
      "---FINAL ANSWER AGENT---\n",
      "The square root of 25 is: 5.0\n",
      "###\n",
      "5.0\n",
      "###\n",
      "\n",
      "Extracted answer: 5.0\n"
     ]
    }
   ],
   "source": [
    "def run_final_answer_agent(output_dict):\n",
    "\n",
    "    print(\"---FINAL ANSWER AGENT---\")\n",
    "    \n",
    "    final_answer = output_dict['output']\n",
    "    \n",
    "    # Extract the answer\n",
    "    final_answer = final_answer.split(\"###\")[1].strip()\n",
    "\n",
    "    print(output_dict['output'])\n",
    "    print(\"Extracted answer:\", final_answer)\n",
    "    \n",
    "    return final_answer\n",
    "    \n",
    "\n",
    "# Example\n",
    "\n",
    "model = genai.GenerativeModel(\n",
    "    \"models/gemini-1.5-flash\",\n",
    "    system_instruction = code_writer_agent_system_message,\n",
    ")\n",
    "\n",
    "chat = model.start_chat()\n",
    "\n",
    "message = \"What is the square root of 25?\"\n",
    "\n",
    "\n",
    "raw_output = run_code_writer_agent(message)\n",
    "\n",
    "output_dict = run_code_interpreter_agent(raw_output)\n",
    "\n",
    "status = run_router_agent(output_dict)\n",
    "\n",
    "if status == \"failed\":\n",
    "    pass\n",
    "    \n",
    "final_answer = run_final_answer_agent(output_dict)"
   ]
  },
  {
   "cell_type": "code",
   "execution_count": null,
   "id": "34685db5",
   "metadata": {
    "papermill": {
     "duration": 0.006131,
     "end_time": "2024-06-22T04:48:03.077837",
     "exception": false,
     "start_time": "2024-06-22T04:48:03.071706",
     "status": "completed"
    },
    "tags": []
   },
   "outputs": [],
   "source": []
  },
  {
   "cell_type": "markdown",
   "id": "90f10dcf",
   "metadata": {
    "papermill": {
     "duration": 0.006311,
     "end_time": "2024-06-22T04:48:03.090372",
     "exception": false,
     "start_time": "2024-06-22T04:48:03.084061",
     "status": "completed"
    },
    "tags": []
   },
   "source": [
    "## Run the system"
   ]
  },
  {
   "cell_type": "code",
   "execution_count": 14,
   "id": "c05c72d0",
   "metadata": {
    "execution": {
     "iopub.execute_input": "2024-06-22T04:48:03.104393Z",
     "iopub.status.busy": "2024-06-22T04:48:03.104051Z",
     "iopub.status.idle": "2024-06-22T04:48:04.602348Z",
     "shell.execute_reply": "2024-06-22T04:48:04.601305Z"
    },
    "papermill": {
     "duration": 1.508115,
     "end_time": "2024-06-22T04:48:04.604720",
     "exception": false,
     "start_time": "2024-06-22T04:48:03.096605",
     "status": "completed"
    },
    "tags": []
   },
   "outputs": [
    {
     "name": "stdout",
     "output_type": "stream",
     "text": [
      "---CODE WRITER AGENT---\n",
      "```python\n",
      "import math\n",
      "\n",
      "# Calculate the square root using the math.sqrt() function\n",
      "square_root = math.sqrt(25)\n",
      "\n",
      "# Print the result\n",
      "print(f\"The square root of 25 is: {square_root}\")\n",
      "\n",
      "# For easier output parsing\n",
      "print(\"###\")\n",
      "print(square_root)\n",
      "print(\"###\")\n",
      "```\n",
      "---CODE INTERPRETER AGENT---\n",
      "Code ran successfully.\n",
      "Output:\n",
      " The square root of 25 is: 5.0\n",
      "###\n",
      "5.0\n",
      "###\n",
      "\n",
      "{'status': 'success', 'output': 'The square root of 25 is: 5.0\\n###\\n5.0\\n###\\n'}\n",
      "---ROUTER AGENT---\n",
      "Status: success\n",
      "Route: to_final_answer\n",
      "---FINAL ANSWER AGENT---\n",
      "The square root of 25 is: 5.0\n",
      "###\n",
      "5.0\n",
      "###\n",
      "\n",
      "Extracted answer: 5.0\n"
     ]
    }
   ],
   "source": [
    "# Example\n",
    "\n",
    "model = genai.GenerativeModel(\n",
    "    \"models/gemini-1.5-flash\",\n",
    "    system_instruction = code_writer_agent_system_message,\n",
    ")\n",
    "\n",
    "chat = model.start_chat()\n",
    "\n",
    "\n",
    "user_input = \"What is the square root of 25?\"\n",
    "#user_input = \"There exists a unique increasing geometric sequence of five 2-digit positive integers. What is their sum?\"\n",
    "\n",
    "for i in range(0, 3):\n",
    "\n",
    "    raw_output = run_code_writer_agent(user_input)\n",
    "\n",
    "    output_dict = run_code_interpreter_agent(raw_output)\n",
    "\n",
    "    status = run_router_agent(output_dict)\n",
    "\n",
    "    if status == \"failed\":\n",
    "        # This will be input as a new chat message to the code_writer_agent\n",
    "        error_message = output_dict['output']\n",
    "        user_input = f\"Observation: {error_message}\"\n",
    "    else:\n",
    "        final_answer = run_final_answer_agent(output_dict)\n",
    "        break"
   ]
  },
  {
   "cell_type": "code",
   "execution_count": null,
   "id": "c917f348",
   "metadata": {
    "papermill": {
     "duration": 0.006273,
     "end_time": "2024-06-22T04:48:04.617915",
     "exception": false,
     "start_time": "2024-06-22T04:48:04.611642",
     "status": "completed"
    },
    "tags": []
   },
   "outputs": [],
   "source": []
  },
  {
   "cell_type": "code",
   "execution_count": null,
   "id": "b0e3513a",
   "metadata": {
    "papermill": {
     "duration": 0.006088,
     "end_time": "2024-06-22T04:48:04.630302",
     "exception": false,
     "start_time": "2024-06-22T04:48:04.624214",
     "status": "completed"
    },
    "tags": []
   },
   "outputs": [],
   "source": []
  }
 ],
 "metadata": {
  "kaggle": {
   "accelerator": "none",
   "dataSources": [
    {
     "datasetId": 612177,
     "sourceId": 8701001,
     "sourceType": "datasetVersion"
    }
   ],
   "dockerImageVersionId": 30732,
   "isGpuEnabled": false,
   "isInternetEnabled": true,
   "language": "python",
   "sourceType": "notebook"
  },
  "kernelspec": {
   "display_name": "Python 3",
   "language": "python",
   "name": "python3"
  },
  "language_info": {
   "codemirror_mode": {
    "name": "ipython",
    "version": 3
   },
   "file_extension": ".py",
   "mimetype": "text/x-python",
   "name": "python",
   "nbconvert_exporter": "python",
   "pygments_lexer": "ipython3",
   "version": "3.10.13"
  },
  "papermill": {
   "default_parameters": {},
   "duration": 53.73204,
   "end_time": "2024-06-22T04:48:05.255785",
   "environment_variables": {},
   "exception": null,
   "input_path": "__notebook__.ipynb",
   "output_path": "__notebook__.ipynb",
   "parameters": {},
   "start_time": "2024-06-22T04:47:11.523745",
   "version": "2.5.0"
  }
 },
 "nbformat": 4,
 "nbformat_minor": 5
}
