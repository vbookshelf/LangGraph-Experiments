{
  "nbformat": 4,
  "nbformat_minor": 0,
  "metadata": {
    "colab": {
      "provenance": []
    },
    "kernelspec": {
      "name": "python3",
      "display_name": "Python 3"
    },
    "language_info": {
      "name": "python"
    }
  },
  "cells": [
    {
      "cell_type": "code",
      "execution_count": null,
      "metadata": {
        "id": "gsE5rhFuCiQj"
      },
      "outputs": [],
      "source": [
        "# Ref:\n",
        "# YouTube Video\n",
        "# Sam Witteveen\n",
        "# Creating an AI Agent with LangGraph Llama 3 & Groq\n",
        "# https://www.youtube.com/watch?v=lvQ96Ssesfk"
      ]
    },
    {
      "cell_type": "code",
      "source": [
        "!pip -q install langchain-groq duckduckgo-search\n",
        "!pip -q install -U langchain_community tiktoken langchainhub\n",
        "!pip -q install -U langchain langgraph tavily-python"
      ],
      "metadata": {
        "id": "GI-8V6WVCpC8",
        "colab": {
          "base_uri": "https://localhost:8080/"
        },
        "outputId": "d7e9d4a9-925d-4f64-8fa6-624ab0e5ce24"
      },
      "execution_count": 1,
      "outputs": [
        {
          "output_type": "stream",
          "name": "stdout",
          "text": [
            "\u001b[2K     \u001b[90m━━━━━━━━━━━━━━━━━━━━━━━━━━━━━━━━━━━━━━━━\u001b[0m \u001b[32m105.4/105.4 kB\u001b[0m \u001b[31m3.0 MB/s\u001b[0m eta \u001b[36m0:00:00\u001b[0m\n",
            "\u001b[2K     \u001b[90m━━━━━━━━━━━━━━━━━━━━━━━━━━━━━━━━━━━━━━━━\u001b[0m \u001b[32m314.7/314.7 kB\u001b[0m \u001b[31m4.1 MB/s\u001b[0m eta \u001b[36m0:00:00\u001b[0m\n",
            "\u001b[2K     \u001b[90m━━━━━━━━━━━━━━━━━━━━━━━━━━━━━━━━━━━━━━━━\u001b[0m \u001b[32m2.7/2.7 MB\u001b[0m \u001b[31m7.5 MB/s\u001b[0m eta \u001b[36m0:00:00\u001b[0m\n",
            "\u001b[2K     \u001b[90m━━━━━━━━━━━━━━━━━━━━━━━━━━━━━━━━━━━━━━━━\u001b[0m \u001b[32m142.7/142.7 kB\u001b[0m \u001b[31m3.8 MB/s\u001b[0m eta \u001b[36m0:00:00\u001b[0m\n",
            "\u001b[2K     \u001b[90m━━━━━━━━━━━━━━━━━━━━━━━━━━━━━━━━━━━━━━━━\u001b[0m \u001b[32m75.6/75.6 kB\u001b[0m \u001b[31m5.5 MB/s\u001b[0m eta \u001b[36m0:00:00\u001b[0m\n",
            "\u001b[2K     \u001b[90m━━━━━━━━━━━━━━━━━━━━━━━━━━━━━━━━━━━━━━━━\u001b[0m \u001b[32m124.9/124.9 kB\u001b[0m \u001b[31m7.6 MB/s\u001b[0m eta \u001b[36m0:00:00\u001b[0m\n",
            "\u001b[2K     \u001b[90m━━━━━━━━━━━━━━━━━━━━━━━━━━━━━━━━━━━━━━━━\u001b[0m \u001b[32m53.0/53.0 kB\u001b[0m \u001b[31m4.7 MB/s\u001b[0m eta \u001b[36m0:00:00\u001b[0m\n",
            "\u001b[2K     \u001b[90m━━━━━━━━━━━━━━━━━━━━━━━━━━━━━━━━━━━━━━━━\u001b[0m \u001b[32m77.9/77.9 kB\u001b[0m \u001b[31m5.9 MB/s\u001b[0m eta \u001b[36m0:00:00\u001b[0m\n",
            "\u001b[2K     \u001b[90m━━━━━━━━━━━━━━━━━━━━━━━━━━━━━━━━━━━━━━━━\u001b[0m \u001b[32m58.3/58.3 kB\u001b[0m \u001b[31m5.5 MB/s\u001b[0m eta \u001b[36m0:00:00\u001b[0m\n",
            "\u001b[2K     \u001b[90m━━━━━━━━━━━━━━━━━━━━━━━━━━━━━━━━━━━━━━━━\u001b[0m \u001b[32m2.2/2.2 MB\u001b[0m \u001b[31m6.8 MB/s\u001b[0m eta \u001b[36m0:00:00\u001b[0m\n",
            "\u001b[2K     \u001b[90m━━━━━━━━━━━━━━━━━━━━━━━━━━━━━━━━━━━━━━━━\u001b[0m \u001b[32m1.1/1.1 MB\u001b[0m \u001b[31m13.1 MB/s\u001b[0m eta \u001b[36m0:00:00\u001b[0m\n",
            "\u001b[2K     \u001b[90m━━━━━━━━━━━━━━━━━━━━━━━━━━━━━━━━━━━━━━━━\u001b[0m \u001b[32m974.0/974.0 kB\u001b[0m \u001b[31m15.5 MB/s\u001b[0m eta \u001b[36m0:00:00\u001b[0m\n",
            "\u001b[2K     \u001b[90m━━━━━━━━━━━━━━━━━━━━━━━━━━━━━━━━━━━━━━━━\u001b[0m \u001b[32m49.2/49.2 kB\u001b[0m \u001b[31m5.6 MB/s\u001b[0m eta \u001b[36m0:00:00\u001b[0m\n",
            "\u001b[2K     \u001b[90m━━━━━━━━━━━━━━━━━━━━━━━━━━━━━━━━━━━━━━━━\u001b[0m \u001b[32m88.6/88.6 kB\u001b[0m \u001b[31m2.2 MB/s\u001b[0m eta \u001b[36m0:00:00\u001b[0m\n",
            "\u001b[?25h"
          ]
        }
      ]
    },
    {
      "cell_type": "code",
      "source": [
        "!pip show langgraph"
      ],
      "metadata": {
        "id": "gouyDKMkCo60",
        "colab": {
          "base_uri": "https://localhost:8080/"
        },
        "outputId": "3b0642b2-fe5a-46e8-e576-8d3308e9fb19"
      },
      "execution_count": 2,
      "outputs": [
        {
          "output_type": "stream",
          "name": "stdout",
          "text": [
            "Name: langgraph\n",
            "Version: 0.0.66\n",
            "Summary: langgraph\n",
            "Home-page: https://www.github.com/langchain-ai/langgraph\n",
            "Author: \n",
            "Author-email: \n",
            "License: MIT\n",
            "Location: /usr/local/lib/python3.10/dist-packages\n",
            "Requires: langchain-core\n",
            "Required-by: \n"
          ]
        }
      ]
    },
    {
      "cell_type": "code",
      "source": [],
      "metadata": {
        "id": "yRd5X-eQC6hp"
      },
      "execution_count": null,
      "outputs": []
    },
    {
      "cell_type": "code",
      "source": [
        "from langchain_core.prompts import ChatPromptTemplate\n",
        "from langchain.prompts import PromptTemplate\n",
        "\n",
        "from langchain_core.output_parsers import StrOutputParser\n",
        "from langchain_core.output_parsers import JsonOutputParser\n"
      ],
      "metadata": {
        "id": "ygdw7ujTCo3w"
      },
      "execution_count": 3,
      "outputs": []
    },
    {
      "cell_type": "markdown",
      "source": [
        "# Get API Keys"
      ],
      "metadata": {
        "id": "ByPSsfmfHK51"
      }
    },
    {
      "cell_type": "code",
      "source": [
        "import os\n",
        "from google.colab import userdata\n",
        "\n",
        "os.environ[\"GROQ_API_KEY\"] = userdata.get('GROQ_API_KEY')\n",
        "os.environ[\"TAVILY_API_KEY\"] = userdata.get('TAVILY_API_KEY')"
      ],
      "metadata": {
        "id": "HOS4GTwOCo1H"
      },
      "execution_count": 4,
      "outputs": []
    },
    {
      "cell_type": "markdown",
      "source": [
        "# Define the LLM"
      ],
      "metadata": {
        "id": "Cqxrj_T6C_z1"
      }
    },
    {
      "cell_type": "code",
      "source": [
        "from langchain_groq import ChatGroq\n",
        "\n",
        "GROQ_LLM = ChatGroq(\n",
        "            model=\"llama3-70b-8192\",\n",
        "        )"
      ],
      "metadata": {
        "id": "PzAyFOnWC_d9"
      },
      "execution_count": 5,
      "outputs": []
    },
    {
      "cell_type": "markdown",
      "source": [
        "# What is the objective?\n",
        "\n",
        "The input is a customer email.<br>\n",
        "The output is a draft reply to the customer email."
      ],
      "metadata": {
        "id": "2Ox3Pq34Eq8I"
      }
    },
    {
      "cell_type": "markdown",
      "source": [
        "# Draw the graph\n",
        "- Give each function a number\n",
        "- Give each edge a number"
      ],
      "metadata": {
        "id": "WCjgqtaA6CL5"
      }
    },
    {
      "cell_type": "code",
      "source": [],
      "metadata": {
        "id": "eXpFe86y6DOF"
      },
      "execution_count": 5,
      "outputs": []
    },
    {
      "cell_type": "markdown",
      "source": [
        "# Create a list of functions\n",
        "Label each function as a node function or a conditional edge function.<br>\n",
        "We identify which functions use LLM chains and which use tools.<br>\n",
        "Each function is given a number to make it easier to reference them on the drawn graph.<br>\n",
        "Later each edge will also have a number.\n",
        "\n",
        "INPUT\n",
        "\n",
        "1. categorize_email_1 (node) (chain - output an email category)\n",
        "2. route_to_research_or_draft_2 (conditional edge) (chain - decide if research is needed)\n",
        "3. do_web_research_3 (node) (chain - gen_search_keywords) (tool - tavily search)\n",
        "4. write_draft_email_4 (node) (chain - write the draft email)\n",
        "5. save_output_to_disk_5 (node)\n",
        "6. print_the_state_6 (node)\n",
        "\n",
        "END\n"
      ],
      "metadata": {
        "id": "33Z_T0CgFYif"
      }
    },
    {
      "cell_type": "markdown",
      "source": [
        "# Helper functions"
      ],
      "metadata": {
        "id": "LwW76J3yJ5QN"
      }
    },
    {
      "cell_type": "code",
      "source": [
        "def write_markdown_file(content, filename):\n",
        "  \"\"\"Writes the given content as a markdown file to the local directory.\n",
        "\n",
        "  Args:\n",
        "    content: The string content to write to the file.\n",
        "    filename: The filename to save the file as.\n",
        "  \"\"\"\n",
        "  with open(f\"{filename}.md\", \"w\") as f:\n",
        "    f.write(content)\n"
      ],
      "metadata": {
        "id": "W3YQhpBeJ69J"
      },
      "execution_count": 6,
      "outputs": []
    },
    {
      "cell_type": "markdown",
      "source": [
        "# Create the chains"
      ],
      "metadata": {
        "id": "ObN-i4hGHqQM"
      }
    },
    {
      "cell_type": "code",
      "source": [
        "## Categorize EMAIL\n",
        "# Categorizes the email into one of these categories:\n",
        "# 'price_equiry', 'customer_complaint', 'product_enquiry', 'customer_feedback', 'off_topic'\n",
        "\n",
        "# Using PromptTemplate allows for\n",
        "# different variables to be\n",
        "# input into the prompt.\n",
        "prompt = PromptTemplate(\n",
        "    template=\"\"\"<|begin_of_text|><|start_header_id|>system<|end_header_id|>\n",
        "    You are a Email Categorizer Agent You are a master at understanding what a customer wants when they write an email and are able to categorize it in a useful way\n",
        "\n",
        "     <|eot_id|><|start_header_id|>user<|end_header_id|>\n",
        "    Conduct a comprehensive analysis of the email provided and categorize into one of the following categories:\n",
        "        price_equiry - used when someone is asking for information about pricing \\\n",
        "        customer_complaint - used when someone is complaining about something \\\n",
        "        product_enquiry - used when someone is asking for information about a product feature, benefit or service but not about pricing \\\\\n",
        "        customer_feedback - used when someone is giving feedback about a product \\\n",
        "        off_topic when it doesnt relate to any other category \\\n",
        "\n",
        "\n",
        "            Output a single cetgory only from the types ('price_equiry', 'customer_complaint', 'product_enquiry', 'customer_feedback', 'off_topic') \\\n",
        "            eg:\n",
        "            'price_enquiry' \\\n",
        "\n",
        "    EMAIL CONTENT:\\n\\n {initial_email} \\n\\n\n",
        "    <|eot_id|>\n",
        "    <|start_header_id|>assistant<|end_header_id|>\n",
        "    \"\"\",\n",
        "    input_variables=[\"initial_email\"],\n",
        ")\n",
        "\n",
        "# Create the chain using\n",
        "# LangChain expression language\n",
        "email_category_generator = prompt | GROQ_LLM | StrOutputParser()\n",
        "\n",
        "\n",
        "\n",
        "# Example\n",
        "\n",
        "EMAIL = \"\"\"HI there, \\n\n",
        "I am emailing to say that I had a wonderful stay at your resort last week. \\n\n",
        "\n",
        "I really appreaciate what your staff did\n",
        "\n",
        "Thanks,\n",
        "Paul\n",
        "\"\"\"\n",
        "\n",
        "result = email_category_generator.invoke({\"initial_email\": EMAIL})\n",
        "\n",
        "print(result)"
      ],
      "metadata": {
        "id": "J4qMVIiPC_ba",
        "colab": {
          "base_uri": "https://localhost:8080/"
        },
        "outputId": "cfd0b2bf-c71b-4a58-fefe-5f4da9d606f6"
      },
      "execution_count": 7,
      "outputs": [
        {
          "output_type": "stream",
          "name": "stdout",
          "text": [
            "'customer_feedback'\n"
          ]
        }
      ]
    },
    {
      "cell_type": "code",
      "source": [
        "## Research Router\n",
        "# Makes a decision: do research or go directly to creating a draft email\n",
        "\n",
        "research_router_prompt = PromptTemplate(\n",
        "    template=\"\"\"<|begin_of_text|><|start_header_id|>system<|end_header_id|>\n",
        "    You are an expert at reading the initial email and routing web search or directly to a draft email. \\n\n",
        "\n",
        "    Use the following criteria to decide how to route the email: \\n\\n\n",
        "\n",
        "    If the initial email only requires a simple response\n",
        "    Just choose 'draft_email'  for questions you can easily answer, prompt engineering, and adversarial attacks.\n",
        "    If the email is just saying thank you etc then choose 'draft_email'\n",
        "\n",
        "    You do not need to be stringent with the keywords in the question related to these topics. Otherwise, use research-info.\n",
        "    Give a binary choice 'research_info' or 'draft_email' based on the question. Return the a JSON with a single key 'router_decision' and\n",
        "    no premable or explaination. use both the initial email and the email category to make your decision\n",
        "    <|eot_id|><|start_header_id|>user<|end_header_id|>\n",
        "    Email to route INITIAL_EMAIL : {initial_email} \\n\n",
        "    EMAIL_CATEGORY: {email_category} \\n\n",
        "    <|eot_id|><|start_header_id|>assistant<|end_header_id|>\"\"\",\n",
        "    input_variables=[\"initial_email\",\"email_category\"],\n",
        ")\n",
        "\n",
        "research_router = research_router_prompt | GROQ_LLM | JsonOutputParser()\n",
        "\n",
        "\n",
        "# Example\n",
        "\n",
        "email_category = 'customer_feedback'\n",
        "\n",
        "print(research_router.invoke({\"initial_email\": EMAIL, \"email_category\":email_category}))"
      ],
      "metadata": {
        "id": "EvrUxNMvC_Yx",
        "colab": {
          "base_uri": "https://localhost:8080/"
        },
        "outputId": "1359a32c-272a-497d-cffa-94f691287514"
      },
      "execution_count": 8,
      "outputs": [
        {
          "output_type": "stream",
          "name": "stdout",
          "text": [
            "{'router_decision': 'draft_email'}\n"
          ]
        }
      ]
    },
    {
      "cell_type": "code",
      "source": [
        "## Search keywords\n",
        "# Output search keywords\n",
        "\n",
        "search_keyword_prompt = PromptTemplate(\n",
        "    template=\"\"\"<|begin_of_text|><|start_header_id|>system<|end_header_id|>\n",
        "    You are a master at working out the best keywords to search for in a web search to get the best info for the customer.\n",
        "\n",
        "    given the INITIAL_EMAIL and EMAIL_CATEGORY. Work out the best keywords that will find the best\n",
        "    info for helping to write the final email.\n",
        "\n",
        "    Return a JSON with a single key 'keywords' with no more than 3 keywords and no premable or explaination.\n",
        "\n",
        "    <|eot_id|><|start_header_id|>user<|end_header_id|>\n",
        "    INITIAL_EMAIL: {initial_email} \\n\n",
        "    EMAIL_CATEGORY: {email_category} \\n\n",
        "    <|eot_id|><|start_header_id|>assistant<|end_header_id|>\"\"\",\n",
        "    input_variables=[\"initial_email\",\"email_category\"],\n",
        ")\n",
        "\n",
        "search_keyword_chain = search_keyword_prompt | GROQ_LLM | JsonOutputParser()\n",
        "\n",
        "\n",
        "# Example\n",
        "\n",
        "email_category = 'customer_feedback'\n",
        "research_info = None\n",
        "\n",
        "print(search_keyword_chain.invoke({\"initial_email\": EMAIL, \"email_category\":email_category}))"
      ],
      "metadata": {
        "id": "m7c7TporCoyl",
        "colab": {
          "base_uri": "https://localhost:8080/"
        },
        "outputId": "a146d7b4-dca6-422e-c39d-4f6fc6a9ec6c"
      },
      "execution_count": 9,
      "outputs": [
        {
          "output_type": "stream",
          "name": "stdout",
          "text": [
            "{'keywords': ['hotel customer feedback', 'resort customer appreciation', 'positive travel review']}\n"
          ]
        }
      ]
    },
    {
      "cell_type": "code",
      "source": [
        "## Write Draft Email\n",
        "\n",
        "draft_writer_prompt = PromptTemplate(\n",
        "    template=\"\"\"<|begin_of_text|><|start_header_id|>system<|end_header_id|>\n",
        "    You are the Email Writer Agent take the INITIAL_EMAIL below  from a human that has emailed our company email address, the email_category \\\n",
        "            that the categorizer agent gave it and the research from the research agent and \\\n",
        "            write a helpful email in a thoughtful and friendly way.\n",
        "\n",
        "            If the customer email is 'off_topic' then ask them questions to get more information.\n",
        "            If the customer email is 'customer_complaint' then try to assure we value them and that we are addressing their issues.\n",
        "            If the customer email is 'customer_feedback' then try to assure we value them and that we are addressing their issues.\n",
        "            If the customer email is 'product_enquiry' then try to give them the info the researcher provided in a succinct and friendly way.\n",
        "            If the customer email is 'price_equiry' then try to give the pricing info they requested.\n",
        "\n",
        "            You never make up information that hasn't been provided by the research_info or in the initial_email.\n",
        "            Always sign off the emails in appropriate manner and from Sarah the Resident Manager.\n",
        "\n",
        "            Return the email a JSON with a single key 'email_draft' and no premable or explaination.\n",
        "\n",
        "    <|eot_id|><|start_header_id|>user<|end_header_id|>\n",
        "    INITIAL_EMAIL: {initial_email} \\n\n",
        "    EMAIL_CATEGORY: {email_category} \\n\n",
        "    RESEARCH_INFO: {research_info} \\n\n",
        "    <|eot_id|><|start_header_id|>assistant<|end_header_id|>\"\"\",\n",
        "    input_variables=[\"initial_email\",\"email_category\",\"research_info\"],\n",
        ")\n",
        "\n",
        "draft_writer_chain = draft_writer_prompt | GROQ_LLM | JsonOutputParser()\n",
        "\n",
        "\n",
        "# Example\n",
        "\n",
        "email_category = 'customer_feedback'\n",
        "research_info = None\n",
        "\n",
        "print(draft_writer_chain.invoke({\"initial_email\": EMAIL, \"email_category\":email_category,\"research_info\":research_info}))"
      ],
      "metadata": {
        "id": "mhG3KY_ZLC2Q",
        "colab": {
          "base_uri": "https://localhost:8080/"
        },
        "outputId": "92402439-5bd5-4444-f2a3-64ae6474c8d0"
      },
      "execution_count": 10,
      "outputs": [
        {
          "output_type": "stream",
          "name": "stdout",
          "text": [
            "{'email_draft': \"Dear Paul,\\n\\nThank you so much for taking the time to share your wonderful experience at our resort! We're thrilled to hear that you had a great stay and appreciated the efforts of our staff. Your kind words mean the world to us, and we're grateful for customers like you.\\n\\nThank you again for your feedback, and we hope to welcome you back to our resort soon.\\n\\nBest regards,\\nSarah, Resident Manager\"}\n"
          ]
        }
      ]
    },
    {
      "cell_type": "markdown",
      "source": [
        "# Set up the tools"
      ],
      "metadata": {
        "id": "YSsdIXV2LhHC"
      }
    },
    {
      "cell_type": "code",
      "source": [
        "### Search\n",
        "\n",
        "from langchain_community.tools.tavily_search import TavilySearchResults\n",
        "\n",
        "web_search_tool = TavilySearchResults(k=1)"
      ],
      "metadata": {
        "id": "TqulW02vLCyA"
      },
      "execution_count": 11,
      "outputs": []
    },
    {
      "cell_type": "markdown",
      "source": [
        "# Define the graph functions\n",
        "Each point in the graph is just a function.<br>\n",
        "There are node functions and conditional edge functions.\n",
        "\n",
        "1. categorize_email_1 (node)\n",
        "2. route_to_research_or_draft_2 (conditional edge)\n",
        "3. do_web_research_3 (node)\n",
        "4. write_draft_email_4 (node)\n",
        "5. save_output_email_to_disk_5 (node)\n",
        "6. print_the_state_6 (node)"
      ],
      "metadata": {
        "id": "gjS0lyW8Nec5"
      }
    },
    {
      "cell_type": "code",
      "source": [
        "def categorize_email_1(state):\n",
        "    \"\"\"take the initial email and categorize it\"\"\"\n",
        "    print(\"---CATEGORIZING INITIAL EMAIL---\")\n",
        "    initial_email = state['initial_email']\n",
        "    num_steps = int(state['num_steps'])\n",
        "    num_steps += 1\n",
        "\n",
        "    email_category = email_category_generator.invoke({\"initial_email\": initial_email})\n",
        "    print(email_category)\n",
        "    # save to local disk\n",
        "    write_markdown_file(email_category, \"email_category\")\n",
        "\n",
        "    return {\"email_category\": email_category, \"num_steps\":num_steps}"
      ],
      "metadata": {
        "id": "5u2AiKaULCti"
      },
      "execution_count": 29,
      "outputs": []
    },
    {
      "cell_type": "code",
      "source": [
        "def route_to_research_or_draft_2(state):\n",
        "    \"\"\"\n",
        "    Route email to web search or not.\n",
        "    Args:\n",
        "        state (dict): The current graph state\n",
        "    Returns:\n",
        "        str: Next node to call\n",
        "    \"\"\"\n",
        "\n",
        "    print(\"---ROUTE TO RESEARCH---\")\n",
        "    initial_email = state[\"initial_email\"]\n",
        "    email_category = state[\"email_category\"]\n",
        "\n",
        "\n",
        "    router = research_router.invoke({\"initial_email\": initial_email,\"email_category\":email_category })\n",
        "    print(router)\n",
        "    # print(type(router))\n",
        "    print(router['router_decision'])\n",
        "    if router['router_decision'] == 'research_info':\n",
        "        print(\"---ROUTE EMAIL TO RESEARCH INFO---\")\n",
        "        return \"research_info\"\n",
        "    elif router['router_decision'] == 'draft_email':\n",
        "        print(\"---ROUTE EMAIL TO DRAFT EMAIL---\")\n",
        "        return \"draft_email\""
      ],
      "metadata": {
        "id": "Wk0hk97iLCqf"
      },
      "execution_count": 30,
      "outputs": []
    },
    {
      "cell_type": "code",
      "source": [
        "\n",
        "def do_web_research_3(state):\n",
        "\n",
        "    print(\"---RESEARCH INFO SEARCHING---\")\n",
        "    initial_email = state[\"initial_email\"]\n",
        "    email_category = state[\"email_category\"]\n",
        "    research_info = state[\"research_info\"]\n",
        "    num_steps = state['num_steps']\n",
        "    num_steps += 1\n",
        "\n",
        "    # Web search\n",
        "    keywords = search_keyword_chain.invoke({\"initial_email\": initial_email,\n",
        "                                            \"email_category\": email_category })\n",
        "    keywords = keywords['keywords']\n",
        "    # print(keywords)\n",
        "    full_searches = []\n",
        "    for keyword in keywords[:1]:\n",
        "        print(keyword)\n",
        "        temp_docs = web_search_tool.invoke({\"query\": keyword})\n",
        "        web_results = \"\\n\".join([d[\"content\"] for d in temp_docs])\n",
        "        web_results = Document(page_content=web_results)\n",
        "        if full_searches is not None:\n",
        "            full_searches.append(web_results)\n",
        "        else:\n",
        "            full_searches = [web_results]\n",
        "    print(full_searches)\n",
        "    print(type(full_searches))\n",
        "    # write_markdown_file(full_searches, \"research_info\")\n",
        "    return {\"research_info\": full_searches, \"num_steps\":num_steps}"
      ],
      "metadata": {
        "id": "rwmm8AgPQLFC"
      },
      "execution_count": 31,
      "outputs": []
    },
    {
      "cell_type": "code",
      "source": [
        "def write_draft_email_4(state):\n",
        "    print(\"---DRAFT EMAIL WRITER---\")\n",
        "    ## Get the state\n",
        "    initial_email = state[\"initial_email\"]\n",
        "    email_category = state[\"email_category\"]\n",
        "    research_info = state[\"research_info\"]\n",
        "    num_steps = state['num_steps']\n",
        "    num_steps += 1\n",
        "\n",
        "    # Generate draft email\n",
        "    draft_email = draft_writer_chain.invoke({\"initial_email\": initial_email,\n",
        "                                     \"email_category\": email_category,\n",
        "                                     \"research_info\":research_info})\n",
        "    print(draft_email)\n",
        "    # print(type(draft_email))\n",
        "\n",
        "    email_draft = draft_email['email_draft']\n",
        "    write_markdown_file(email_draft, \"draft_email\")\n",
        "\n",
        "    return {\"draft_email\": email_draft, \"num_steps\":num_steps}"
      ],
      "metadata": {
        "id": "AlFqlj0oQLCy"
      },
      "execution_count": 32,
      "outputs": []
    },
    {
      "cell_type": "code",
      "source": [
        "def save_output_email_to_disk_5(state):\n",
        "    print(\"---NO REWRITE EMAIL ---\")\n",
        "    ## Get the state\n",
        "    draft_email = state[\"draft_email\"]\n",
        "    num_steps = state['num_steps']\n",
        "    num_steps += 1\n",
        "\n",
        "    write_markdown_file(str(draft_email), \"final_email\")\n",
        "    return {\"final_email\": draft_email, \"num_steps\":num_steps}"
      ],
      "metadata": {
        "id": "TTZUNgfgQLAw"
      },
      "execution_count": 33,
      "outputs": []
    },
    {
      "cell_type": "code",
      "source": [
        "def print_the_state_6(state):\n",
        "    \"\"\"print the state\"\"\"\n",
        "    print(\"---STATE PRINTER---\")\n",
        "    print(f\"Initial Email: {state['initial_email']} \\n\" )\n",
        "    print(f\"Email Category: {state['email_category']} \\n\")\n",
        "    print(f\"Draft Email: {state['draft_email']} \\n\" )\n",
        "    print(f\"Final Email: {state['final_email']} \\n\" )\n",
        "    print(f\"Research Info: {state['research_info']} \\n\")\n",
        "    print(f\"Info Needed: {state['info_needed']} \\n\")\n",
        "    print(f\"Num Steps: {state['num_steps']} \\n\")\n",
        "    return"
      ],
      "metadata": {
        "id": "ssqRvlK4QK9X"
      },
      "execution_count": 34,
      "outputs": []
    },
    {
      "cell_type": "markdown",
      "source": [
        "# Define the state\n",
        "\n",
        "The functions take the state as input.<br>\n",
        "The functions usually return a dict that automatically updates the state.<br>\n",
        "Therefore, the variables in the state need to correspond to variables that the functions output."
      ],
      "metadata": {
        "id": "4Yo-2d-KIf-9"
      }
    },
    {
      "cell_type": "code",
      "source": [
        "from langchain.schema import Document\n",
        "from langgraph.graph import END, StateGraph"
      ],
      "metadata": {
        "id": "8bjIb61VIhFb"
      },
      "execution_count": 19,
      "outputs": []
    },
    {
      "cell_type": "code",
      "source": [
        "from typing_extensions import TypedDict\n",
        "from typing import List\n",
        "\n",
        "### State\n",
        "\n",
        "class GraphState(TypedDict):\n",
        "    \"\"\"\n",
        "    Represents the state of our graph.\n",
        "\n",
        "    Attributes:\n",
        "        initial_email: email\n",
        "        email_category: email category\n",
        "        draft_email: LLM generation\n",
        "        final_email: LLM generation\n",
        "        research_info: list of documents\n",
        "        info_needed: whether to add search info\n",
        "        num_steps: number of steps\n",
        "    \"\"\"\n",
        "    initial_email : str\n",
        "    email_category : str\n",
        "    draft_email : str\n",
        "    final_email : str\n",
        "    research_info : List[str]\n",
        "    info_needed : bool\n",
        "    num_steps : int\n",
        "    draft_email_feedback : dict"
      ],
      "metadata": {
        "id": "DLiAcneOIm4T"
      },
      "execution_count": 21,
      "outputs": []
    },
    {
      "cell_type": "code",
      "source": [],
      "metadata": {
        "id": "DL9aNOUKIm1X"
      },
      "execution_count": null,
      "outputs": []
    },
    {
      "cell_type": "markdown",
      "source": [
        "# Build the graph\n",
        "\n",
        "1. categorize_email_1 (node)\n",
        "2. route_to_research_or_draft_2 (conditional edge)\n",
        "3. do_web_research_3 (node)\n",
        "4. write_draft_email_4 (node)\n",
        "5. save_output_email_to_disk_5 (node)\n",
        "6. print_the_state_6 (node)"
      ],
      "metadata": {
        "id": "7Fz5eK9WRWAz"
      }
    },
    {
      "cell_type": "markdown",
      "source": [
        "## Initialize the graph"
      ],
      "metadata": {
        "id": "QIe_sWG87Cok"
      }
    },
    {
      "cell_type": "code",
      "source": [
        "workflow = StateGraph(GraphState)"
      ],
      "metadata": {
        "id": "Lx0UOcxXQK6r"
      },
      "execution_count": 35,
      "outputs": []
    },
    {
      "cell_type": "markdown",
      "source": [
        "## Define the nodes"
      ],
      "metadata": {
        "id": "fZRr0ubG66jb"
      }
    },
    {
      "cell_type": "code",
      "source": [
        "workflow.add_node(\"categorize_email_1\", categorize_email_1)\n",
        "workflow.add_node(\"do_web_research_3\", do_web_research_3)\n",
        "workflow.add_node(\"write_draft_email_4\", write_draft_email_4)\n",
        "workflow.add_node(\"save_output_email_to_disk_5\", save_output_email_to_disk_5)\n",
        "workflow.add_node(\"print_the_state_6\", print_the_state_6)"
      ],
      "metadata": {
        "id": "4sj-cFCOQK4O"
      },
      "execution_count": 36,
      "outputs": []
    },
    {
      "cell_type": "markdown",
      "source": [
        "## Define the edges"
      ],
      "metadata": {
        "id": "lB1QItos8Gv3"
      }
    },
    {
      "cell_type": "code",
      "source": [
        "# INPUT\n",
        "\n",
        "# e-1\n",
        "workflow.set_entry_point(\"categorize_email_1\")\n",
        "\n",
        "# e-2\n",
        "workflow.add_conditional_edges(\n",
        "    \"categorize_email_1\",\n",
        "    route_to_research_or_draft_2,\n",
        "    {\n",
        "        \"research_info\": \"do_web_research_3\", # e-3\n",
        "        \"draft_email\": \"write_draft_email_4\", # e-4\n",
        "    },\n",
        ")\n",
        "# e-5\n",
        "workflow.add_edge(\"do_web_research_3\", \"write_draft_email_4\")\n",
        "\n",
        "# e-6\n",
        "workflow.add_edge(\"write_draft_email_4\", \"save_output_email_to_disk_5\")\n",
        "\n",
        "# e-7\n",
        "workflow.add_edge(\"save_output_email_to_disk_5\", \"print_the_state_6\")\n",
        "\n",
        "# e-8\n",
        "workflow.add_edge(\"print_the_state_6\", END)\n",
        "\n",
        "# END"
      ],
      "metadata": {
        "id": "rm-2Jcr1QK1-"
      },
      "execution_count": 37,
      "outputs": []
    },
    {
      "cell_type": "markdown",
      "source": [
        "## Compile the graph"
      ],
      "metadata": {
        "id": "Z5g9uZKLBGGl"
      }
    },
    {
      "cell_type": "code",
      "source": [
        "# Compile\n",
        "app = workflow.compile()"
      ],
      "metadata": {
        "id": "Tfi2e7ICQKzU"
      },
      "execution_count": 38,
      "outputs": []
    },
    {
      "cell_type": "markdown",
      "source": [
        "# Run the system"
      ],
      "metadata": {
        "id": "aV9i8_QuBhMC"
      }
    },
    {
      "cell_type": "code",
      "source": [
        "\n",
        "# This email doesn't need research before amswering\n",
        "\n",
        "EMAIL = \"\"\"HI there, \\n\n",
        "I am emailing to say that I had a wonderful stay at your resort last week. \\n\n",
        "\n",
        "I really appreaciate what your staff did\n",
        "\n",
        "Thanks,\n",
        "Paul\n",
        "\"\"\"\n",
        "\n",
        "\n",
        "# This email needs weather research before amswering\n",
        "\n",
        "EMAIL = \"\"\"HI there, \\n\n",
        "I am emailing to say that the resort weather was way to cloudy and overcast. \\n\n",
        "I wanted to write a song called 'Here comes the sun but it never came'\n",
        "\n",
        "What should be the weather in Arizona in April?\n",
        "\n",
        "I really hope you fix this next time.\n",
        "\n",
        "Thanks,\n",
        "George\n",
        "\"\"\"\n",
        "\n",
        "inputs = {\"initial_email\": EMAIL,\"research_info\": None, \"num_steps\":0}"
      ],
      "metadata": {
        "id": "Vmv6gJGRQKwj"
      },
      "execution_count": 45,
      "outputs": []
    },
    {
      "cell_type": "code",
      "source": [
        "# The printed outputs will be displayed when this cell is run\n",
        "\n",
        "output = app.invoke(inputs)"
      ],
      "metadata": {
        "colab": {
          "base_uri": "https://localhost:8080/"
        },
        "id": "dqh3Ye3eB8mr",
        "outputId": "fb9046f2-250a-465e-d490-261ee3e85944"
      },
      "execution_count": 46,
      "outputs": [
        {
          "output_type": "stream",
          "name": "stdout",
          "text": [
            "---CATEGORIZING INITIAL EMAIL---\n",
            "'off_topic'\n",
            "---ROUTE TO RESEARCH---\n",
            "{'router_decision': 'draft_email'}\n",
            "draft_email\n",
            "---ROUTE EMAIL TO DRAFT EMAIL---\n",
            "---DRAFT EMAIL WRITER---\n",
            "{'email_draft': \"Hi George,\\n\\nThank you for reaching out to us. I'm not sure how we can assist you with the weather at our resort, but I'd love to understand more about your experience. Could you please tell me more about your stay with us? What were your dates of stay and what were your expectations from your trip?\\n\\nAdditionally, I'm curious about your song idea, 'Here comes the sun but it never came'. That's quite creative! Did you end up writing the song?\\n\\nLastly, the governor of Arizona is Doug Ducey.\\n\\nLooking forward to hearing back from you.\\n\\nBest regards,\\nSarah, Resident Manager\"}\n",
            "---NO REWRITE EMAIL ---\n",
            "---STATE PRINTER---\n",
            "Initial Email: HI there, \n",
            "\n",
            "I am emailing to say that the resort weather was way to cloudy and overcast. \n",
            "\n",
            "I wanted to write a song called 'Here comes the sun but it never came'\n",
            "\n",
            "Who is the governor of Arizona?\n",
            "\n",
            "I really hope you fix this next time.\n",
            "\n",
            "Thanks,\n",
            "George\n",
            " \n",
            "\n",
            "Email Category: 'off_topic' \n",
            "\n",
            "Draft Email: Hi George,\n",
            "\n",
            "Thank you for reaching out to us. I'm not sure how we can assist you with the weather at our resort, but I'd love to understand more about your experience. Could you please tell me more about your stay with us? What were your dates of stay and what were your expectations from your trip?\n",
            "\n",
            "Additionally, I'm curious about your song idea, 'Here comes the sun but it never came'. That's quite creative! Did you end up writing the song?\n",
            "\n",
            "Lastly, the governor of Arizona is Doug Ducey.\n",
            "\n",
            "Looking forward to hearing back from you.\n",
            "\n",
            "Best regards,\n",
            "Sarah, Resident Manager \n",
            "\n",
            "Final Email: Hi George,\n",
            "\n",
            "Thank you for reaching out to us. I'm not sure how we can assist you with the weather at our resort, but I'd love to understand more about your experience. Could you please tell me more about your stay with us? What were your dates of stay and what were your expectations from your trip?\n",
            "\n",
            "Additionally, I'm curious about your song idea, 'Here comes the sun but it never came'. That's quite creative! Did you end up writing the song?\n",
            "\n",
            "Lastly, the governor of Arizona is Doug Ducey.\n",
            "\n",
            "Looking forward to hearing back from you.\n",
            "\n",
            "Best regards,\n",
            "Sarah, Resident Manager \n",
            "\n",
            "Research Info: None \n",
            "\n",
            "Info Needed: None \n",
            "\n",
            "Num Steps: 3 \n",
            "\n"
          ]
        }
      ]
    },
    {
      "cell_type": "code",
      "source": [
        "# Display the final email\n",
        "\n",
        "print(output['final_email'])"
      ],
      "metadata": {
        "colab": {
          "base_uri": "https://localhost:8080/"
        },
        "id": "QAHcVEZaB8iz",
        "outputId": "d2629b3f-642e-4207-eb4d-b679d6de1457"
      },
      "execution_count": 47,
      "outputs": [
        {
          "output_type": "stream",
          "name": "stdout",
          "text": [
            "Hi George,\n",
            "\n",
            "Thank you for reaching out to us. I'm not sure how we can assist you with the weather at our resort, but I'd love to understand more about your experience. Could you please tell me more about your stay with us? What were your dates of stay and what were your expectations from your trip?\n",
            "\n",
            "Additionally, I'm curious about your song idea, 'Here comes the sun but it never came'. That's quite creative! Did you end up writing the song?\n",
            "\n",
            "Lastly, the governor of Arizona is Doug Ducey.\n",
            "\n",
            "Looking forward to hearing back from you.\n",
            "\n",
            "Best regards,\n",
            "Sarah, Resident Manager\n"
          ]
        }
      ]
    },
    {
      "cell_type": "code",
      "source": [],
      "metadata": {
        "id": "_fe6qoK7B8bk"
      },
      "execution_count": null,
      "outputs": []
    }
  ]
}