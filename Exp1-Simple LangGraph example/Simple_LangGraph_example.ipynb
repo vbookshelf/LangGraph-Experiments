{
  "nbformat": 4,
  "nbformat_minor": 0,
  "metadata": {
    "colab": {
      "provenance": []
    },
    "kernelspec": {
      "name": "python3",
      "display_name": "Python 3"
    },
    "language_info": {
      "name": "python"
    }
  },
  "cells": [
    {
      "cell_type": "code",
      "execution_count": null,
      "metadata": {
        "id": "GGWXzzLl7YJ3"
      },
      "outputs": [],
      "source": [
        "# YouTube Video\n",
        "# Sam Witteveen\n",
        "# Creating an AI Agent with LangGraph Llama 3 & Groq\n",
        "# https://www.youtube.com/watch?v=lvQ96Ssesfk"
      ]
    },
    {
      "cell_type": "code",
      "source": [
        "!pip -q install langchain-groq duckduckgo-search\n",
        "!pip -q install -U langchain_community tiktoken langchainhub\n",
        "!pip -q install -U langchain langgraph tavily-python"
      ],
      "metadata": {
        "colab": {
          "base_uri": "https://localhost:8080/"
        },
        "id": "JZ1HX5io7djo",
        "outputId": "2bf035cb-059f-4f0d-cc7f-8c7bd05293aa"
      },
      "execution_count": 1,
      "outputs": [
        {
          "output_type": "stream",
          "name": "stdout",
          "text": [
            "\u001b[?25l     \u001b[90m━━━━━━━━━━━━━━━━━━━━━━━━━━━━━━━━━━━━━━━━\u001b[0m \u001b[32m0.0/105.4 kB\u001b[0m \u001b[31m?\u001b[0m eta \u001b[36m-:--:--\u001b[0m\r\u001b[2K     \u001b[90m━━━━━━━━━━━━━━━━━━━━━━━━━━━━━━━━━━━━━━━━\u001b[0m \u001b[32m105.4/105.4 kB\u001b[0m \u001b[31m4.9 MB/s\u001b[0m eta \u001b[36m0:00:00\u001b[0m\n",
            "\u001b[2K     \u001b[90m━━━━━━━━━━━━━━━━━━━━━━━━━━━━━━━━━━━━━━━━\u001b[0m \u001b[32m314.7/314.7 kB\u001b[0m \u001b[31m6.2 MB/s\u001b[0m eta \u001b[36m0:00:00\u001b[0m\n",
            "\u001b[2K     \u001b[90m━━━━━━━━━━━━━━━━━━━━━━━━━━━━━━━━━━━━━━━━\u001b[0m \u001b[32m2.7/2.7 MB\u001b[0m \u001b[31m13.9 MB/s\u001b[0m eta \u001b[36m0:00:00\u001b[0m\n",
            "\u001b[2K     \u001b[90m━━━━━━━━━━━━━━━━━━━━━━━━━━━━━━━━━━━━━━━━\u001b[0m \u001b[32m142.5/142.5 kB\u001b[0m \u001b[31m4.8 MB/s\u001b[0m eta \u001b[36m0:00:00\u001b[0m\n",
            "\u001b[2K     \u001b[90m━━━━━━━━━━━━━━━━━━━━━━━━━━━━━━━━━━━━━━━━\u001b[0m \u001b[32m75.6/75.6 kB\u001b[0m \u001b[31m6.8 MB/s\u001b[0m eta \u001b[36m0:00:00\u001b[0m\n",
            "\u001b[2K     \u001b[90m━━━━━━━━━━━━━━━━━━━━━━━━━━━━━━━━━━━━━━━━\u001b[0m \u001b[32m124.9/124.9 kB\u001b[0m \u001b[31m5.5 MB/s\u001b[0m eta \u001b[36m0:00:00\u001b[0m\n",
            "\u001b[2K     \u001b[90m━━━━━━━━━━━━━━━━━━━━━━━━━━━━━━━━━━━━━━━━\u001b[0m \u001b[32m53.0/53.0 kB\u001b[0m \u001b[31m2.3 MB/s\u001b[0m eta \u001b[36m0:00:00\u001b[0m\n",
            "\u001b[2K     \u001b[90m━━━━━━━━━━━━━━━━━━━━━━━━━━━━━━━━━━━━━━━━\u001b[0m \u001b[32m77.9/77.9 kB\u001b[0m \u001b[31m3.8 MB/s\u001b[0m eta \u001b[36m0:00:00\u001b[0m\n",
            "\u001b[2K     \u001b[90m━━━━━━━━━━━━━━━━━━━━━━━━━━━━━━━━━━━━━━━━\u001b[0m \u001b[32m58.3/58.3 kB\u001b[0m \u001b[31m2.6 MB/s\u001b[0m eta \u001b[36m0:00:00\u001b[0m\n",
            "\u001b[2K     \u001b[90m━━━━━━━━━━━━━━━━━━━━━━━━━━━━━━━━━━━━━━━━\u001b[0m \u001b[32m2.2/2.2 MB\u001b[0m \u001b[31m12.0 MB/s\u001b[0m eta \u001b[36m0:00:00\u001b[0m\n",
            "\u001b[2K     \u001b[90m━━━━━━━━━━━━━━━━━━━━━━━━━━━━━━━━━━━━━━━━\u001b[0m \u001b[32m1.1/1.1 MB\u001b[0m \u001b[31m21.8 MB/s\u001b[0m eta \u001b[36m0:00:00\u001b[0m\n",
            "\u001b[2K     \u001b[90m━━━━━━━━━━━━━━━━━━━━━━━━━━━━━━━━━━━━━━━━\u001b[0m \u001b[32m974.0/974.0 kB\u001b[0m \u001b[31m25.8 MB/s\u001b[0m eta \u001b[36m0:00:00\u001b[0m\n",
            "\u001b[2K     \u001b[90m━━━━━━━━━━━━━━━━━━━━━━━━━━━━━━━━━━━━━━━━\u001b[0m \u001b[32m49.2/49.2 kB\u001b[0m \u001b[31m5.4 MB/s\u001b[0m eta \u001b[36m0:00:00\u001b[0m\n",
            "\u001b[2K     \u001b[90m━━━━━━━━━━━━━━━━━━━━━━━━━━━━━━━━━━━━━━━━\u001b[0m \u001b[32m88.6/88.6 kB\u001b[0m \u001b[31m2.7 MB/s\u001b[0m eta \u001b[36m0:00:00\u001b[0m\n",
            "\u001b[?25h"
          ]
        }
      ]
    },
    {
      "cell_type": "code",
      "source": [
        "!pip show langgraph"
      ],
      "metadata": {
        "colab": {
          "base_uri": "https://localhost:8080/"
        },
        "id": "GrX4FXfA7dhi",
        "outputId": "cb9a1192-e102-483f-83c2-1a8340c8316a"
      },
      "execution_count": 2,
      "outputs": [
        {
          "output_type": "stream",
          "name": "stdout",
          "text": [
            "Name: langgraph\n",
            "Version: 0.0.66\n",
            "Summary: langgraph\n",
            "Home-page: https://www.github.com/langchain-ai/langgraph\n",
            "Author: \n",
            "Author-email: \n",
            "License: MIT\n",
            "Location: /usr/local/lib/python3.10/dist-packages\n",
            "Requires: langchain-core\n",
            "Required-by: \n"
          ]
        }
      ]
    },
    {
      "cell_type": "markdown",
      "source": [
        "# The goal\n",
        "\n",
        "The input is a customer email.\n",
        "\n",
        "1. Categorize the email\n",
        "2. Write a draft email response\n",
        "\n",
        "The ouput is an is a response to the customer email."
      ],
      "metadata": {
        "id": "OsW1H8xW7kN-"
      }
    },
    {
      "cell_type": "code",
      "source": [
        "import os\n",
        "from google.colab import userdata\n",
        "\n",
        "os.environ[\"GROQ_API_KEY\"] = userdata.get('GROQ_API_KEY')\n",
        "os.environ[\"TAVILY_API_KEY\"] = userdata.get('TAVILY_API_KEY')"
      ],
      "metadata": {
        "id": "vsDY_b307dfP"
      },
      "execution_count": 3,
      "outputs": []
    },
    {
      "cell_type": "code",
      "source": [
        "from langchain_groq import ChatGroq\n",
        "\n",
        "GROQ_LLM = ChatGroq(\n",
        "            model=\"llama3-70b-8192\",\n",
        "        )"
      ],
      "metadata": {
        "id": "7ij39qqB7i1_"
      },
      "execution_count": 4,
      "outputs": []
    },
    {
      "cell_type": "code",
      "source": [
        "from langchain_core.prompts import ChatPromptTemplate\n",
        "from langchain.prompts import PromptTemplate\n",
        "\n",
        "from langchain_core.output_parsers import StrOutputParser\n",
        "from langchain_core.output_parsers import JsonOutputParser"
      ],
      "metadata": {
        "id": "wuJRQAhJ7iw1"
      },
      "execution_count": 5,
      "outputs": []
    },
    {
      "cell_type": "markdown",
      "source": [
        "# Utils"
      ],
      "metadata": {
        "id": "5du1rZWu8mc_"
      }
    },
    {
      "cell_type": "code",
      "source": [
        "def write_markdown_file(content, filename):\n",
        "  \"\"\"Writes the given content as a markdown file to the local directory.\n",
        "\n",
        "  Args:\n",
        "    content: The string content to write to the file.\n",
        "    filename: The filename to save the file as.\n",
        "  \"\"\"\n",
        "  with open(f\"{filename}.md\", \"w\") as f:\n",
        "    f.write(content)\n"
      ],
      "metadata": {
        "id": "__YGrz1D7is6"
      },
      "execution_count": 6,
      "outputs": []
    },
    {
      "cell_type": "markdown",
      "source": [
        "# Basic chains\n",
        "\n",
        "1. Categorize email\n",
        "2. Write draft email"
      ],
      "metadata": {
        "id": "jwX_2Hie8uVe"
      }
    },
    {
      "cell_type": "code",
      "source": [
        "#Categorize EMAIL\n",
        "# Categorizes the email into one of these categories:\n",
        "# 'price_equiry', 'customer_complaint', 'product_enquiry', 'customer_feedback', 'off_topic'\n",
        "\n",
        "# Using PromptTemplate allows for\n",
        "# different variables to be\n",
        "# input into the prompt.\n",
        "prompt = PromptTemplate(\n",
        "    template=\"\"\"<|begin_of_text|><|start_header_id|>system<|end_header_id|>\n",
        "    You are a Email Categorizer Agent You are a master at understanding what a customer wants when they write an email and are able to categorize it in a useful way\n",
        "\n",
        "     <|eot_id|><|start_header_id|>user<|end_header_id|>\n",
        "    Conduct a comprehensive analysis of the email provided and categorize into one of the following categories:\n",
        "        price_equiry - used when someone is asking for information about pricing \\\n",
        "        customer_complaint - used when someone is complaining about something \\\n",
        "        product_enquiry - used when someone is asking for information about a product feature, benefit or service but not about pricing \\\\\n",
        "        customer_feedback - used when someone is giving feedback about a product \\\n",
        "        off_topic when it doesnt relate to any other category \\\n",
        "\n",
        "\n",
        "            Output a single cetgory only from the types ('price_equiry', 'customer_complaint', 'product_enquiry', 'customer_feedback', 'off_topic') \\\n",
        "            eg:\n",
        "            'price_enquiry' \\\n",
        "\n",
        "    EMAIL CONTENT:\\n\\n {initial_email} \\n\\n\n",
        "    <|eot_id|>\n",
        "    <|start_header_id|>assistant<|end_header_id|>\n",
        "    \"\"\",\n",
        "    input_variables=[\"initial_email\"],\n",
        ")\n",
        "\n",
        "# Create the chain using\n",
        "# LangChain expression language\n",
        "email_category_generator = prompt | GROQ_LLM | StrOutputParser()\n",
        "\n",
        "\n",
        "\n",
        "# Example\n",
        "\n",
        "EMAIL = \"\"\"HI there, \\n\n",
        "I am emailing to say that I had a wonderful stay at your resort last week. \\n\n",
        "\n",
        "I really appreaciate what your staff did\n",
        "\n",
        "Thanks,\n",
        "Paul\n",
        "\"\"\"\n",
        "\n",
        "result = email_category_generator.invoke({\"initial_email\": EMAIL})\n",
        "\n",
        "print(result)\n"
      ],
      "metadata": {
        "colab": {
          "base_uri": "https://localhost:8080/"
        },
        "id": "UvIyDLyV7iqP",
        "outputId": "99586dcb-9295-47bd-bd09-9661614909ae"
      },
      "execution_count": 7,
      "outputs": [
        {
          "output_type": "stream",
          "name": "stdout",
          "text": [
            "'customer_feedback'\n"
          ]
        }
      ]
    },
    {
      "cell_type": "code",
      "source": [
        "## Write Draft Email\n",
        "\n",
        "draft_writer_prompt = PromptTemplate(\n",
        "    template=\"\"\"<|begin_of_text|><|start_header_id|>system<|end_header_id|>\n",
        "    You are the Email Writer Agent take the INITIAL_EMAIL below  from a human that has emailed our company email address, the email_category \\\n",
        "            that the categorizer agent gave it and \\\n",
        "            write a helpful email in a thoughtful and friendly way.\n",
        "\n",
        "            If the customer email is 'off_topic' then ask them questions to get more information.\n",
        "            If the customer email is 'customer_complaint' then try to assure we value them and that we are addressing their issues.\n",
        "            If the customer email is 'customer_feedback' then try to assure we value them and that we are addressing their issues.\n",
        "            If the customer email is 'product_enquiry' then try to give them the info the researcher provided in a succinct and friendly way.\n",
        "            If the customer email is 'price_equiry' then try to give the pricing info they requested.\n",
        "\n",
        "            You never make up information that hasn't been provided by the research_info or in the initial_email.\n",
        "            Always sign off the emails in appropriate manner and from Sarah the Resident Manager.\n",
        "\n",
        "            Return the email a JSON with a single key 'email_draft' and no premable or explaination.\n",
        "\n",
        "    <|eot_id|><|start_header_id|>user<|end_header_id|>\n",
        "    INITIAL_EMAIL: {initial_email} \\n\n",
        "    EMAIL_CATEGORY: {email_category} \\n\n",
        "    <|eot_id|><|start_header_id|>assistant<|end_header_id|>\"\"\",\n",
        "    input_variables=[\"initial_email\",\"email_category\"],\n",
        ")\n",
        "\n",
        "draft_writer_chain = draft_writer_prompt | GROQ_LLM | JsonOutputParser()\n",
        "\n",
        "\n",
        "# Example\n",
        "\n",
        "email_category = 'customer_feedback'\n",
        "\n",
        "print(draft_writer_chain.invoke({\"initial_email\": EMAIL, \"email_category\":email_category}))\n"
      ],
      "metadata": {
        "colab": {
          "base_uri": "https://localhost:8080/"
        },
        "id": "LyGDHUwl9R8v",
        "outputId": "f0f5e63d-833f-4b08-eb13-53e516da4167"
      },
      "execution_count": 8,
      "outputs": [
        {
          "output_type": "stream",
          "name": "stdout",
          "text": [
            "{'email_draft': \"Dear Paul,\\n\\nThank you so much for taking the time to share your wonderful experience at our resort! We're thrilled to hear that you had a great stay and that our staff made a positive impact on your visit. Your kind words truly mean the world to us, and we're grateful for customers like you who make our hard work worthwhile.\\n\\nWe'll make sure to pass on your appreciation to our staff, as it's feedback like yours that motivates them to continue providing exceptional service.\\n\\nOnce again, thank you for choosing to stay with us, and we hope to have the pleasure of welcoming you back soon!\\n\\nBest regards,\\nSarah, Resident Manager\"}\n"
          ]
        }
      ]
    },
    {
      "cell_type": "markdown",
      "source": [
        "# Tool setup\n",
        "\n",
        "No tools are used."
      ],
      "metadata": {
        "id": "1qYFhrmJ9or1"
      }
    },
    {
      "cell_type": "code",
      "source": [],
      "metadata": {
        "id": "vLKtu_LZ9R6b"
      },
      "execution_count": null,
      "outputs": []
    },
    {
      "cell_type": "markdown",
      "source": [
        "# State"
      ],
      "metadata": {
        "id": "Rhi-BEs19wwX"
      }
    },
    {
      "cell_type": "code",
      "source": [
        "from langchain.schema import Document\n",
        "from langgraph.graph import END, StateGraph"
      ],
      "metadata": {
        "id": "UxugWlIe9R30"
      },
      "execution_count": 12,
      "outputs": []
    },
    {
      "cell_type": "code",
      "source": [
        "from typing_extensions import TypedDict\n",
        "from typing import List\n",
        "\n",
        "\n",
        "# The state must contain all variables that go into nodes and\n",
        "# come out of nodes. This includes the input to the graph and output\n",
        "# from the graph.\n",
        "\n",
        "### State\n",
        "\n",
        "class GraphState(TypedDict):\n",
        "    \"\"\"\n",
        "    Represents the state of our graph.\n",
        "\n",
        "    Attributes:\n",
        "        initial_email: email\n",
        "        email_category: email category\n",
        "        draft_email: LLM generation\n",
        "        final_email: LLM generation\n",
        "        research_info: list of documents\n",
        "        info_needed: whether to add search info\n",
        "        num_steps: number of steps\n",
        "    \"\"\"\n",
        "    initial_email : str\n",
        "    email_category : str\n",
        "    draft_email : str\n",
        "    final_email : str\n",
        "    research_info : List[str]\n",
        "    info_needed : bool\n",
        "    num_steps : int\n",
        "    draft_email_feedback : dict"
      ],
      "metadata": {
        "id": "XjOny2JK9R0F"
      },
      "execution_count": 13,
      "outputs": []
    },
    {
      "cell_type": "markdown",
      "source": [
        "# Nodes\n",
        "\n",
        "1. categorize_email\n",
        "2. draft_email_writer"
      ],
      "metadata": {
        "id": "iKmuG6NGBA67"
      }
    },
    {
      "cell_type": "code",
      "source": [
        "# 1. Each output from a function must correspond to a variable in the \"state\".\n",
        "# 2. It looks like the \"state\" object gets created automatically - we just define the class.\n",
        "# 3. The state gets updated automatically as the flow exits each node.\n",
        "# 3. When we don't want to update the state after completing a node,\n",
        "# we return nothing - as in the state printer below."
      ],
      "metadata": {
        "id": "VjQ41cFzKrRV"
      },
      "execution_count": null,
      "outputs": []
    },
    {
      "cell_type": "code",
      "source": [
        "def categorize_email(state):\n",
        "    \"\"\"take the initial email and categorize it\"\"\"\n",
        "    print(\"---CATEGORIZING INITIAL EMAIL---\")\n",
        "    initial_email = state['initial_email']\n",
        "    num_steps = int(state['num_steps'])\n",
        "    num_steps += 1\n",
        "\n",
        "    email_category = email_category_generator.invoke({\"initial_email\": initial_email})\n",
        "    print(email_category)\n",
        "    # save to local disk\n",
        "    write_markdown_file(email_category, \"email_category\")\n",
        "\n",
        "    return {\"email_category\": email_category, \"num_steps\":num_steps}"
      ],
      "metadata": {
        "id": "BT5Xcxsu9Rx_"
      },
      "execution_count": 14,
      "outputs": []
    },
    {
      "cell_type": "code",
      "source": [
        "def draft_email_writer(state):\n",
        "    print(\"---DRAFT EMAIL WRITER---\")\n",
        "    ## Get the state\n",
        "    initial_email = state[\"initial_email\"]\n",
        "    email_category = state[\"email_category\"]\n",
        "    num_steps = state['num_steps']\n",
        "    num_steps += 1\n",
        "\n",
        "    # Generate draft email\n",
        "    draft_email = draft_writer_chain.invoke({\"initial_email\": initial_email,\n",
        "                                     \"email_category\": email_category})\n",
        "\n",
        "    print(draft_email)\n",
        "    # print(type(draft_email))\n",
        "\n",
        "    email_draft = draft_email['email_draft']\n",
        "    write_markdown_file(email_draft, \"draft_email\")\n",
        "\n",
        "    return {\"draft_email\": email_draft, \"num_steps\":num_steps}"
      ],
      "metadata": {
        "id": "x5tbkrXA9Rvq"
      },
      "execution_count": 15,
      "outputs": []
    },
    {
      "cell_type": "code",
      "source": [
        "def state_printer(state):\n",
        "    \"\"\"print the state\"\"\"\n",
        "    print(\"---STATE PRINTER---\")\n",
        "    print(f\"Initial Email: {state['initial_email']} \\n\" )\n",
        "    print(f\"Email Category: {state['email_category']} \\n\")\n",
        "    print(f\"Draft Email: {state['draft_email']} \\n\" )\n",
        "    print(f\"Final Email: {state['final_email']} \\n\" )\n",
        "    print(f\"Research Info: {state['research_info']} \\n\")\n",
        "    print(f\"Info Needed: {state['info_needed']} \\n\")\n",
        "    print(f\"Num Steps: {state['num_steps']} \\n\")\n",
        "    return"
      ],
      "metadata": {
        "id": "sMoMq-azGA--"
      },
      "execution_count": 18,
      "outputs": []
    },
    {
      "cell_type": "markdown",
      "source": [
        "# Conditional Edges\n",
        "\n",
        "None"
      ],
      "metadata": {
        "id": "fh32cSb_Drrp"
      }
    },
    {
      "cell_type": "code",
      "source": [],
      "metadata": {
        "id": "6MahrJ7j9RtE"
      },
      "execution_count": 15,
      "outputs": []
    },
    {
      "cell_type": "markdown",
      "source": [
        "# Build the Graph\n",
        "\n",
        "## Add nodes"
      ],
      "metadata": {
        "id": "Lsh_OK-gD04F"
      }
    },
    {
      "cell_type": "code",
      "source": [
        "workflow = StateGraph(GraphState)\n",
        "\n",
        "# Define the nodes\n",
        "workflow.add_node(\"categorize_email\", categorize_email)\n",
        "workflow.add_node(\"draft_email_writer\", draft_email_writer)\n",
        "workflow.add_node(\"state_printer\", state_printer)"
      ],
      "metadata": {
        "id": "O_E2zRuLD8Hl"
      },
      "execution_count": 22,
      "outputs": []
    },
    {
      "cell_type": "markdown",
      "source": [
        "## Add edges"
      ],
      "metadata": {
        "id": "D3B1_zMfEJSy"
      }
    },
    {
      "cell_type": "code",
      "source": [
        "# Here we say which node connects to which node.\n",
        "# An edge is an arrow in the graph (including the \"input\" and \"output\" arrows)\n",
        "# In essence, we are defining every arrow in the graph.\n",
        "\n",
        "# Input\n",
        "workflow.set_entry_point(\"categorize_email\")\n",
        "\n",
        "workflow.add_edge(\"categorize_email\", \"draft_email_writer\")\n",
        "\n",
        "workflow.add_edge(\"draft_email_writer\", \"state_printer\")\n",
        "\n",
        "# Output\n",
        "workflow.add_edge(\"state_printer\", END)\n",
        "\n",
        "\n",
        "# Compile\n",
        "app = workflow.compile()"
      ],
      "metadata": {
        "id": "TcsjWJCcEK6h"
      },
      "execution_count": 23,
      "outputs": []
    },
    {
      "cell_type": "markdown",
      "source": [
        "# Run the system"
      ],
      "metadata": {
        "id": "4QMKn2TgG4p1"
      }
    },
    {
      "cell_type": "code",
      "source": [
        "EMAIL = \"\"\"HI there, \\n\n",
        "I am emailing to say that I was disappointed with the food during my recent stay.\n",
        "\n",
        "I really hope you fix this next time.\n",
        "\n",
        "Thanks,\n",
        "George\n",
        "\"\"\"\n",
        "\n",
        "\n",
        "inputs = {\"initial_email\": EMAIL, \"num_steps\":0}\n",
        "\n",
        "output = app.invoke(inputs)"
      ],
      "metadata": {
        "colab": {
          "base_uri": "https://localhost:8080/"
        },
        "id": "eE_p4gabF4nd",
        "outputId": "d1343401-21c6-4d7b-92f9-c51e0398527a"
      },
      "execution_count": 27,
      "outputs": [
        {
          "output_type": "stream",
          "name": "stdout",
          "text": [
            "---CATEGORIZING INITIAL EMAIL---\n",
            "'customer_complaint'\n",
            "---DRAFT EMAIL WRITER---\n",
            "{'email_draft': \"Dear George,\\n\\nThank you for taking the time to share your feedback about your recent stay with us. I'm so sorry to hear that the food didn't meet your expectations. I want to assure you that we value your opinion and are taking your comments seriously. We're committed to providing the best possible experience for our guests, and we'll do our best to address the issues you've raised.\\n\\nCould you please tell me more about your experience with the food during your stay? What specifically didn't meet your expectations? This will help us to better understand what went wrong and make the necessary improvements.\\n\\nThank you again for your feedback. We appreciate your honesty and look forward to the opportunity to serve you better in the future.\\n\\nBest regards,\\nSarah, Resident Manager\"}\n",
            "---STATE PRINTER---\n",
            "Initial Email: HI there, \n",
            "\n",
            "I am emailing to say that I was disappointed with the food during my recent stay.\n",
            "\n",
            "I really hope you fix this next time.\n",
            "\n",
            "Thanks,\n",
            "George\n",
            " \n",
            "\n",
            "Email Category: 'customer_complaint' \n",
            "\n",
            "Draft Email: Dear George,\n",
            "\n",
            "Thank you for taking the time to share your feedback about your recent stay with us. I'm so sorry to hear that the food didn't meet your expectations. I want to assure you that we value your opinion and are taking your comments seriously. We're committed to providing the best possible experience for our guests, and we'll do our best to address the issues you've raised.\n",
            "\n",
            "Could you please tell me more about your experience with the food during your stay? What specifically didn't meet your expectations? This will help us to better understand what went wrong and make the necessary improvements.\n",
            "\n",
            "Thank you again for your feedback. We appreciate your honesty and look forward to the opportunity to serve you better in the future.\n",
            "\n",
            "Best regards,\n",
            "Sarah, Resident Manager \n",
            "\n",
            "Final Email: None \n",
            "\n",
            "Research Info: None \n",
            "\n",
            "Info Needed: None \n",
            "\n",
            "Num Steps: 2 \n",
            "\n"
          ]
        }
      ]
    },
    {
      "cell_type": "code",
      "source": [
        "!ls"
      ],
      "metadata": {
        "colab": {
          "base_uri": "https://localhost:8080/"
        },
        "id": "RpjWwadlHQxH",
        "outputId": "83313024-ef04-40bc-be4a-c2adb155d69f"
      },
      "execution_count": 25,
      "outputs": [
        {
          "output_type": "stream",
          "name": "stdout",
          "text": [
            "draft_email.md\temail_category.md  sample_data\n"
          ]
        }
      ]
    },
    {
      "cell_type": "code",
      "source": [],
      "metadata": {
        "id": "y1R93-u1JNYH"
      },
      "execution_count": null,
      "outputs": []
    },
    {
      "cell_type": "code",
      "source": [],
      "metadata": {
        "id": "cBxlbj4MJNVv"
      },
      "execution_count": null,
      "outputs": []
    }
  ]
}