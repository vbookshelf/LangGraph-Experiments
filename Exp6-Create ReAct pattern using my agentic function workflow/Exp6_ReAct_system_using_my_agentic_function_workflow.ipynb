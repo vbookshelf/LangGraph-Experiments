{
  "nbformat": 4,
  "nbformat_minor": 0,
  "metadata": {
    "colab": {
      "provenance": []
    },
    "kernelspec": {
      "name": "python3",
      "display_name": "Python 3"
    },
    "language_info": {
      "name": "python"
    }
  },
  "cells": [
    {
      "cell_type": "code",
      "execution_count": 1,
      "metadata": {
        "id": "gsE5rhFuCiQj"
      },
      "outputs": [],
      "source": [
        "# Ref:\n",
        "# YouTube Video\n",
        "# Sam Witteveen\n",
        "# Creating an AI Agent with LangGraph Llama 3 & Groq\n",
        "# https://www.youtube.com/watch?v=lvQ96Ssesfk"
      ]
    },
    {
      "cell_type": "code",
      "source": [
        "!pip -q install groq"
      ],
      "metadata": {
        "id": "GI-8V6WVCpC8",
        "colab": {
          "base_uri": "https://localhost:8080/"
        },
        "outputId": "e3e6ab85-0b92-4866-f5c5-1e9179077ad6"
      },
      "execution_count": 2,
      "outputs": [
        {
          "output_type": "stream",
          "name": "stdout",
          "text": [
            "\u001b[2K     \u001b[90m━━━━━━━━━━━━━━━━━━━━━━━━━━━━━━━━━━━━━━━━\u001b[0m \u001b[32m103.5/103.5 kB\u001b[0m \u001b[31m1.0 MB/s\u001b[0m eta \u001b[36m0:00:00\u001b[0m\n",
            "\u001b[2K     \u001b[90m━━━━━━━━━━━━━━━━━━━━━━━━━━━━━━━━━━━━━━━━\u001b[0m \u001b[32m75.6/75.6 kB\u001b[0m \u001b[31m1.5 MB/s\u001b[0m eta \u001b[36m0:00:00\u001b[0m\n",
            "\u001b[2K     \u001b[90m━━━━━━━━━━━━━━━━━━━━━━━━━━━━━━━━━━━━━━━━\u001b[0m \u001b[32m77.9/77.9 kB\u001b[0m \u001b[31m3.4 MB/s\u001b[0m eta \u001b[36m0:00:00\u001b[0m\n",
            "\u001b[2K     \u001b[90m━━━━━━━━━━━━━━━━━━━━━━━━━━━━━━━━━━━━━━━━\u001b[0m \u001b[32m58.3/58.3 kB\u001b[0m \u001b[31m3.0 MB/s\u001b[0m eta \u001b[36m0:00:00\u001b[0m\n",
            "\u001b[?25h"
          ]
        }
      ]
    },
    {
      "cell_type": "code",
      "source": [],
      "metadata": {
        "id": "yRd5X-eQC6hp"
      },
      "execution_count": 2,
      "outputs": []
    },
    {
      "cell_type": "code",
      "source": [
        "import json\n",
        "import os\n",
        "import re\n",
        "from google.colab import userdata"
      ],
      "metadata": {
        "id": "EdY2JYCQePWH"
      },
      "execution_count": 3,
      "outputs": []
    },
    {
      "cell_type": "markdown",
      "source": [
        "# Define the API clients"
      ],
      "metadata": {
        "id": "Cqxrj_T6C_z1"
      }
    },
    {
      "cell_type": "code",
      "source": [
        "from groq import Groq\n",
        "\n",
        "groq_client = Groq(\n",
        "    api_key=userdata.get('GROQ_API_KEY'),\n",
        ")\n"
      ],
      "metadata": {
        "id": "PzAyFOnWC_d9"
      },
      "execution_count": 4,
      "outputs": []
    },
    {
      "cell_type": "markdown",
      "source": [
        "# What is the objective?\n",
        "\n",
        "Create a ReAct pattern using agent functions instead of LangGraph.<br>\n",
        "The system will be able to respond to multi-stage questions that require the model to call different functions before the final answer can be output.<br>\n",
        "Questions are about dog weights.\n",
        "\n"
      ],
      "metadata": {
        "id": "2Ox3Pq34Eq8I"
      }
    },
    {
      "cell_type": "code",
      "source": [],
      "metadata": {
        "id": "eXpFe86y6DOF"
      },
      "execution_count": 4,
      "outputs": []
    },
    {
      "cell_type": "markdown",
      "source": [
        "# Create a list of agents\n",
        "\n",
        "AGENTS\n",
        "1. chat_agent\n",
        "2. router_agent\n",
        "3. research_agent\n",
        "4. final_answer_agent\n",
        "\n",
        "TOOLS\n",
        "- Function that returns an avaerage dog weight given a dog breed\n",
        "- Calculate function that returns answers to calculations\n",
        "\n",
        "BLOCKS\n",
        "- ReAct block"
      ],
      "metadata": {
        "id": "33Z_T0CgFYif"
      }
    },
    {
      "cell_type": "markdown",
      "source": [
        "# Helper functions"
      ],
      "metadata": {
        "id": "LwW76J3yJ5QN"
      }
    },
    {
      "cell_type": "code",
      "source": [
        "def write_markdown_file(content, filename):\n",
        "  \"\"\"Writes the given content as a markdown file to the local directory.\n",
        "\n",
        "  Args:\n",
        "    content: The string content to write to the file.\n",
        "    filename: The filename to save the file as.\n",
        "  \"\"\"\n",
        "  with open(f\"{filename}.md\", \"w\") as f:\n",
        "    f.write(content)\n"
      ],
      "metadata": {
        "id": "W3YQhpBeJ69J"
      },
      "execution_count": 5,
      "outputs": []
    },
    {
      "cell_type": "code",
      "source": [
        "def create_message_history(system_message, user_input):\n",
        "\n",
        "    \"\"\"\n",
        "    Create a message history messages list.\n",
        "    Args:\n",
        "        system_message (str): The system message\n",
        "        user_query (str): The user input\n",
        "    Returns:\n",
        "        A list of dicts in OpenAi chat format\n",
        "    \"\"\"\n",
        "\n",
        "    message_history = [\n",
        "                        {\n",
        "                            \"role\": \"system\",\n",
        "                            \"content\": system_message\n",
        "                        },\n",
        "                        {\n",
        "                            \"role\": \"user\",\n",
        "                            \"content\": user_input\n",
        "                        }\n",
        "                    ]\n",
        "\n",
        "    return message_history\n",
        "\n"
      ],
      "metadata": {
        "id": "1pl8ksbbeuSD"
      },
      "execution_count": 6,
      "outputs": []
    },
    {
      "cell_type": "markdown",
      "source": [
        "# Set up the LLM"
      ],
      "metadata": {
        "id": "0reljPhbezOM"
      }
    },
    {
      "cell_type": "code",
      "source": [
        "def make_llm_api_call(message_history):\n",
        "\n",
        "    \"\"\"\n",
        "    Makes a call to the Llama3 model on Groq.\n",
        "    Args:\n",
        "        message_history (List of dicts): The message history\n",
        "    Returns:\n",
        "        response_text: (str): The text response from the LLM\n",
        "    \"\"\"\n",
        "\n",
        "    response = groq_client.chat.completions.create(\n",
        "                        messages=message_history,\n",
        "                        model=\"llama3-70b-8192\",\n",
        "                    )\n",
        "\n",
        "    response_text = response.choices[0].message.content\n",
        "\n",
        "    return response_text\n",
        "\n",
        "\n",
        "# Example\n",
        "\n",
        "system_message = \"Your name is Molly.\"\n",
        "user_message = \"What's your name?\"\n",
        "\n",
        "message_history = create_message_history(system_message, user_message)\n",
        "\n",
        "response = make_llm_api_call(message_history)\n",
        "\n",
        "print(response)"
      ],
      "metadata": {
        "colab": {
          "base_uri": "https://localhost:8080/"
        },
        "id": "eZ-R0vrQezl2",
        "outputId": "d037941a-adc1-4dc9-cf1e-8151ea925c7b"
      },
      "execution_count": 7,
      "outputs": [
        {
          "output_type": "stream",
          "name": "stdout",
          "text": [
            "My name is Molly!\n"
          ]
        }
      ]
    },
    {
      "cell_type": "markdown",
      "source": [
        "# Set up the tools\n",
        "\n"
      ],
      "metadata": {
        "id": "ShdYyu_Ne7R2"
      }
    },
    {
      "cell_type": "code",
      "source": [
        "def calculate(what):\n",
        "    return eval(what)\n",
        "\n",
        "def average_dog_weight(name):\n",
        "    if name in \"Scottish Terrier\":\n",
        "        return(\"Scottish Terriers average 20 lbs\")\n",
        "    elif name in \"Border Collie\":\n",
        "        return(\"a Border Collies average weight is 37 lbs\")\n",
        "    elif name in \"Toy Poodle\":\n",
        "        return(\"a toy poodles average weight is 7 lbs\")\n",
        "    else:\n",
        "        return(\"An average dog weights 50 lbs\")\n",
        "\n",
        "known_actions = {\n",
        "    \"calculate\": calculate,\n",
        "    \"average_dog_weight\": average_dog_weight\n",
        "}"
      ],
      "metadata": {
        "id": "HhHLeqs84Zb9"
      },
      "execution_count": 8,
      "outputs": []
    },
    {
      "cell_type": "markdown",
      "source": [
        "# Set up the system messages"
      ],
      "metadata": {
        "id": "oXRI9OSi5Dom"
      }
    },
    {
      "cell_type": "code",
      "source": [
        "chat_agent_system_message = \"\"\"\n",
        "You run in a loop of Thought, Action, PAUSE, Observation.\n",
        "At the end of the loop you output an Answer\n",
        "Use Thought to describe your thoughts about the question you have been asked.\n",
        "Use Action to run one of the actions available to you - then return PAUSE.\n",
        "Observation will be the result of running those actions.\n",
        "Output your response as a JSON string.\n",
        "\n",
        "Your available actions are:\n",
        "\n",
        "calculate:\n",
        "e.g. calculate: 4 * 7 / 3\n",
        "Runs a calculation and returns the number - uses Python so be sure to use floating point syntax if necessary\n",
        "\n",
        "average_dog_weight:\n",
        "e.g. average_dog_weight: Collie\n",
        "returns average weight of a dog when given the breed\n",
        "\n",
        "You can only call one action at a time.\n",
        "\n",
        "\n",
        "Example session:\n",
        "\n",
        "Question: How much does a Bulldog weigh?\n",
        "{\n",
        "    \"Thought\": \"I should look the dogs weight using average_dog_weight\",\n",
        "    \"Action\": {\"function\":\"average_dog_weight\", \"input\": \"Bulldog\"},\n",
        "    \"Status\": \"PAUSE\"\n",
        "}\n",
        "\n",
        "You will be called again with this:\n",
        "\n",
        "Observation: A Bulldog weights 51 lbs\n",
        "\n",
        "You then output:\n",
        "{\n",
        "    \"Answer\": \"A bulldog weights 51 lbs\",\n",
        "    \"Status\": \"DONE\"\n",
        "}\n",
        "\"\"\".strip()\n",
        "\n"
      ],
      "metadata": {
        "id": "-dMNuTpE4-PT"
      },
      "execution_count": 15,
      "outputs": []
    },
    {
      "cell_type": "markdown",
      "source": [
        "# Set up the Agents"
      ],
      "metadata": {
        "id": "kGZoKXk4fDX4"
      }
    },
    {
      "cell_type": "code",
      "source": [
        "def run_chat_agent(message_history):\n",
        "\n",
        "    print(\"---CHAT AGENT---\")\n",
        "\n",
        "    # Prompt the llm\n",
        "    response = make_llm_api_call(message_history)\n",
        "\n",
        "    print(response)\n",
        "\n",
        "    return response\n",
        "\n",
        "\n",
        "\n",
        "# Example\n",
        "\n",
        "user_query = \"How much does a toy poodle weigh?\"\n",
        "\n",
        "message_history = create_message_history(chat_agent_system_message, user_query)\n",
        "\n",
        "# Prompt the chat_agent\n",
        "response = run_chat_agent(message_history)\n",
        "\n",
        "# Update message history\n",
        "message = [{\"role\": \"assistant\", \"content\": response}]\n",
        "message_history.append(message)\n"
      ],
      "metadata": {
        "colab": {
          "base_uri": "https://localhost:8080/"
        },
        "id": "c67LzbXufDJc",
        "outputId": "6d9e1fb7-dd78-4584-806e-d957475eb3d3"
      },
      "execution_count": 10,
      "outputs": [
        {
          "output_type": "stream",
          "name": "stdout",
          "text": [
            "---CHAT AGENT---\n",
            "{\n",
            "    \"Thought\": \"I should look up the average weight of a toy poodle using average_dog_weight\",\n",
            "    \"Action\": {\"function\":\"average_dog_weight\", \"input\": \"Toy Poodle\"},\n",
            "    \"Status\": \"PAUSE\"\n",
            "}\n"
          ]
        }
      ]
    },
    {
      "cell_type": "code",
      "source": [
        "def run_router_agent(llm_response):\n",
        "\n",
        "    \"\"\"\n",
        "    Route to web search or not.\n",
        "    Args:\n",
        "        state (dict): The current graph state\n",
        "    Returns:\n",
        "        str: Next node to call\n",
        "    \"\"\"\n",
        "\n",
        "    print(\"---ROUTER AGENT---\")\n",
        "\n",
        "\n",
        "    # Extract the status\n",
        "    json_response = json.loads(llm_response)\n",
        "    status = json_response['Status']\n",
        "    #status = extract_json_str_value(response, \"Status\").strip()\n",
        "\n",
        "    print(\"Status:\", status)\n",
        "\n",
        "    if status == 'PAUSE':\n",
        "        print(\"Route: to_research_agent\")\n",
        "        return \"to_research_agent\"\n",
        "\n",
        "    elif status == 'DONE':\n",
        "        print(\"Route: to_final_answer\")\n",
        "        return \"to_final_answer\"\n",
        "\n",
        "\n",
        "\n",
        "# Example\n",
        "\n",
        "user_query = \"How much does a toy poodle weigh?\"\n",
        "\n",
        "message_history = create_message_history(chat_agent_system_message, user_query)\n",
        "\n",
        "# Prompt the chat_agent\n",
        "response = run_chat_agent(message_history)\n",
        "\n",
        "# Update message history\n",
        "message = [{\"role\": \"assistant\", \"content\": response}]\n",
        "message_history.append(message)\n",
        "\n",
        "# Run router_agent\n",
        "route = run_router_agent(response)\n"
      ],
      "metadata": {
        "colab": {
          "base_uri": "https://localhost:8080/"
        },
        "id": "NHOvD12NfDHX",
        "outputId": "109d8c94-5a13-44e6-84f8-7851cd398032"
      },
      "execution_count": 11,
      "outputs": [
        {
          "output_type": "stream",
          "name": "stdout",
          "text": [
            "---CHAT AGENT---\n",
            "{\n",
            "    \"Thought\": \"I should look up the average weight of a toy poodle\",\n",
            "    \"Action\": {\"function\": \"average_dog_weight\", \"input\": \"Toy Poodle\"},\n",
            "    \"Status\": \"PAUSE\"\n",
            "}\n",
            "---ROUTER AGENT---\n",
            "Status: PAUSE\n",
            "Route: to_research_agent\n"
          ]
        }
      ]
    },
    {
      "cell_type": "code",
      "source": [
        "def run_research_agent(llm_response):\n",
        "\n",
        "    print(\"---RESEARCH AGENT---\")\n",
        "\n",
        "    # Extract the status\n",
        "    json_response = json.loads(llm_response)\n",
        "    action_dict = json_response['Action']\n",
        "    func_to_run = action_dict['function']\n",
        "    func_input = action_dict['input']\n",
        "\n",
        "    if func_to_run == \"average_dog_weight\":\n",
        "        answer = average_dog_weight(func_input)\n",
        "    else:\n",
        "        answer = calculate(func_input)\n",
        "\n",
        "    print(\"func_to_run:\", func_to_run)\n",
        "    print(\"func_arg:\", func_input)\n",
        "    print(\"Output:\", answer)\n",
        "\n",
        "    return answer\n",
        "\n",
        "\n",
        "\n",
        "# Example\n",
        "\n",
        "user_query = \"How much does a toy poodle weigh?\"\n",
        "\n",
        "message_history = create_message_history(chat_agent_system_message, user_query)\n",
        "\n",
        "# Prompt the chat_agent\n",
        "llm_response = run_chat_agent(message_history)\n",
        "\n",
        "# Update message history\n",
        "message = {\"role\": \"assistant\", \"content\": llm_response}\n",
        "message_history.append(message)\n",
        "\n",
        "# Run router_agent\n",
        "route = run_router_agent(llm_response)\n",
        "\n",
        "\n",
        "if route == \"to_research_agent\":\n",
        "    answer = run_research_agent(llm_response)\n",
        "\n",
        "    # Update message history\n",
        "    message = {\"role\": \"user\", \"content\": f\"Observation: {answer}\"}\n",
        "    message_history.append(message)\n",
        "\n"
      ],
      "metadata": {
        "colab": {
          "base_uri": "https://localhost:8080/"
        },
        "id": "Zj3CJ1q_nGsz",
        "outputId": "01a6596e-c7f0-4e91-e33b-729f73239a40"
      },
      "execution_count": 12,
      "outputs": [
        {
          "output_type": "stream",
          "name": "stdout",
          "text": [
            "---CHAT AGENT---\n",
            "{\n",
            "    \"Thought\": \"I think I should use the average_dog_weight function to determine the weight of a toy poodle\",\n",
            "    \"Action\": {\"function\": \"average_dog_weight\", \"input\": \"Toy Poodle\"},\n",
            "    \"Status\": \"PAUSE\"\n",
            "}\n",
            "---ROUTER AGENT---\n",
            "Status: PAUSE\n",
            "Route: to_research_agent\n",
            "---RESEARCH AGENT---\n",
            "func_to_run: average_dog_weight\n",
            "func_arg: Toy Poodle\n",
            "Output: a toy poodles average weight is 7 lbs\n"
          ]
        }
      ]
    },
    {
      "cell_type": "code",
      "source": [
        "def run_final_answer_agent(llm_response):\n",
        "\n",
        "    print(\"---FINAL ANSWER AGENT---\")\n",
        "\n",
        "    json_response = json.loads(llm_response)\n",
        "    final_answer = json_response['Answer']\n",
        "\n",
        "    print(\"Final answer:\", final_answer)"
      ],
      "metadata": {
        "id": "Xrmd29mU7ZLa"
      },
      "execution_count": 13,
      "outputs": []
    },
    {
      "cell_type": "markdown",
      "source": [
        "# Run the system"
      ],
      "metadata": {
        "id": "l6enpJPmzLim"
      }
    },
    {
      "cell_type": "code",
      "source": [
        "user_query1 = \"How much does a Scottish Terrier weigh?\"\n",
        "\n",
        "user_query2 = \"How much does a Scottish Terrier and a Border Collie weigh?\"\n",
        "\n",
        "# For this question the model can try to call all\n",
        "# the functions it needs at the same time.\n",
        "user_query3 = \"What is the average weight of a Scottish Terrier and a Border Collie?\"\n",
        "\n",
        "# The system fails when this question is asked.\n",
        "user_query4 = \"Hello. How are you?\"\n",
        "\n",
        "\n",
        "message_history = create_message_history(chat_agent_system_message, user_query3)\n",
        "\n",
        "\n",
        "for i in range(0,5):\n",
        "\n",
        "    # Prompt the chat_agent\n",
        "    llm_response = run_chat_agent(message_history)\n",
        "\n",
        "    # Update message history\n",
        "    message = {\"role\": \"assistant\", \"content\": llm_response}\n",
        "    message_history.append(message)\n",
        "\n",
        "    # Run router_agent\n",
        "    route = run_router_agent(llm_response)\n",
        "\n",
        "\n",
        "    if route == \"to_research_agent\":\n",
        "\n",
        "        answer = run_research_agent(llm_response)\n",
        "\n",
        "        # Update message history\n",
        "        message = {\"role\": \"user\", \"content\": f\"Observation: {answer}\"}\n",
        "        message_history.append(message)\n",
        "\n",
        "    else:\n",
        "\n",
        "        run_final_answer_agent(llm_response)\n",
        "\n",
        "        break\n",
        "\n"
      ],
      "metadata": {
        "colab": {
          "base_uri": "https://localhost:8080/"
        },
        "id": "lSuoHVFDy8WZ",
        "outputId": "3ffe455b-fb6f-4ba2-a8fc-f1e3c63c482a"
      },
      "execution_count": 16,
      "outputs": [
        {
          "output_type": "stream",
          "name": "stdout",
          "text": [
            "---CHAT AGENT---\n",
            "{\n",
            "    \"Thought\": \"I should look up the average weights of the Scottish Terrier and Border Collie breeds to find the average of the two.\",\n",
            "    \"Action\": {\"function\":\"average_dog_weight\", \"input\": \"Scottish Terrier\"},\n",
            "    \"Status\": \"PAUSE\"\n",
            "}\n",
            "---ROUTER AGENT---\n",
            "Status: PAUSE\n",
            "Route: to_research_agent\n",
            "---RESEARCH AGENT---\n",
            "func_to_run: average_dog_weight\n",
            "func_arg: Scottish Terrier\n",
            "Output: Scottish Terriers average 20 lbs\n",
            "---CHAT AGENT---\n",
            "{\n",
            "    \"Thought\": \"Now that I have the average weight of a Scottish Terrier, I need to find the average weight of a Border Collie.\",\n",
            "    \"Action\": {\"function\":\"average_dog_weight\", \"input\": \"Border Collie\"},\n",
            "    \"Status\": \"PAUSE\"\n",
            "}\n",
            "---ROUTER AGENT---\n",
            "Status: PAUSE\n",
            "Route: to_research_agent\n",
            "---RESEARCH AGENT---\n",
            "func_to_run: average_dog_weight\n",
            "func_arg: Border Collie\n",
            "Output: a Border Collies average weight is 37 lbs\n",
            "---CHAT AGENT---\n",
            "{\n",
            "    \"Thought\": \"Now that I have the average weights of both breeds, I can calculate the average of the two.\",\n",
            "    \"Action\": {\"function\":\"calculate\", \"input\": \"(20 + 37) / 2\"},\n",
            "    \"Status\": \"PAUSE\"\n",
            "}\n",
            "---ROUTER AGENT---\n",
            "Status: PAUSE\n",
            "Route: to_research_agent\n",
            "---RESEARCH AGENT---\n",
            "func_to_run: calculate\n",
            "func_arg: (20 + 37) / 2\n",
            "Output: 28.5\n",
            "---CHAT AGENT---\n",
            "{\n",
            "    \"Answer\": \"The average weight of a Scottish Terrier and a Border Collie is 28.5 lbs\",\n",
            "    \"Status\": \"DONE\"\n",
            "}\n",
            "---ROUTER AGENT---\n",
            "Status: DONE\n",
            "Route: to_final_answer\n",
            "---FINAL ANSWER AGENT---\n",
            "Final answer: The average weight of a Scottish Terrier and a Border Collie is 28.5 lbs\n"
          ]
        }
      ]
    },
    {
      "cell_type": "code",
      "source": [],
      "metadata": {
        "id": "ozPRaVMJzuJw"
      },
      "execution_count": null,
      "outputs": []
    },
    {
      "cell_type": "code",
      "source": [],
      "metadata": {
        "id": "OPQMnDDlzuHO"
      },
      "execution_count": null,
      "outputs": []
    },
    {
      "cell_type": "code",
      "source": [],
      "metadata": {
        "id": "fZLpFq4tvmG7"
      },
      "execution_count": null,
      "outputs": []
    }
  ]
}