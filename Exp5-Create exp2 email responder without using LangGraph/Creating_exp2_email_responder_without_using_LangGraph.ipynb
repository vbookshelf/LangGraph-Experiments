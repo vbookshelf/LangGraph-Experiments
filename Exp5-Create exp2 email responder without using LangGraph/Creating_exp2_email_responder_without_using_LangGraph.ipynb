{
  "nbformat": 4,
  "nbformat_minor": 0,
  "metadata": {
    "colab": {
      "provenance": []
    },
    "kernelspec": {
      "name": "python3",
      "display_name": "Python 3"
    },
    "language_info": {
      "name": "python"
    }
  },
  "cells": [
    {
      "cell_type": "code",
      "execution_count": 100,
      "metadata": {
        "id": "gsE5rhFuCiQj"
      },
      "outputs": [],
      "source": [
        "# Ref:\n",
        "# YouTube Video\n",
        "# Sam Witteveen\n",
        "# Creating an AI Agent with LangGraph Llama 3 & Groq\n",
        "# https://www.youtube.com/watch?v=lvQ96Ssesfk"
      ]
    },
    {
      "cell_type": "code",
      "source": [
        "!pip -q install groq\n",
        "!pip -q install tavily-python"
      ],
      "metadata": {
        "id": "GI-8V6WVCpC8"
      },
      "execution_count": 61,
      "outputs": []
    },
    {
      "cell_type": "code",
      "source": [],
      "metadata": {
        "id": "yRd5X-eQC6hp"
      },
      "execution_count": 61,
      "outputs": []
    },
    {
      "cell_type": "code",
      "source": [
        "import json\n",
        "import os\n",
        "import re\n",
        "from google.colab import userdata"
      ],
      "metadata": {
        "id": "EdY2JYCQePWH"
      },
      "execution_count": 77,
      "outputs": []
    },
    {
      "cell_type": "markdown",
      "source": [
        "# Define the API clients"
      ],
      "metadata": {
        "id": "Cqxrj_T6C_z1"
      }
    },
    {
      "cell_type": "code",
      "source": [
        "from groq import Groq\n",
        "from tavily import TavilyClient\n",
        "\n",
        "groq_client = Groq(\n",
        "    api_key=userdata.get('GROQ_API_KEY'),\n",
        ")\n",
        "\n",
        "tavily_client = TavilyClient(api_key=userdata.get('TAVILY_API_KEY'))"
      ],
      "metadata": {
        "id": "PzAyFOnWC_d9"
      },
      "execution_count": 64,
      "outputs": []
    },
    {
      "cell_type": "markdown",
      "source": [
        "# What is the objective?\n",
        "\n",
        "- Get an email from a customer\n",
        "- Categorize the email\n",
        "- Decide if research is needed before replying\n",
        "- Do research if needed\n",
        "- Write a draft reply"
      ],
      "metadata": {
        "id": "2Ox3Pq34Eq8I"
      }
    },
    {
      "cell_type": "code",
      "source": [],
      "metadata": {
        "id": "eXpFe86y6DOF"
      },
      "execution_count": 64,
      "outputs": []
    },
    {
      "cell_type": "markdown",
      "source": [
        "# Create a list of agents\n",
        "\n",
        "AGENTS\n",
        "1. email_cat_agent\n",
        "2. router_agent (route to research_agent or email_writer_agent)\n",
        "3. research_agent\n",
        "4. email_writer_agent\n",
        "\n",
        "TOOLS\n",
        "- Tavily search (used by research_agent)\n"
      ],
      "metadata": {
        "id": "33Z_T0CgFYif"
      }
    },
    {
      "cell_type": "markdown",
      "source": [
        "# Helper functions"
      ],
      "metadata": {
        "id": "LwW76J3yJ5QN"
      }
    },
    {
      "cell_type": "code",
      "source": [
        "def write_markdown_file(content, filename):\n",
        "  \"\"\"Writes the given content as a markdown file to the local directory.\n",
        "\n",
        "  Args:\n",
        "    content: The string content to write to the file.\n",
        "    filename: The filename to save the file as.\n",
        "  \"\"\"\n",
        "  with open(f\"{filename}.md\", \"w\") as f:\n",
        "    f.write(content)\n"
      ],
      "metadata": {
        "id": "W3YQhpBeJ69J"
      },
      "execution_count": 65,
      "outputs": []
    },
    {
      "cell_type": "code",
      "source": [
        "def create_message_history(system_message, user_input):\n",
        "\n",
        "    \"\"\"\n",
        "    Create a message history messages list.\n",
        "    Args:\n",
        "        system_message (str): The system message\n",
        "        user_query (str): The user input\n",
        "    Returns:\n",
        "        A list of dicts in OpenAi chat format\n",
        "    \"\"\"\n",
        "\n",
        "    message_history = [\n",
        "                        {\n",
        "                            \"role\": \"system\",\n",
        "                            \"content\": system_message\n",
        "                        },\n",
        "                        {\n",
        "                            \"role\": \"user\",\n",
        "                            \"content\": user_input\n",
        "                        }\n",
        "                    ]\n",
        "\n",
        "    return message_history\n",
        "\n"
      ],
      "metadata": {
        "id": "1pl8ksbbeuSD"
      },
      "execution_count": 66,
      "outputs": []
    },
    {
      "cell_type": "code",
      "source": [
        "def replace_items_in_string(input_string):\n",
        "\n",
        "    \"\"\"\n",
        "    Sometimes models produce json style output strings that cannot be parsed.\n",
        "    This functon extracts the \"value\" from the json string.\n",
        "    Extracts the value from a json string.\n",
        "    Works only if the json string has one key/value pair.\n",
        "    \"\"\"\n",
        "\n",
        "    # The items in this list get replaced with nothing.\n",
        "    # The key needs to be added to this list.\n",
        "    items_to_replace = [\"```\", \"json\", \"{\", \"}\", '\"email_draft\": \"',\n",
        "                        '\"translation\": \"', '\"#\"', '\"category\": \"', '\"router_decision\": \"', \"\\\\r\"]\n",
        "\n",
        "    modified_string = input_string\n",
        "    for item in items_to_replace:\n",
        "        regex = re.compile(re.escape(item))  # Create a regex pattern for each item\n",
        "        modified_string = regex.sub(\"\", modified_string)  # Replace item with an empty string\n",
        "\n",
        "    modified_string = modified_string.strip()\n",
        "\n",
        "    # Slice to get the string from the start up to the second last character\n",
        "    if len(modified_string) > 1:\n",
        "        modified_string = modified_string[:-1]\n",
        "\n",
        "\n",
        "    return modified_string\n",
        "\n",
        "\n",
        "\n",
        "# Example usage\n",
        "input_string = '{\"email_draft\": \"some-value\"}'\n",
        "print(replace_items_in_string(input_string))"
      ],
      "metadata": {
        "colab": {
          "base_uri": "https://localhost:8080/"
        },
        "id": "sr9MDRB2LKf2",
        "outputId": "0feeb207-1660-4695-b051-cb46e8916a40"
      },
      "execution_count": 113,
      "outputs": [
        {
          "output_type": "stream",
          "name": "stdout",
          "text": [
            "some-value\n"
          ]
        }
      ]
    },
    {
      "cell_type": "markdown",
      "source": [
        "# Set up the LLM"
      ],
      "metadata": {
        "id": "0reljPhbezOM"
      }
    },
    {
      "cell_type": "code",
      "source": [
        "def make_llm_api_call(message_history):\n",
        "\n",
        "    \"\"\"\n",
        "    Makes a call to the Llama3 model on Groq.\n",
        "    Args:\n",
        "        message_history (List of dicts): The message history\n",
        "    Returns:\n",
        "        response_text: (str): The text response from the LLM\n",
        "    \"\"\"\n",
        "\n",
        "    response = groq_client.chat.completions.create(\n",
        "                        messages=message_history,\n",
        "                        model=\"llama3-70b-8192\",\n",
        "                    )\n",
        "\n",
        "    response_text = response.choices[0].message.content\n",
        "\n",
        "    return response_text\n",
        "\n",
        "\n",
        "# Example\n",
        "\n",
        "system_message = \"Your name is Molly.\"\n",
        "user_message = \"What's your name?\"\n",
        "\n",
        "message_history = create_message_history(system_message, user_message)\n",
        "\n",
        "response = make_llm_api_call(message_history)\n",
        "\n",
        "print(response)"
      ],
      "metadata": {
        "colab": {
          "base_uri": "https://localhost:8080/"
        },
        "id": "eZ-R0vrQezl2",
        "outputId": "04eddd3c-e9b6-4148-edb3-cc761bb7a722"
      },
      "execution_count": 67,
      "outputs": [
        {
          "output_type": "stream",
          "name": "stdout",
          "text": [
            "My name is Molly!\n"
          ]
        }
      ]
    },
    {
      "cell_type": "markdown",
      "source": [
        "# Set up the tools\n",
        "\n"
      ],
      "metadata": {
        "id": "ShdYyu_Ne7R2"
      }
    },
    {
      "cell_type": "code",
      "source": [
        "def run_tavily_search(query, num_results=5):\n",
        "\n",
        "    \"\"\"\n",
        "    Uses the Tavily API to run a web search\n",
        "    Args:\n",
        "        query (str): The user query\n",
        "        num_results (int): Num search results\n",
        "    Returns:\n",
        "        tav_response (json string): The search results in json format\n",
        "    \"\"\"\n",
        "\n",
        "    # For basic search:\n",
        "    tav_response = tavily_client.search(query=query, max_results=num_results)\n",
        "\n",
        "    return tav_response\n",
        "\n",
        "\n",
        "\n",
        "# Example\n",
        "\n",
        "query = \"How much does a bulldog weigh?\"\n",
        "\n",
        "results = run_tavily_search(query, num_results=2)\n",
        "\n",
        "# Use this str output in the system message example below\n",
        "# Use this instead of the Eisenhower example\n",
        "print(results)"
      ],
      "metadata": {
        "colab": {
          "base_uri": "https://localhost:8080/"
        },
        "id": "JDTLM9gme7ph",
        "outputId": "bde89d48-7f6e-43eb-f792-bb4e7423b5d9"
      },
      "execution_count": 68,
      "outputs": [
        {
          "output_type": "stream",
          "name": "stdout",
          "text": [
            "{'query': 'How much does a bulldog weigh?', 'follow_up_questions': None, 'answer': None, 'images': None, 'results': [{'title': 'English Bulldog Growth & Weight Chart: Everything You Need To ... - Pawlicy', 'url': 'https://www.pawlicy.com/blog/english-bulldog-growth-and-weight-chart/', 'content': 'According to Care.com, puppies reach about 75% of their adult height at six months old. This will be around 10-13 inches tall for a male English Bulldog and approximately 9-11 inches tall for a female English Bulldog. As for weight, a 6-month-old male English Bulldog will weigh about 33 to 37 pounds, while a 6-month-old female English Bulldog ...', 'score': 0.93752, 'raw_content': None}, {'title': 'English Bulldog Growth Chart: Male And Female Weight & Height', 'url': 'https://www.caninejournal.com/english-bulldog-growth-chart/', 'content': 'Male and female dogs have similar weights throughout puppyhood but differ slightly in adulthood. A full-grown male weighs around 51-55 pounds, while females weigh about 40-44 pounds. Males are taller, standing around 14-16 inches, while females average 12-14 inches.', 'score': 0.91444, 'raw_content': None}], 'response_time': 1.24}\n"
          ]
        }
      ]
    },
    {
      "cell_type": "markdown",
      "source": [
        "# Set up the Agents"
      ],
      "metadata": {
        "id": "kGZoKXk4fDX4"
      }
    },
    {
      "cell_type": "code",
      "source": [
        "def run_email_cat_agent(email):\n",
        "\n",
        "    print(\"---EMAIL CAT AGENT---\")\n",
        "\n",
        "    system_message = \"\"\"\n",
        "    You are a Email Categorizer Agent, You are a master at understanding what a customer wants when they write an email and are able to categorize it in a useful way.\n",
        "\n",
        "    You will be provided with an EMAIL. Conduct a comprehensive analysis of the email provided and categorize into one of the following categories:\n",
        "    price_equiry - used when someone is asking for information about pricing \\\n",
        "    customer_complaint - used when someone is complaining about something \\\n",
        "    product_enquiry - used when someone is asking for information about a product feature, benefit or service but not about pricing \\\\\n",
        "    customer_feedback - used when someone is giving feedback about a product \\\n",
        "    off_topic when it doesnt relate to any other category \\\n",
        "\n",
        "    Output a single category only from the types ('price_equiry', 'customer_complaint', 'product_enquiry', 'customer_feedback', 'off_topic').\n",
        "    Format your output as a JSON string with a key named \"category\".\n",
        "    eg:\n",
        "    {\n",
        "    \"category\": \"price_enquiry\"\n",
        "    }\n",
        "    \"\"\"\n",
        "\n",
        "    # Create the \"user\" role content\n",
        "    input = f\"\"\"\n",
        "    EMAIL: {email}\n",
        "    \"\"\"\n",
        "\n",
        "    # Create the message history that includes system and user roles\n",
        "    message_history = create_message_history(system_message, input)\n",
        "\n",
        "    # Prompt the llm\n",
        "    response = make_llm_api_call(message_history)\n",
        "\n",
        "    # Extract the response from the json string\n",
        "    response = replace_items_in_string(response)\n",
        "\n",
        "    print(\"Email category:\", response)\n",
        "\n",
        "    return response\n",
        "\n",
        "\n",
        "# Example\n",
        "\n",
        "email = \"\"\"HI there, \\n\n",
        "I am emailing to say that I had a wonderful stay at your resort last week. \\n\n",
        "\n",
        "I really appreaciate what your staff did\n",
        "\n",
        "Thanks,\n",
        "Paul\n",
        "\"\"\"\n",
        "\n",
        "email_cat = run_email_cat_agent(email)\n",
        "\n",
        "#print(email_cat)"
      ],
      "metadata": {
        "colab": {
          "base_uri": "https://localhost:8080/"
        },
        "id": "c67LzbXufDJc",
        "outputId": "d56e19e4-47e5-452a-c7c5-ae36b81dc8a4"
      },
      "execution_count": 103,
      "outputs": [
        {
          "output_type": "stream",
          "name": "stdout",
          "text": [
            "---EMAIL CAT AGENT---\n",
            "Email category: customer_feedback\n"
          ]
        }
      ]
    },
    {
      "cell_type": "code",
      "source": [
        "def run_router_agent(email, email_cat):\n",
        "\n",
        "    print(\"---ROUTER AGENT---\")\n",
        "\n",
        "    system_message = \"\"\"\n",
        "    You are an expert at reading the initial email and routing web search or directly to a draft email. \\n\n",
        "    You will be provided with a CUSTOMER_EMAIL and an EMAIL_CATEGORY.\n",
        "\n",
        "    Use the following criteria to decide how to route the email: \\n\\n\n",
        "\n",
        "    If the initial email only requires a simple response choose 'to_email_writer_agent'.\n",
        "    If the email is just saying thank you etc then choose 'to_email_writer_agent'.\n",
        "    Otherwise, use to_research_agent.\n",
        "\n",
        "    Give a binary choice 'to_research_agent' or 'to_email_writer_agent'. Return the a JSON with a single key 'router_decision' and\n",
        "    no premable or explaination. Use both the initial email and the email category to make your decision.\n",
        "    \"\"\"\n",
        "\n",
        "    input = f\"\"\"\n",
        "    CUSTOMER_EMAIL: {email}\n",
        "    EMAIL_CATEGORY: {email_cat}\n",
        "    \"\"\"\n",
        "\n",
        "    # Create the message history that includes system and user roles\n",
        "    message_history = create_message_history(system_message, input)\n",
        "\n",
        "    # Prompt the llm\n",
        "    response = make_llm_api_call(message_history)\n",
        "\n",
        "    # Extract the response from the json string\n",
        "    response = replace_items_in_string(response)\n",
        "\n",
        "    print(\"Router decision:\", response)\n",
        "\n",
        "    return response\n",
        "\n",
        "\n",
        "\n",
        "# Example\n",
        "\n",
        "email = \"\"\"HI there, \\n\n",
        "I am emailing to say that I had a wonderful stay at your resort last week. \\n\n",
        "\n",
        "I really appreaciate what your staff did\n",
        "\n",
        "Thanks,\n",
        "Paul\n",
        "\"\"\"\n",
        "\n",
        "email_cat = run_email_cat_agent(email)\n",
        "\n",
        "router_decision = run_router_agent(email, email_cat)\n",
        "\n",
        "#router_decision"
      ],
      "metadata": {
        "colab": {
          "base_uri": "https://localhost:8080/"
        },
        "id": "NHOvD12NfDHX",
        "outputId": "a101c3c4-0402-4e08-d86a-2716a6c078f0"
      },
      "execution_count": 119,
      "outputs": [
        {
          "output_type": "stream",
          "name": "stdout",
          "text": [
            "---EMAIL CAT AGENT---\n",
            "Email category: customer_feedback\n",
            "---ROUTER AGENT---\n",
            "Router decision: to_email_writer_agent\n"
          ]
        }
      ]
    },
    {
      "cell_type": "code",
      "source": [
        "def run_research_agent(email, email_cat):\n",
        "\n",
        "    print(\"---RESEARCH AGENT---\")\n",
        "\n",
        "    system_message = \"\"\"\n",
        "    You are a master at working out the best keywords to search for in a web search to get the best info for the customer.\n",
        "\n",
        "    given the CUSTOMER_EMAIL and EMAIL_CATEGORY. Work out the best keywords that will find the best\n",
        "    info for helping to write a response to the customer email.\n",
        "\n",
        "    Return a JSON with a single key 'keywords' with no more than 5 keywords and no premable or explaination.\n",
        "    \"\"\"\n",
        "\n",
        "    input = f\"\"\"\n",
        "    CUSTOMER_EMAIL: {email}\n",
        "    EMAIL_CATEGORY: {email_cat}\n",
        "    \"\"\"\n",
        "\n",
        "    message_history = create_message_history(system_message, input)\n",
        "\n",
        "    response = make_llm_api_call(message_history)\n",
        "\n",
        "    response = json.loads(response)\n",
        "\n",
        "    keywords_list = (response['keywords'])\n",
        "\n",
        "    # Run searches using the keywords\n",
        "\n",
        "    print(\"Search keywords:\\n\", keywords_list)\n",
        "    print(\"Running tavily search...\")\n",
        "\n",
        "    research_info_list = []\n",
        "\n",
        "    for query in keywords_list:\n",
        "\n",
        "        results = run_tavily_search(query, num_results=2)\n",
        "        research_info_list.append(results)\n",
        "\n",
        "    print(\"Research complete.\")\n",
        "\n",
        "    return research_info_list\n",
        "\n",
        "\n",
        "\n",
        "\n",
        "# Example\n",
        "\n",
        "email = \"\"\"HI there, \\n\n",
        "I am emailing to say that the resort weather was way to cloudy and overcast. \\n\n",
        "I wanted to write a song called 'Here comes the sun but it never came'\n",
        "\n",
        "What should be the weather in Arizona in April?\n",
        "\n",
        "I really hope you fix this next time.\n",
        "\n",
        "Thanks,\n",
        "George\n",
        "\"\"\"\n",
        "\n",
        "email_cat = run_email_cat_agent(email)\n",
        "\n",
        "research_list = run_research_agent(email, email_cat)\n",
        "\n",
        "#research_list[0]"
      ],
      "metadata": {
        "colab": {
          "base_uri": "https://localhost:8080/"
        },
        "id": "Zj3CJ1q_nGsz",
        "outputId": "b9962004-4075-4d60-9b20-64bbc0c396a9"
      },
      "execution_count": 109,
      "outputs": [
        {
          "output_type": "stream",
          "name": "stdout",
          "text": [
            "---EMAIL CAT AGENT---\n",
            "Email category: customer_complaint\n",
            "---RESEARCH AGENT---\n",
            "Search keywords:\n",
            " ['Arizona weather April', 'cloudy resort weather', 'average weather conditions', 'weather complaints', 'vacation weather expectations']\n",
            "Running tavily search...\n",
            "Research complete.\n"
          ]
        }
      ]
    },
    {
      "cell_type": "code",
      "source": [
        "def run_email_writer_agent(email, email_cat, research_info_list):\n",
        "\n",
        "    print(\"---EMAIL WRITER AGENT---\")\n",
        "\n",
        "    system_message = \"\"\"\n",
        "    You are the Email Writer Agent take the CUSTOMER_EMAIL below  from a human that has emailed our company email address, the email_category \\\n",
        "    that the categorizer agent gave it and the research from the research agent and \\\n",
        "    write a helpful email in a thoughtful and friendly way.\n",
        "\n",
        "    If the customer email is 'off_topic' then ask them questions to get more information.\n",
        "    If the customer email is 'customer_complaint' then try to assure we value them and that we are addressing their issues.\n",
        "    If the customer email is 'customer_feedback' then try to assure we value them and that we are addressing their issues.\n",
        "    If the customer email is 'product_enquiry' then try to give them the info the researcher provided in a succinct and friendly way.\n",
        "    If the customer email is 'price_equiry' then try to give the pricing info they requested.\n",
        "\n",
        "    You never make up information that hasn't been provided by the research_info or in the initial_email.\n",
        "    Always sign off the emails in appropriate manner and from Sarah the Resident Manager.\n",
        "\n",
        "    Return a JSON string with a single key 'email_draft' and no premable or explaination.\n",
        "    \"\"\"\n",
        "\n",
        "    input = f\"\"\"\n",
        "    CUSTOMER_EMAIL: {email}\n",
        "    EMAIL_CATEGORY: {email_cat}\n",
        "    RESEARCH_INFO: {research_info_list}\n",
        "    \"\"\"\n",
        "\n",
        "    # Create the message history that includes system and user roles\n",
        "    message_history = create_message_history(system_message, input)\n",
        "\n",
        "    # Prompt the llm\n",
        "    response = make_llm_api_call(message_history)\n",
        "\n",
        "    # Extract the response from the json string\n",
        "    response = replace_items_in_string(response)\n",
        "\n",
        "    # Remove leading and trailing spaces\n",
        "    response = response.strip()\n",
        "\n",
        "    print(\"Email writing complete.\")\n",
        "    print(\"Final email:\\n\\n\", response)\n",
        "\n",
        "    return response\n",
        "\n",
        "\n",
        "\n",
        "# Example\n",
        "\n",
        "\n",
        "email = \"\"\"HI there, \\n\n",
        "I am emailing to say that the resort weather was way to cloudy and overcast. \\n\n",
        "I wanted to write a song called 'Here comes the sun but it never came'\n",
        "\n",
        "What should be the weather in Arizona in April?\n",
        "\n",
        "I really hope you fix this next time.\n",
        "\n",
        "Thanks,\n",
        "George\n",
        "\"\"\"\n",
        "\n",
        "email_cat = run_email_cat_agent(email)\n",
        "\n",
        "research_list = run_research_agent(email, email_cat)\n",
        "\n",
        "final_email = run_email_writer_agent(email, email_cat, research_list)\n",
        "\n",
        "#print(final_email)\n"
      ],
      "metadata": {
        "colab": {
          "base_uri": "https://localhost:8080/"
        },
        "id": "qwrCN5rBnGcy",
        "outputId": "9c2d617e-1a05-4843-c88b-e1b477007e97"
      },
      "execution_count": 114,
      "outputs": [
        {
          "output_type": "stream",
          "name": "stdout",
          "text": [
            "---EMAIL CAT AGENT---\n",
            "Email category: customer_complaint\n",
            "---RESEARCH AGENT---\n",
            "Search keywords:\n",
            " ['Arizona weather April', 'resort weather forecast', 'cloudy weather complaints', 'weather disappointment', 'travel weather expectations']\n",
            "Running tavily search...\n",
            "Research complete.\n",
            "---EMAIL WRITER AGENT---\n",
            "Email writing complete.\n",
            "Final email:\n",
            "\n",
            " Dear George,\n",
            "\n",
            "Thank you for reaching out to us about your recent experience at our resort. I apologize that the weather didn't meet your expectations. I understand that cloudy weather can be disappointing, especially when you're hoping for sunshine.\n",
            "\n",
            "According to our research, in April, Arizona typically experiences mild temperatures with average highs in the mid-70s to mid-80s Fahrenheit. However, it's not uncommon to have some cloudy days during this time of year.\n",
            "\n",
            "I appreciate your feedback and would like to assure you that we value your opinions and concerns. We will take your comments into consideration to improve our services for future guests.\n",
            "\n",
            "Thank you again for sharing your thoughts with us. If you have any further concerns or questions, please don't hesitate to reach out.\n",
            "\n",
            "Best regards,\n",
            "Sarah, Resident Manager\n"
          ]
        }
      ]
    },
    {
      "cell_type": "code",
      "source": [],
      "metadata": {
        "id": "UQDuCorPdXrz"
      },
      "execution_count": null,
      "outputs": []
    },
    {
      "cell_type": "markdown",
      "source": [
        "# Run the system"
      ],
      "metadata": {
        "id": "9VHgKWShdUqp"
      }
    },
    {
      "cell_type": "code",
      "source": [
        "email1 = \"\"\"HI there, \\n\n",
        "I am emailing to say that the resort weather was way to cloudy and overcast. \\n\n",
        "I wanted to write a song called 'Here comes the sun but it never came'\n",
        "\n",
        "What should be the weather in Arizona in April?\n",
        "\n",
        "I really hope you fix this next time.\n",
        "\n",
        "Thanks,\n",
        "George\n",
        "\"\"\"\n",
        "\n",
        "email2 = \"\"\"HI there, \\n\n",
        "I am emailing to say that I had a wonderful stay at your resort last week. \\n\n",
        "\n",
        "I really appreaciate what your staff did\n",
        "\n",
        "Thanks,\n",
        "Paul\n",
        "\"\"\"\n",
        "\n",
        "\n",
        "# Initialize variables\n",
        "email = email1\n",
        "research_list = \"\"\n",
        "\n",
        "email_cat = run_email_cat_agent(email)\n",
        "\n",
        "router_decision = run_router_agent(email, email_cat)\n",
        "\n",
        "if router_decision == \"to_research_agent\":\n",
        "    research_list = run_research_agent(email, email_cat)\n",
        "\n",
        "final_email = run_email_writer_agent(email, email_cat, research_list)"
      ],
      "metadata": {
        "colab": {
          "base_uri": "https://localhost:8080/"
        },
        "id": "PE78ZwX-ZXKl",
        "outputId": "5a4b2a9b-d196-4212-bf3f-de7d9a4ad3cf"
      },
      "execution_count": 122,
      "outputs": [
        {
          "output_type": "stream",
          "name": "stdout",
          "text": [
            "---EMAIL CAT AGENT---\n",
            "Email category: customer_complaint\n",
            "---ROUTER AGENT---\n",
            "Router decision: to_research_agent\n",
            "---RESEARCH AGENT---\n",
            "Search keywords:\n",
            " ['Arizona weather April', 'overcast weather', 'resort weather', 'Arizona climate', 'April weather forecast']\n",
            "Running tavily search...\n",
            "Research complete.\n",
            "---EMAIL WRITER AGENT---\n",
            "Email writing complete.\n",
            "Final email:\n",
            "\n",
            " Dear George,\n",
            "\n",
            "Thank you for reaching out to us about your recent experience at our resort. I'm so sorry to hear that the weather didn't quite live up to your expectations. We understand how frustrating it can be when the sun doesn't shine as brightly as we'd like.\n",
            "\n",
            "Regarding your question about the weather in Arizona in April, our research suggests that it's usually mild and pleasant, with average high temperatures ranging from the mid-70s to the mid-80s Fahrenheit (23-30°C). Of course, weather can be unpredictable, and it's not uncommon to experience some cloudy days during that time of year.\n",
            "\n",
            "We appreciate your feedback and would like to assure you that we're doing our best to provide the best possible experience for our guests, including making the most of the weather. We're always looking for ways to improve, and your input is invaluable to us.\n",
            "\n",
            "Thank you again for sharing your thoughts with us, and we hope to have the opportunity to welcome you back to our resort in the future.\n",
            "\n",
            "Best regards,\n",
            "Sarah, Resident Manager\n"
          ]
        }
      ]
    },
    {
      "cell_type": "code",
      "source": [],
      "metadata": {
        "id": "AkiH_dSTZXHO"
      },
      "execution_count": null,
      "outputs": []
    },
    {
      "cell_type": "code",
      "source": [],
      "metadata": {
        "id": "fZLpFq4tvmG7"
      },
      "execution_count": 100,
      "outputs": []
    }
  ]
}