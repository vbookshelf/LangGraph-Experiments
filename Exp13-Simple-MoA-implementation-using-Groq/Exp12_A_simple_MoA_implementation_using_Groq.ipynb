{
  "nbformat": 4,
  "nbformat_minor": 0,
  "metadata": {
    "colab": {
      "provenance": []
    },
    "kernelspec": {
      "name": "python3",
      "display_name": "Python 3"
    },
    "language_info": {
      "name": "python"
    }
  },
  "cells": [
    {
      "cell_type": "code",
      "execution_count": 1,
      "metadata": {
        "id": "gsE5rhFuCiQj"
      },
      "outputs": [],
      "source": [
        "# Mixture-of-Agents Enhances Large Language Model Capabilities\n",
        "# https://arxiv.org/abs/2406.04692\n",
        "\n",
        "# MoA - GitHub\n",
        "# https://github.com/togethercomputer/MoA/tree/main\n",
        "\n",
        "# Mixture of Agents TURBO Tutorial 🚀 Better Than GPT4o AND Fast?!\n",
        "# (Matthew Berman)\n",
        "# https://www.youtube.com/watch?v=BKyxMreb3mk&t=604s"
      ]
    },
    {
      "cell_type": "code",
      "source": [
        "# Example prompts\n",
        "# ChatGPT\n",
        "# https://chatgpt.com/c/d410922d-f4b6-45ac-9c66-b3a729098253\n",
        "\n",
        "proposer_prompt = [{\"role\": \"user\", \"content\": \"Top things to do in NYC\"}]\n",
        "\n",
        "proposer_prompt_w_refs = [\n",
        "    {\"role\": \"user\", \"content\": \"Top things to do in NYC\"},\n",
        "    {\"role\": \"assistant\", \"content\": \"Visit Central Park.\"},\n",
        "    {\"role\": \"assistant\", \"content\": \"See a Broadway show.\"},\n",
        "    {\"role\": \"assistant\", \"content\": \"Explore the Metropolitan Museum of Art.\"},\n",
        "    {\"role\": \"assistant\", \"content\": \"Walk across the Brooklyn Bridge.\"}\n",
        "]\n",
        "\n",
        "aggregator_prompt = [\n",
        "    {\"role\": \"system\", \"content\": \"You have been provided with a set of responses from various open-source models to the latest user query. Your task is to synthesize these responses into a single, high-quality response. It is crucial to critically evaluate the information provided in these responses, recognizing that some of it may be biased or incorrect. Your response should not simply replicate the given answers but should offer a refined, accurate, and comprehensive reply to the instruction. Ensure your response is well-structured, coherent, and adheres to the highest standards of accuracy and reliability.\\n\\nResponses from models:\"},\n",
        "    {\"role\": \"user\", \"content\": \"Top things to do in NYC\"},\n",
        "    {\"role\": \"assistant\", \"content\": \"Visit Central Park.\"},\n",
        "    {\"role\": \"assistant\", \"content\": \"See a Broadway show.\"},\n",
        "    {\"role\": \"assistant\", \"content\": \"Explore the Metropolitan Museum of Art.\"},\n",
        "    {\"role\": \"assistant\", \"content\": \"Walk across the Brooklyn Bridge.\"}\n",
        "]"
      ],
      "metadata": {
        "id": "Mb9PvUi48o8K"
      },
      "execution_count": 2,
      "outputs": []
    },
    {
      "cell_type": "code",
      "source": [
        "!pip -q install groq"
      ],
      "metadata": {
        "id": "GI-8V6WVCpC8",
        "colab": {
          "base_uri": "https://localhost:8080/"
        },
        "outputId": "bb9d22bd-dabf-477a-a409-c1b54829f941"
      },
      "execution_count": 3,
      "outputs": [
        {
          "output_type": "stream",
          "name": "stdout",
          "text": [
            "\u001b[2K     \u001b[90m━━━━━━━━━━━━━━━━━━━━━━━━━━━━━━━━━━━━━━━━\u001b[0m \u001b[32m103.5/103.5 kB\u001b[0m \u001b[31m1.4 MB/s\u001b[0m eta \u001b[36m0:00:00\u001b[0m\n",
            "\u001b[2K     \u001b[90m━━━━━━━━━━━━━━━━━━━━━━━━━━━━━━━━━━━━━━━━\u001b[0m \u001b[32m75.6/75.6 kB\u001b[0m \u001b[31m2.6 MB/s\u001b[0m eta \u001b[36m0:00:00\u001b[0m\n",
            "\u001b[2K     \u001b[90m━━━━━━━━━━━━━━━━━━━━━━━━━━━━━━━━━━━━━━━━\u001b[0m \u001b[32m77.9/77.9 kB\u001b[0m \u001b[31m4.3 MB/s\u001b[0m eta \u001b[36m0:00:00\u001b[0m\n",
            "\u001b[2K     \u001b[90m━━━━━━━━━━━━━━━━━━━━━━━━━━━━━━━━━━━━━━━━\u001b[0m \u001b[32m58.3/58.3 kB\u001b[0m \u001b[31m2.6 MB/s\u001b[0m eta \u001b[36m0:00:00\u001b[0m\n",
            "\u001b[?25h"
          ]
        }
      ]
    },
    {
      "cell_type": "code",
      "source": [],
      "metadata": {
        "id": "yRd5X-eQC6hp"
      },
      "execution_count": 3,
      "outputs": []
    },
    {
      "cell_type": "code",
      "source": [
        "import json\n",
        "import os\n",
        "import re\n",
        "from google.colab import userdata"
      ],
      "metadata": {
        "id": "EdY2JYCQePWH"
      },
      "execution_count": 4,
      "outputs": []
    },
    {
      "cell_type": "markdown",
      "source": [
        "# Define the API clients"
      ],
      "metadata": {
        "id": "Cqxrj_T6C_z1"
      }
    },
    {
      "cell_type": "code",
      "source": [
        "from groq import Groq\n",
        "\n",
        "groq_client = Groq(\n",
        "    api_key=userdata.get('GROQ_API_KEY'),\n",
        ")\n"
      ],
      "metadata": {
        "id": "PzAyFOnWC_d9"
      },
      "execution_count": 5,
      "outputs": []
    },
    {
      "cell_type": "markdown",
      "source": [
        "# What is the objective?\n",
        "\n",
        "- Create a simple Mixture of Agents (MoA) notebook using models from Groq.\n",
        "\n"
      ],
      "metadata": {
        "id": "2Ox3Pq34Eq8I"
      }
    },
    {
      "cell_type": "code",
      "source": [],
      "metadata": {
        "id": "eXpFe86y6DOF"
      },
      "execution_count": 5,
      "outputs": []
    },
    {
      "cell_type": "markdown",
      "source": [
        "# Create a list of agents\n",
        "\n",
        "AGENTS\n",
        "1. proposer_agent\n",
        "2. aggregator_agent\n"
      ],
      "metadata": {
        "id": "33Z_T0CgFYif"
      }
    },
    {
      "cell_type": "markdown",
      "source": [
        "# Helper functions"
      ],
      "metadata": {
        "id": "LwW76J3yJ5QN"
      }
    },
    {
      "cell_type": "code",
      "source": [
        "def create_message_history(system_message, user_input):\n",
        "\n",
        "    \"\"\"\n",
        "    Create a message history messages list.\n",
        "    Args:\n",
        "        system_message (str): The system message\n",
        "        user_query (str): The user input\n",
        "    Returns:\n",
        "        A list of dicts in OpenAi chat format\n",
        "    \"\"\"\n",
        "\n",
        "    message_history = [\n",
        "                        {\n",
        "                            \"role\": \"system\",\n",
        "                            \"content\": system_message\n",
        "                        },\n",
        "                        {\n",
        "                            \"role\": \"user\",\n",
        "                            \"content\": user_input\n",
        "                        }\n",
        "                    ]\n",
        "\n",
        "    return message_history\n",
        "\n"
      ],
      "metadata": {
        "id": "pT97E6mJsPi0"
      },
      "execution_count": 6,
      "outputs": []
    },
    {
      "cell_type": "markdown",
      "source": [
        "# Define the reference and aggregator models"
      ],
      "metadata": {
        "id": "IO6TGgBo5_Gd"
      }
    },
    {
      "cell_type": "code",
      "source": [
        "reference_models = [\n",
        "    \"llama3-8b-8192\",\n",
        "    \"llama3-70b-8192\",\n",
        "    \"mixtral-8x7b-32768\",\n",
        "    \"gemma-7b-it\",\n",
        "    #\"gemma2-9b-it\"\n",
        "]\n",
        "\n",
        "aggregator_model = \"llama3-70b-8192\"\n",
        "\n",
        "len(reference_models)"
      ],
      "metadata": {
        "colab": {
          "base_uri": "https://localhost:8080/"
        },
        "id": "18Bypa9P5_ub",
        "outputId": "293bdb3c-bf58-406e-ade3-9d0f631a9c51"
      },
      "execution_count": 7,
      "outputs": [
        {
          "output_type": "execute_result",
          "data": {
            "text/plain": [
              "4"
            ]
          },
          "metadata": {},
          "execution_count": 7
        }
      ]
    },
    {
      "cell_type": "markdown",
      "source": [
        "# Set up the LLMs and test them"
      ],
      "metadata": {
        "id": "0reljPhbezOM"
      }
    },
    {
      "cell_type": "code",
      "source": [
        "def make_llm_api_call(message_history, model_name):\n",
        "\n",
        "    response = groq_client.chat.completions.create(\n",
        "                        messages=message_history,\n",
        "                        model=model_name,\n",
        "                        temperature=0.7,\n",
        "                        max_tokens=2048\n",
        "                    )\n",
        "\n",
        "    response_text = response.choices[0].message.content\n",
        "\n",
        "    return response_text\n",
        "\n",
        "\n",
        "# Example\n",
        "\n",
        "system_message = \"Your name is Molly.\"\n",
        "user_message = \"What's your name?\"\n",
        "\n",
        "message_history = create_message_history(system_message, user_message)\n",
        "\n",
        "# Check that all the models are working\n",
        "for ref_model in reference_models:\n",
        "\n",
        "    response = make_llm_api_call(message_history, ref_model)\n",
        "\n",
        "    print(ref_model)\n",
        "    print(response)\n",
        "    print()"
      ],
      "metadata": {
        "colab": {
          "base_uri": "https://localhost:8080/"
        },
        "id": "eZ-R0vrQezl2",
        "outputId": "326e6486-f8f2-4a07-e79b-7882dac25fab"
      },
      "execution_count": 8,
      "outputs": [
        {
          "output_type": "stream",
          "name": "stdout",
          "text": [
            "llama3-8b-8192\n",
            "My name is Molly! Nice to meet you!\n",
            "\n",
            "llama3-70b-8192\n",
            "My name is Molly! Nice to meet you!\n",
            "\n",
            "mixtral-8x7b-32768\n",
            "I'm an artificial intelligence and don't have a personal name, but you can call me Molly if you'd like. How can I assist you today?\n",
            "\n",
            "(Note: As a assistant, I don't have a personal identity or consciousness, but I'm here to help answer your questions and complete tasks to the best of my ability. )\n",
            "\n",
            "gemma-7b-it\n",
            "My name is Molly.\n",
            "\n"
          ]
        }
      ]
    },
    {
      "cell_type": "markdown",
      "source": [
        "# Set up the Agents"
      ],
      "metadata": {
        "id": "kGZoKXk4fDX4"
      }
    },
    {
      "cell_type": "code",
      "source": [
        "def run_proposer_agent(user_query, ref_response_list, model_name):\n",
        "\n",
        "    print(F\"---PROPOSER AGENT: {model_name}---\")\n",
        "\n",
        "    prop_system_message = f\"\"\"This is a set of responses from various\n",
        "    open-source models to the latest user query.\n",
        "\n",
        "    ### Responses from models: {ref_response_list}\n",
        "    \"\"\"\n",
        "\n",
        "    if len(ref_response_list) != 0:\n",
        "        prop_system_message = \"You are a helpful assistant.\"\n",
        "\n",
        "\n",
        "    message_history = [\n",
        "        {\"role\": \"system\", \"content\": prop_system_message},\n",
        "        {\"role\": \"user\", \"content\": user_query}\n",
        "        ]\n",
        "\n",
        "    #if len(ref_response_list) != 0:\n",
        "\n",
        "        #for ref in ref_response_list:\n",
        "            #message = {\"role\": \"assistant\", \"content\": ref}\n",
        "            #message_history.append(message)\n",
        "\n",
        "\n",
        "    # Prompt the llm\n",
        "    response = make_llm_api_call(message_history, model_name)\n",
        "\n",
        "    #print(\"Ref responses:\", ref_response_list)\n",
        "    print(\"New response:\", response)\n",
        "    print()\n",
        "\n",
        "    return response\n",
        "\n",
        "\n",
        "\n",
        "# Example\n",
        "\n",
        "#model_name = reference_models[0]\n",
        "\n",
        "for model_name in reference_models:\n",
        "\n",
        "    user_query = \"Top things to do in NYC\"\n",
        "\n",
        "    ref_response_list = [\n",
        "        \"Visit Central Park.\",\n",
        "        \"See a Broadway show.\",\n",
        "        \"Explore the Metropolitan Museum of Art.\",\n",
        "        \"Walk across the Brooklyn Bridge.\"\n",
        "    ]\n",
        "\n",
        "    # Prompt the chat_agent\n",
        "    response = run_proposer_agent(user_query, ref_response_list, model_name)\n"
      ],
      "metadata": {
        "colab": {
          "base_uri": "https://localhost:8080/"
        },
        "id": "c67LzbXufDJc",
        "outputId": "0c71bfa5-1712-4544-9f98-7d10afbe9a0c"
      },
      "execution_count": 9,
      "outputs": [
        {
          "output_type": "stream",
          "name": "stdout",
          "text": [
            "---PROPOSER AGENT: llama3-8b-8192---\n",
            "New response: The city that never sleeps! New York City is a vibrant and exciting place to visit, with endless options for entertainment, culture, and adventure. Here are some of the top things to do in NYC:\n",
            "\n",
            "1. **Visit iconic landmarks:** The Statue of Liberty, Central Park, Times Square, the Empire State Building, and the 9/11 Memorial & Museum are all must-see attractions.\n",
            "\n",
            "2. **Explore world-class museums:** The Metropolitan Museum of Art, the Museum of Modern Art (MoMA), the American Museum of Natural History, and the Guggenheim Museum are just a few of the many world-class museums in NYC.\n",
            "\n",
            "3. **Take a stroll through iconic neighborhoods:** Visit trendy neighborhoods like SoHo, Greenwich Village, and Williamsburg, and explore their unique shops, restaurants, and street art.\n",
            "\n",
            "4. **Enjoy the performing arts:** Catch a Broadway show, visit the Metropolitan Opera House, or attend a concert at iconic venues like Radio City Music Hall or Carnegie Hall.\n",
            "\n",
            "5. **Walk across the Brooklyn Bridge:** For spectacular views of the Manhattan skyline, walk across the Brooklyn Bridge and take in the sights and sounds of the city.\n",
            "\n",
            "6. **Visit famous markets:** Chelsea Market, Smorgasburg, and the Brooklyn Flea offer a taste of NYC's diverse culinary scene, with everything from artisanal cheeses to gourmet grilled cheese.\n",
            "\n",
            "7. **Catch a sports game:** Catch a Yankees game at Yankee Stadium, a Mets game at Citi Field, or a basketball game at Madison Square Garden.\n",
            "\n",
            "8. **Take a food tour:** NYC is a food lover's paradise, with cuisines from around the world represented in its many restaurants and food carts. Take a food tour to sample the best of the city's culinary scene.\n",
            "\n",
            "9. **Visit the High Line:** This elevated park built on an old rail line offers stunning views of the Hudson River and the city, as well as public art installations and gardens.\n",
            "\n",
            "10. **Attend a TV show taping:** NYC is home to many TV shows, including Saturday Night Live, The Tonight Show Starring Jimmy Fallon, and Good Morning America. Attend a live taping for a unique behind-the-scenes look at the world of television.\n",
            "\n",
            "11. **Go shopping:** From iconic department stores like Macy's and Bloomingdale's to trendy boutiques and vintage shops, NYC has something for every shopper.\n",
            "\n",
            "12. **Take a day trip:** NYC is surrounded by beautiful destinations, including the Hamptons, the Catskills, and the Statue of Liberty's Ellis Island.\n",
            "\n",
            "13. **Attend a festival or event:** NYC hosts many festivals and events throughout the year, including the Macy's Thanksgiving Day Parade, the Rockefeller Center Christmas tree lighting, and the Tribeca Film Festival.\n",
            "\n",
            "14. **Visit the New York Public Library:** This stunning Beaux-Arts building is home to over 55 million items, including rare books and manuscripts.\n",
            "\n",
            "15. **Go to a rooftop bar:** NYC's rooftop bars offer stunning views of the city and a chance to relax and unwind after a long day of exploring.\n",
            "\n",
            "These are just a few of the many amazing things to do in NYC. Whether you're interested in history, art, food, or entertainment, there's something for everyone in the city that never sleeps!\n",
            "\n",
            "---PROPOSER AGENT: llama3-70b-8192---\n",
            "New response: The city that never sleeps! New York City is a bustling metropolis with endless options for entertainment, culture, and adventure. Here are some of the top things to do in NYC:\n",
            "\n",
            "**Iconic Landmarks:**\n",
            "\n",
            "1. **Statue of Liberty and Ellis Island**: Take a ferry to Liberty Island to see up close the iconic statue and learn about its history at the nearby Ellis Island Immigration Museum.\n",
            "2. **Central Park**: A tranquil oasis in the middle of Manhattan, perfect for a stroll, picnic, or bike ride.\n",
            "3. **Empire State Building**: For a panoramic view of the city, head to the observation deck of this iconic skyscraper.\n",
            "4. **Grand Central Terminal**: Admire the stunning Beaux-Arts architecture and bustling atmosphere of this famous train station.\n",
            "\n",
            "**Museums and Galleries:**\n",
            "\n",
            "1. **The Metropolitan Museum of Art**: One of the world's largest and most famous museums, with a collection that spans over 5,000 years of human history.\n",
            "2. **The Museum of Modern Art (MoMA)**: A must-visit for modern art enthusiasts, with a collection that includes works by Warhol, Pollock, and Matisse.\n",
            "3. **American Museum of Natural History**: Explore the wonders of the natural world, from dinosaurs to space exploration.\n",
            "4. **Guggenheim Museum**: Designed by Frank Lloyd Wright, this museum features an impressive collection of modern and contemporary art.\n",
            "\n",
            "**Neighborhoods and Markets:**\n",
            "\n",
            "1. **Times Square**: The heart of New York's entertainment district, known for its bright lights, giant billboards, and lively street performers.\n",
            "2. **Greenwich Village**: A charming neighborhood with a rich history, known for its bohemian vibe, trendy bars, and historic brownstones.\n",
            "3. **Chinatown and Little Italy**: Experience the flavors and cultures of these vibrant neighborhoods, with a wealth of restaurants, shops, and street food.\n",
            "4. **Brooklyn Flea**: A popular weekend market in Williamsburg, featuring local vendors, artisanal goods, and delicious food.\n",
            "\n",
            "**Performing Arts:**\n",
            "\n",
            "1. **Broadway**: Catch a performance of a hit musical or play on the Great White Way.\n",
            "2. **Carnegie Hall**: One of the world's most prestigious concert venues, hosting classical music performances and more.\n",
            "3. **Lincoln Center**: Home to the New York City Ballet, Metropolitan Opera, and Juilliard School, among others.\n",
            "4. **Radio City Music Hall**: This iconic venue hosts concerts, shows, and the famous Rockettes.\n",
            "\n",
            "**Food and Nightlife:**\n",
            "\n",
            "1. **Pizza**: Try a classic New York-style pizza at one of the many iconic joints, like Lombardi's or Joe's Pizza.\n",
            "2. **Bagels**: Grab a fresh, hand-rolled bagel with cream cheese or lox at a classic deli like Russ & Daughters Cafe.\n",
            "3. **Rooftop Bars**: Enjoy a drink with a view at one of the many trendy rooftop bars, like 230 Fifth or the Top of the Strand.\n",
            "4. **Live Music Venues**: Catch a live music performance at iconic venues like Madison Square Garden, Terminal 5, or the Bowery Ballroom.\n",
            "\n",
            "**Seasonal Events:**\n",
            "\n",
            "1. **Macy's Thanksgiving Day Parade**: Watch the iconic parade featuring giant balloons, floats, and performances.\n",
            "2. **Rockefeller Center Christmas Tree Lighting**: Kick off the holiday season with this festive event.\n",
            "3. **SummerStage**: Enjoy free outdoor concerts and performances in Central Park during the summer.\n",
            "4. **Halloween Parade**: Join the spooky fun in Greenwich Village, one of the largest and most creative Halloween parades in the world.\n",
            "\n",
            "These are just a few of the many amazing things to do in NYC. With so much to see and do, you're sure to have an unforgettable experience in the city that never sleeps!\n",
            "\n",
            "---PROPOSER AGENT: mixtral-8x7b-32768---\n",
            "New response: Sure, I'd be happy to help! New York City is a vibrant and exciting place with no shortage of things to see and do. Here are some top activities and attractions that you might consider:\n",
            "\n",
            "1. Statue of Liberty and Ellis Island: Take a ferry to visit these iconic landmarks and learn about their history.\n",
            "2. Central Park: Spend a day exploring this massive urban park, which offers bike rentals, boat rides, walking paths, and plenty of green space.\n",
            "3. Times Square: Experience the bright lights and energy of this famous intersection, which is home to numerous theaters, restaurants, and shops.\n",
            "4. Metropolitan Museum of Art: Visit one of the world's largest and most prestigious art museums, which features a vast collection of works from around the globe.\n",
            "5. Empire State Building: Take in breathtaking views of the city from the observation deck of this iconic skyscraper.\n",
            "6. 9/11 Memorial and Museum: Pay your respects to the victims of the 9/11 attacks and learn about the events of that day at this powerful and moving memorial.\n",
            "7. Brooklyn Bridge: Walk or bike across this historic bridge for stunning views of the city skyline.\n",
            "8. Broadway Shows: See a world-class performance at one of the many theaters on Broadway, which is home to some of the most famous and beloved musicals of all time.\n",
            "9. High Line: Take a stroll along this elevated park, which was built on an old railway line and offers great views of the city and the Hudson River.\n",
            "10. Food and Drink: Try some of the city's famous cuisine, from street food vendors to high-end restaurants, and enjoy a drink at one of the many bars and clubs in the city.\n",
            "\n",
            "These are just a few of the many things to see and do in New York City. With so much to offer, there's something for everyone!\n",
            "\n",
            "---PROPOSER AGENT: gemma-7b-it---\n",
            "New response: ## Top things to do in NYC:\n",
            "\n",
            "**Classic NYC Experiences:**\n",
            "\n",
            "* **See a Broadway Show:** Experience the magic of Broadway with a classic New York musical or play.\n",
            "* **Cruise the Harbor:** Enjoy breathtaking views of the city skyline on a harbor cruise.\n",
            "* **Visit the Statue of Liberty and Ellis Island:** Explore these iconic landmarks and learn about their rich history.\n",
            "* **Walk across the Brooklyn Bridge:** Witness stunning city views from this iconic bridge.\n",
            "* **Explore Greenwich Village:** Wander through this charming neighborhood known for its bohemian vibes and rich history.\n",
            "\n",
            "**Must-See Attractions:**\n",
            "\n",
            "* **Times Square:** Witness the dazzling lights and vibrant atmosphere of this bustling intersection.\n",
            "* **Empire State Building:** Enjoy panoramic views of the city from the tallest building in New York.\n",
            "* **Metropolitan Museum of Art:** Explore a vast collection of art spanning centuries and cultures.\n",
            "* **Central Park:** Escape the hustle and bustle with a stroll or bike ride through this green oasis.\n",
            "* **Top of the Rock:** Take in breathtaking views of the city from this observation deck at Rockefeller Center.\n",
            "\n",
            "**Unique Experiences:**\n",
            "\n",
            "* **Ghost Tour of Greenwich Village:** Uncover the spooky stories of this historic neighborhood.\n",
            "* **Dinner Cruise:** Enjoy a delicious meal while cruising along the Hudson River.\n",
            "* **Comedy Show:** Catch a stand-up comedy show and laugh the night away.\n",
            "* **Museum of the Moving Image:** Explore the history and influence of film and television.\n",
            "* **Secret Garden Tour:** Discover hidden gardens and rooftops of NYC.\n",
            "\n",
            "**For Families:**\n",
            "\n",
            "* **Children's Museum of Manhattan:** Engage in interactive exhibits and programs designed for young children.\n",
            "* **Bronx Zoo:** See animals from around the world in this sprawling zoo.\n",
            "* **Adventure Aquarium:** Marvel at the underwater world with sharks, penguins, and more.\n",
            "* **Museum of Natural History:** Discover fascinating dinosaurs, animals, and fossils.\n",
            "* **Governors Island:** Explore this car-free island with its beaches, bike paths, and historical sites.\n",
            "\n",
            "**Additional Tips:**\n",
            "\n",
            "* **Plan your itinerary:** NYC has so much to offer, so plan your trip in advance to make the most of your time.\n",
            "* **Get around easily:** Purchase a MetroCard for subway and bus travel.\n",
            "* **Consider your budget:** New York can be expensive, so plan your expenses accordingly.\n",
            "* **Explore different neighborhoods:** Each neighborhood in NYC has its own unique character and charm.\n",
            "* **Enjoy the local food scene:** New York is a melting pot of cuisines, so be sure to try some of the local dishes.\n",
            "\n"
          ]
        }
      ]
    },
    {
      "cell_type": "code",
      "source": [
        "def run_aggregator_agent(user_query, ref_response_list, model_name):\n",
        "\n",
        "    print(f\"---AGGREGATOR AGENT: {model_name}---\")\n",
        "\n",
        "    agg_system_message = f\"\"\"You have been provided with a set of responses from various\n",
        "    open-source models to the latest user query. Your task is to synthesize these responses\n",
        "    into a single, high-quality response. It is crucial to critically evaluate the information\n",
        "    provided in these responses, recognizing that some of it may be biased or incorrect.\n",
        "    Your response should not simply replicate the given answers but should offer a refined,\n",
        "    accurate, and comprehensive reply to the instruction. Ensure your response is well-structured,\n",
        "    coherent, and adheres to the highest standards of accuracy and reliability.\n",
        "\n",
        "    ### Responses from models: {ref_response_list}\n",
        "    \"\"\".strip()\n",
        "\n",
        "    message_history = [\n",
        "        {\"role\": \"system\", \"content\": agg_system_message},\n",
        "        {\"role\": \"user\", \"content\": user_query}\n",
        "        ]\n",
        "\n",
        "\n",
        "    #for ref in ref_response_list:\n",
        "       #message = {\"role\": \"assistant\", \"content\": ref}\n",
        "       #message_history.append(message)\n",
        "\n",
        "\n",
        "    # Prompt the llm\n",
        "    response = make_llm_api_call(message_history, model_name)\n",
        "\n",
        "    #print(\"Ref responses:\", ref_response_list)\n",
        "    print(\"New response:\", response)\n",
        "    print()\n",
        "\n",
        "    return response\n",
        "\n",
        "\n",
        "# Example\n",
        "\n",
        "model_name = reference_models[1]\n",
        "\n",
        "user_query = \"Top things to do in NYC\"\n",
        "\n",
        "ref_response_list = [\n",
        "    \"Visit Central Park.\",\n",
        "    \"See a Broadway show.\",\n",
        "    \"Explore the Metropolitan Museum of Art.\",\n",
        "    \"Walk across the Brooklyn Bridge.\"\n",
        "]\n",
        "\n",
        "# Prompt the chat_agent\n",
        "response = run_aggregator_agent(user_query, ref_response_list, model_name)\n"
      ],
      "metadata": {
        "id": "YGTSi3YFRZpJ",
        "colab": {
          "base_uri": "https://localhost:8080/"
        },
        "outputId": "24c6f259-d628-44c6-f219-98df57df1c6d"
      },
      "execution_count": 10,
      "outputs": [
        {
          "output_type": "stream",
          "name": "stdout",
          "text": [
            "---AGGREGATOR AGENT: llama3-70b-8192---\n",
            "New response: New York City, the city that never sleeps, is a treasure trove of exciting experiences and iconic landmarks. Here are some of the top things to do in NYC, carefully curated from a range of expert opinions:\n",
            "\n",
            "First and foremost, a visit to Central Park is a must. This 843-acre green oasis in the heart of Manhattan offers a tranquil escape from the hustle and bustle of city life. Take a leisurely stroll, rent a bike, or enjoy a picnic on the Great Lawn.\n",
            "\n",
            "Next, immerse yourself in the magic of Broadway by catching a performance of a hit musical or play. With dozens of theaters to choose from, you're sure to find a show that suits your taste.\n",
            "\n",
            "Art lovers won't want to miss the Metropolitan Museum of Art, one of the world's largest and most renowned museums. With a collection that spans over 5,000 years of human history, you could easily spend days exploring the Met's vast exhibits.\n",
            "\n",
            "Finally, take in the breathtaking views of the Manhattan skyline with a walk across the iconic Brooklyn Bridge. This engineering marvel offers stunning vistas of the East River and the city's towering skyscrapers.\n",
            "\n",
            "These four activities offer a taste of the diversity and excitement that NYC has to offer. Whether you're interested in nature, culture, art, or architecture, the city has something for everyone. So why wait? Start planning your NYC adventure today!\n",
            "\n"
          ]
        }
      ]
    },
    {
      "cell_type": "code",
      "source": [],
      "metadata": {
        "id": "knJSDj1iHMvX"
      },
      "execution_count": 10,
      "outputs": []
    },
    {
      "cell_type": "markdown",
      "source": [
        "# Run the MoA system"
      ],
      "metadata": {
        "id": "60fMnWajHRHr"
      }
    },
    {
      "cell_type": "code",
      "source": [
        "reference_models = [\n",
        "    \"llama3-8b-8192\",\n",
        "    \"llama3-70b-8192\",\n",
        "    \"mixtral-8x7b-32768\",\n",
        "    \"gemma-7b-it\",\n",
        "    \"gemma2-9b-it\"\n",
        "]\n",
        "\n",
        "aggregator_model = \"llama3-70b-8192\"\n",
        "\n",
        "#user_query = \"Top things to do in NYC\"\n",
        "#user_query = \"Write me ten sentences that end with the word apple.\"\n",
        "user_query = \"Write a one paragraph email to my friend explaining the benefits of a minimalist lifestyle.\"\n",
        "\n",
        "ref_response_list = []\n",
        "\n",
        "\n",
        "def moa_layer(user_query, ref_response_list, reference_models):\n",
        "\n",
        "    response_list = []\n",
        "\n",
        "    for model_name in reference_models:\n",
        "\n",
        "        response = run_proposer_agent(user_query, ref_response_list, model_name)\n",
        "\n",
        "        response_list.append(response)\n",
        "\n",
        "    return response_list\n",
        "\n",
        "\n",
        "print(\"----------\")\n",
        "print(\"Layer_1\")\n",
        "print(\"----------\")\n",
        "# Layer_1\n",
        "ref_response_list = moa_layer(user_query, ref_response_list, reference_models)\n",
        "\n",
        "print(\"----------\")\n",
        "print(\"Layer_2\")\n",
        "print(\"----------\")\n",
        "# Layer_2\n",
        "ref_response_list = moa_layer(user_query, ref_response_list, reference_models)\n",
        "\n",
        "print(\"----------\")\n",
        "print(\"Layer_3\")\n",
        "print(\"----------\")\n",
        "# Layer_3\n",
        "ref_response_list = moa_layer(user_query, ref_response_list, reference_models)\n",
        "\n",
        "print(\"----------\")\n",
        "print(\"Layer_4\")\n",
        "print(\"----------\")\n",
        "# Layer_4\n",
        "response = run_aggregator_agent(user_query, ref_response_list, aggregator_model)\n"
      ],
      "metadata": {
        "colab": {
          "base_uri": "https://localhost:8080/"
        },
        "id": "xIxBy43oHMs9",
        "outputId": "34619f8a-e14f-4193-f36e-0a9e7b96cbcd"
      },
      "execution_count": 11,
      "outputs": [
        {
          "output_type": "stream",
          "name": "stdout",
          "text": [
            "----------\n",
            "Layer_1\n",
            "----------\n",
            "---PROPOSER AGENT: llama3-8b-8192---\n",
            "New response: Here is a one-paragraph email to your friend explaining the benefits of a minimalist lifestyle:\n",
            "\n",
            "\"Hey friend! I've been thinking a lot about simplicity and minimalism lately, and I wanted to share some of the benefits I've discovered with you. Living with fewer possessions and focusing on what's truly important has been a game-changer for me. Not only have I reduced my stress levels and freed up more time for the things I love, but I've also seen a significant decrease in clutter and waste. Plus, the financial benefits are undeniable - less stuff means less to buy, maintain, and eventually get rid of. And let's not forget the mental clarity and sense of freedom that comes with living intentionally. It's not about depriving yourself of things you need or love, but about being mindful of the choices you make and living in alignment with your values. I highly recommend giving it a try - even just a little at a time. Love you!\"\n",
            "\n",
            "---PROPOSER AGENT: llama3-70b-8192---\n",
            "New response: Here is a paragraph email to your friend:\n",
            "\n",
            "\"Hey! I've been thinking a lot about the benefits of living a minimalist lifestyle and I had to share them with you. By simplifying our surroundings and focusing on what's truly important, we can reduce stress and anxiety, save money, and free up time and energy for the things that bring us joy. With fewer possessions to manage and maintain, we can live more intentionally and make more conscious choices about how we spend our time and resources. Plus, living with less can also help reduce our environmental footprint and promote a sense of gratitude and contentment. I've been experimenting with minimalism in my own life and I have to say, it's been truly liberating. I think you might find it really beneficial too - let me know if you want to chat more about it!\"\n",
            "\n",
            "---PROPOSER AGENT: mixtral-8x7b-32768---\n",
            "New response: Dear Friend,\n",
            "\n",
            "I recently came across the concept of minimalist living, and I believe it has numerous benefits that could enhance your life. Minimalism encourages owning fewer possessions and focusing on what truly matters to you. This lifestyle can lead to reduced clutter, increased productivity, and improved mental well-being. By prioritizing experiences over material goods, you can foster stronger relationships and create lasting memories. Additionally, minimalism can help you save money and reduce your environmental impact. Overall, adopting a minimalist lifestyle can lead to a simpler, more intentional, and fulfilling way of living.\n",
            "\n",
            "Best regards,\n",
            "[Your Name]\n",
            "\n",
            "---PROPOSER AGENT: gemma-7b-it---\n",
            "New response: Subject: Have you embraced the minimalist life? 🏠\n",
            "\n",
            "Hey [Friend's name],\n",
            "\n",
            "Have you ever felt overwhelmed by clutter or stressed by having too much stuff? That's where the magic of minimalism comes in! It's about surrounding yourself with only the essentials, leaving room for what truly matters. The benefits go far beyond just physical space. Minimalism can bring peace of mind, reduce stress, and even save you money in the long run. Less stuff means less to clean, repair, or replace. Let me know if you'd like to explore some tips and tricks to start your own minimalist journey!\n",
            "\n",
            "Talk to you soon,\n",
            "[Your name]\n",
            "\n",
            "---PROPOSER AGENT: gemma2-9b-it---\n",
            "New response: Hey [Friend's name],  I've been thinking about simplifying my life lately and exploring minimalism, and it's been surprisingly eye-opening! It's not about deprivation, but rather focusing on what truly matters - experiences, relationships, and personal growth.  By decluttering our possessions, we free up time, energy, and mental space to pursue things that bring us joy and fulfillment. Plus, it's great for the environment! I'm finding it really liberating and thought you might find it interesting too.  \n",
            "\n",
            "\n",
            "\n",
            "\n",
            "\n",
            "----------\n",
            "Layer_2\n",
            "----------\n",
            "---PROPOSER AGENT: llama3-8b-8192---\n",
            "New response: Subject: The Joy of Minimalism: A Simpler, More Fulfilling Life\n",
            "\n",
            "Dear [Friend],\n",
            "\n",
            "As we navigate the chaos of modern life, I've been reflecting on the benefits of embracing a minimalist lifestyle. Living with less has brought a sense of clarity and freedom to my daily routine, allowing me to focus on what truly adds value to my life. With fewer possessions, I've discovered a remarkable reduction in stress, anxiety, and overwhelm. Minimalism has also given me the opportunity to reallocate resources to experiences and relationships that bring me joy, rather than mere possessions. I've found that simplicity has allowed me to appreciate the beauty in the present moment, rather than getting lost in a sea of consumerism. I think you might find that adopting a minimalist approach would have a similar positive impact on your life.\n",
            "\n",
            "Best, [Your Name]\n",
            "\n",
            "---PROPOSER AGENT: llama3-70b-8192---\n",
            "New response: Here's a paragraph email to your friend on the benefits of a minimalist lifestyle:\n",
            "\n",
            "\"Hey! I've been thinking a lot about our conversations on simplicity and decluttering, and I wanted to share with you the amazing benefits I've experienced since adopting a more minimalist lifestyle. Not only has it freed up physical space in my home, but it's also cleared mental clutter and reduced stress. With fewer possessions to manage, I've found I have more time and energy for the things that truly matter to me, like spending time with loved ones, pursuing hobbies, and focusing on personal growth. Plus, living with less has also helped me save money, reduce waste, and feel more intentional and focused on my goals. I highly recommend giving it a try - even small steps towards minimalism can make a big difference! Let me know if you want to chat more about it.\"\n",
            "\n",
            "---PROPOSER AGENT: mixtral-8x7b-32768---\n",
            "New response: Dear Friend,\n",
            "\n",
            "I wanted to share with you the benefits of adopting a minimalist lifestyle. By focusing on owning and using fewer possessions, minimalism can help reduce stress and anxiety, increase productivity and focus, and provide a sense of freedom and flexibility. It encourages intentional living, where every item you own serves a purpose and brings you joy, rather than cluttering your space and mind. Additionally, minimalism can have a positive impact on the environment by reducing waste and consumption. I believe that exploring this way of living could bring about many positive changes in your life.\n",
            "\n",
            "Best regards,\n",
            "[Your Name]\n",
            "\n",
            "---PROPOSER AGENT: gemma-7b-it---\n",
            "New response: Subject: Have you considered going minimalist? 💡\n",
            "\n",
            "Hey [Friend's name],\n",
            "\n",
            "Have you ever felt overwhelmed by clutter, or stressed by having too much stuff? Maybe it's time to explore the amazing benefits of a minimalist lifestyle! It's about intentionally surrounding yourself with only the essentials, focusing on experiences and relationships, and freeing yourself from the burden of material possessions. You'd be surprised how much calmer and happier you can feel with less! Less stuff means less to clean, less to buy, and more time to focus on what truly matters. Let me know if you'd like to explore this further and I can share some inspiring resources to get you started. 😊\n",
            "\n",
            "Best,\n",
            "\n",
            "[Your name]\n",
            "\n",
            "---PROPOSER AGENT: gemma2-9b-it---\n",
            "New response: Hey [Friend's Name], I've been exploring the minimalist lifestyle lately and wanted to share some of the benefits I've noticed! It's been really freeing to declutter my space and focus on experiences over things. I have less stress, more time for the things I love, and I feel a greater sense of purpose. It's not about deprivation, but rather about being intentional with what I own and how I spend my time.  Maybe we could chat about it sometime?\n",
            "\n",
            "\n",
            "----------\n",
            "Layer_3\n",
            "----------\n",
            "---PROPOSER AGENT: llama3-8b-8192---\n",
            "New response: Subject: The Freedom of Minimalism\n",
            "\n",
            "Hey [Friend's Name],\n",
            "\n",
            "I've been reading a lot about minimalism lately and I wanted to share some of the benefits with you. Living with fewer possessions can be incredibly freeing! By simplifying your surroundings, you can reduce stress, increase productivity, and even save money. Without the burden of clutter, you'll have more time and energy to focus on the things that truly matter to you. Plus, minimalism encourages a more mindful approach to consumption, helping you to prioritize quality over quantity and make more intentional purchasing decisions. I've found that it's also helped me to develop a greater sense of gratitude and appreciation for the things I do have, rather than constantly desiring more. I think it's definitely worth considering, and I'd love to hear your thoughts on it!\n",
            "\n",
            "Best, [Your Name]\n",
            "\n",
            "---PROPOSER AGENT: llama3-70b-8192---\n",
            "New response: Here is a paragraph email to your friend about the benefits of a minimalist lifestyle:\n",
            "\n",
            "\"Hey! I've been thinking a lot about simplicity and minimalism lately, and I wanted to share with you why I think it's been a game-changer for me. Living with fewer possessions and distractions has allowed me to focus on what truly adds value to my life. With less clutter and noise, I've been able to clear mental space for creativity, relationships, and personal growth. Plus, it's amazing how much more intentional and present I feel when I'm not constantly bogged down by stuff. I've also noticed that I save money, reduce stress, and have more free time to pursue my passions. I'm not saying it's easy, but I truly believe that embracing minimalism can lead to a more fulfilling and purpose-driven life. Would love to chat more about it if you're interested!\"\n",
            "\n",
            "---PROPOSER AGENT: mixtral-8x7b-32768---\n",
            "New response: Dear Friend,\n",
            "\n",
            "I wanted to share with you the benefits of adopting a minimalist lifestyle. By reducing the number of possessions you own, you can experience greater freedom, reduced stress, and more time to focus on the things that truly matter. A minimalist lifestyle can also lead to financial benefits, as you'll be spending less money on material things and more on experiences and memories. Additionally, minimalism can have a positive impact on the environment, as you'll be consuming less and producing less waste. I highly encourage you to consider incorporating minimalist principles into your life and see the positive changes it can bring.\n",
            "\n",
            "Best,\n",
            "[Your Name]\n",
            "\n",
            "---PROPOSER AGENT: gemma-7b-it---\n",
            "New response: Subject: Have you considered a minimalist lifestyle? 💫\n",
            "\n",
            "Hey [Friend's name],\n",
            "\n",
            "Have you ever felt overwhelmed by clutter, or stressed by having too much \"stuff\"? It might be time to consider a minimalist lifestyle! It's all about surrounding yourself with only the essentials, freeing up space, energy, and resources. You'll discover more joy in what you already have, reduce stress and anxiety, and gain a newfound sense of freedom and purpose. Less truly is more! 😉 Let me know if you'd like to explore this further, and I can share some helpful tips and resources.\n",
            "\n",
            "Best,\n",
            "\n",
            "Your helpful assistant 🤖\n",
            "\n",
            "---PROPOSER AGENT: gemma2-9b-it---\n",
            "New response: Hey [Friend's Name],\n",
            "\n",
            "I've been exploring minimalism lately and I wanted to share some of the benefits I've noticed. It's been amazing how decluttering my space has freed up both physical and mental room. I feel less stressed, more organized, and have even saved money by buying less stuff! Plus, it's really helped me focus on experiences and relationships rather than material possessions. I think you might find it interesting to check out too! \n",
            "\n",
            "\n",
            "\n",
            "\n",
            "\n",
            "----------\n",
            "Layer_4\n",
            "----------\n",
            "---AGGREGATOR AGENT: llama3-70b-8192---\n",
            "New response: Here's a synthesized response:\n",
            "\n",
            "\"Hey [Friend's Name], I've been exploring the concept of minimalism lately and I wanted to share with you the incredible benefits I've discovered. By living with fewer possessions and distractions, I've experienced a sense of freedom and clarity that's hard to put into words. With less clutter and noise, I've been able to focus on what truly adds value to my life, and I've noticed a significant reduction in stress and anxiety. Plus, I've saved money, have more free time to pursue my passions, and have developed a greater appreciation for the things I do have. I've also found that minimalism encourages a more mindful approach to consumption, helping me prioritize quality over quantity and make more intentional purchasing decisions. I think it's definitely worth considering, and I'd love to chat more about it with you if you're interested!\"\n",
            "\n"
          ]
        }
      ]
    },
    {
      "cell_type": "code",
      "source": [],
      "metadata": {
        "id": "V1njA0u4VNhB"
      },
      "execution_count": 11,
      "outputs": []
    }
  ]
}